{
 "cells": [
  {
   "cell_type": "markdown",
   "metadata": {},
   "source": [
    "## 9.3 Combining and Differencing\n",
    "### 9.3.1 Normalized Difference Vegetation Index"
   ]
  },
  {
   "cell_type": "code",
   "execution_count": null,
   "metadata": {},
   "outputs": [],
   "source": [
    "from netCDF4 import Dataset\n",
    "import matplotlib.pyplot as plt\n",
    "import numpy as np, numpy.ma as ma"
   ]
  },
  {
   "cell_type": "code",
   "execution_count": null,
   "metadata": {},
   "outputs": [],
   "source": [
    "# Import veggie channel (ABI Channel 3)\n",
    "fname = 'data/goes-meso/ndvi/OR_ABI-L1b-RadM1-M6C03_G16_s20192091147504_e20192091147562_c20192091148025.nc'\n",
    "goesnc = Dataset(fname, 'r')\n",
    "veggie = goesnc.variables['Rad'][:]\n",
    "\n",
    "# Import red channel (ABI Channel 2)\n",
    "fname = 'data/goes-meso/ndvi/OR_ABI-L1b-RadM1-M6C02_G16_s20192091147504_e20192091147562_c20192091147599.nc'\n",
    "goesnc = Dataset(fname, 'r')\n",
    "red = goesnc.variables['Rad'][:]"
   ]
  },
  {
   "cell_type": "code",
   "execution_count": null,
   "metadata": {},
   "outputs": [],
   "source": [
    "red = red[::2, ::2]"
   ]
  },
  {
   "cell_type": "code",
   "execution_count": null,
   "metadata": {},
   "outputs": [],
   "source": [
    "img = (veggie-red)/(veggie+red)\n",
    "\n",
    "plt.figure(figsize=[12,12])\n",
    "plt.imshow(img, vmin=-0.5, vmax=0.5, cmap=plt.get_cmap(\"BrBG\"))\n",
    "plt.colorbar()\n",
    "plt.show()"
   ]
  },
  {
   "cell_type": "code",
   "execution_count": null,
   "metadata": {},
   "outputs": [],
   "source": [
    "fname = 'data/goes-meso/ndvi/OR_ABI-L2-ACMM1-M6_G16_s20192091147504_e20192091147562_c20192091148155.nc'\n",
    "goesnc = Dataset(fname, 'r')\n",
    "cloud_mask = goesnc.variables['BCM'][:]"
   ]
  },
  {
   "cell_type": "code",
   "execution_count": null,
   "metadata": {},
   "outputs": [],
   "source": [
    "cloud_mask_big = np.repeat(np.repeat(cloud_mask, 2, axis=1), 2, axis=0)"
   ]
  },
  {
   "cell_type": "code",
   "execution_count": null,
   "metadata": {},
   "outputs": [],
   "source": [
    "plt.figure(figsize=[12,12])\n",
    "plt.imshow(cloud_mask_big, cmap=plt.get_cmap(\"binary\"))\n",
    "plt.colorbar()\n",
    "plt.show()"
   ]
  },
  {
   "cell_type": "code",
   "execution_count": null,
   "metadata": {},
   "outputs": [],
   "source": [
    "imgMasked = ma.masked_array(img, mask=cloud_mask_big, fill_value=np.nan)"
   ]
  },
  {
   "cell_type": "code",
   "execution_count": null,
   "metadata": {},
   "outputs": [],
   "source": [
    "plt.figure(figsize=[12,12])\n",
    "plt.imshow(ma.filled(imgMasked), vmin=-0.5, vmax=0.5, cmap=plt.get_cmap(\"BrBG\"))\n",
    "plt.gca().set_facecolor(\"black\")\n",
    "\n",
    "plt.colorbar()\n",
    "plt.show()"
   ]
  },
  {
   "cell_type": "markdown",
   "metadata": {},
   "source": [
    "### 9.3.2 GOES-16 Sandwich Product"
   ]
  },
  {
   "cell_type": "code",
   "execution_count": null,
   "metadata": {},
   "outputs": [],
   "source": [
    "# Import veggie channel (ABI Channel 13, 10.3)\n",
    "fname = \"data/goes-meso/michael/OR_ABI-L1b-RadM1-M3C13_G16_s20182822019282_e20182822019350_c20182822019384.nc\"\n",
    "g16nc = Dataset(fname, 'r')\n",
    "C13 = g16nc.variables['Rad'][:]\n",
    "\n",
    "# Import red channel (ABI Channel 2, .64)\n",
    "fname = \"data/goes-meso/michael/OR_ABI-L1b-RadM1-M3C02_G16_s20182822019282_e20182822019339_c20182822019374.nc\"\n",
    "g16nc = Dataset(fname, 'r')\n",
    "C02 = g16nc.variables['Rad'][:]\n",
    "C02 = C02[::4, ::4]\n",
    "\n",
    "sandwich = C02 - C13"
   ]
  },
  {
   "cell_type": "code",
   "execution_count": null,
   "metadata": {},
   "outputs": [],
   "source": [
    "plt.figure(figsize=[40,40])\n",
    "plt.imshow(sandwich, cmap=plt.get_cmap(\"terrain\"))\n",
    "# plt.gca().invert_yaxis()\n",
    "# plt.gca().invert_xaxis()\n",
    "frame1 = plt.gca()\n",
    "frame1.axes.xaxis.set_ticklabels([])\n",
    "frame1.axes.yaxis.set_ticklabels([])\n",
    "# plt.colorbar()\n",
    "# plt.show()\n",
    "plt.savefig(\"C:\\\\Users\\\\rebekah\\\\Desktop\\\\plots.png\")\n",
    "plt.close()"
   ]
  },
  {
   "cell_type": "markdown",
   "metadata": {},
   "source": [
    "## 9.4 RGB"
   ]
  },
  {
   "cell_type": "code",
   "execution_count": null,
   "metadata": {},
   "outputs": [],
   "source": [
    "from skimage.exposure import adjust_gamma, rescale_intensity"
   ]
  },
  {
   "cell_type": "code",
   "execution_count": null,
   "metadata": {},
   "outputs": [],
   "source": [
    "# Import blue channel (ABI Channel 1)\n",
    "fname = 'data/goes-meso/fires/OR_ABI-L1b-RadM2-M6C01_G17_s20191501801013_e20191501801070_c20191501801105.nc'\n",
    "g17nc = Dataset(fname, 'r')\n",
    "refl = g17nc.variables['Rad'][:]\n",
    "blue = adjust_gamma(refl, 0.5)\n",
    "\n",
    "# Import veggie channel (ABI Channel 3)\n",
    "fname = 'data/goes-meso/fires/OR_ABI-L1b-RadM2-M6C03_G17_s20191501801013_e20191501801070_c20191501801103.nc'\n",
    "g17nc = Dataset(fname, 'r')\n",
    "refl = g17nc.variables['Rad'][:]\n",
    "veggie = adjust_gamma(refl, 0.5)"
   ]
  },
  {
   "cell_type": "code",
   "execution_count": null,
   "metadata": {},
   "outputs": [],
   "source": [
    "# Import red channel (ABI Channel 2)\n",
    "fname = 'data/goes-meso/fires/OR_ABI-L1b-RadM2-M6C02_G17_s20191501801013_e20191501801070_c20191501801097.nc'\n",
    "g17nc = Dataset(fname, 'r')\n",
    "refl = g17nc.variables['Rad'][:]\n",
    "refl = refl[::2, ::2]\n",
    "red = adjust_gamma(refl, 0.5)"
   ]
  },
  {
   "cell_type": "code",
   "execution_count": null,
   "metadata": {},
   "outputs": [],
   "source": [
    "green = 0.45*red + 0.45*blue + 0.1*veggie"
   ]
  },
  {
   "cell_type": "code",
   "execution_count": null,
   "metadata": {},
   "outputs": [],
   "source": [
    "r = ma.filled(red)\n",
    "g = ma.filled(green)\n",
    "b = ma.filled(blue)\n",
    "\n",
    "rgb = np.stack([r, g, b], axis=2)\n",
    "rgb = adjust_gamma(rgb, 0.5)"
   ]
  },
  {
   "cell_type": "code",
   "execution_count": null,
   "metadata": {},
   "outputs": [],
   "source": [
    "fig, axes = plt.subplots(1, 3, figsize=[15,5])\n",
    "\n",
    "cmap='tab20c'\n",
    "vmin=5\n",
    "vmax=25\n",
    "\n",
    "im = axes[0].imshow(r, vmin=vmin, vmax=vmax, cmap=cmap)\n",
    "axes[0].set_title(\"Red\")\n",
    "\n",
    "im = axes[1].imshow(g, vmin=vmin, vmax=vmax, cmap=cmap)\n",
    "axes[1].set_title(\"Green\")\n",
    "\n",
    "im = axes[2].imshow(b, vmin=vmin, vmax=vmax, cmap=cmap)\n",
    "axes[2].set_title(\"Blue\")\n",
    "\n",
    "[ax.set_axis_off() for ax in axes]\n",
    "\n",
    "fig.colorbar(im, ax=axes.ravel().tolist(), shrink=0.75)\n",
    "\n",
    "plt.show()\n",
    "\n",
    "# plt.savefig(\"C:\\\\Users\\\\rebekah\\\\Dropbox\\\\Python book\\\\AGU_Esmaili_9781119606888_RPP\\\\rgb_seperate.png\")\n",
    "# plt.close()"
   ]
  },
  {
   "cell_type": "code",
   "execution_count": null,
   "metadata": {},
   "outputs": [],
   "source": [
    "# Normalize values to 1\n",
    "plt.figure(figsize=[12,12])\n",
    "rgb255 = rescale_intensity(rgb, out_range=(0, 1.0))\n",
    "plt.imshow(rgb255)\n",
    "plt.gca().set_axis_off()\n",
    "plt.show()\n",
    "\n",
    "# plt.savefig(\"C:\\\\Users\\\\rebekah\\\\Dropbox\\\\Python book\\\\AGU_Esmaili_9781119606888_RPP\\\\rgb_combined.png\")\n",
    "# plt.close()"
   ]
  },
  {
   "cell_type": "markdown",
   "metadata": {},
   "source": [
    "### 9.4.2 Dust RGB"
   ]
  },
  {
   "cell_type": "code",
   "execution_count": null,
   "metadata": {},
   "outputs": [],
   "source": [
    "ddir = 'data/goes-meso/fires/'\n",
    "fname = ddir+'OR_ABI-L1b-RadM2-M6C11_G17_s20191501801013_e20191501801070_c20191501801110.nc'\n",
    "g17nc = Dataset(fname, 'r')\n",
    "btC11 = g17nc.variables['Rad'][:]\n",
    "\n",
    "fname = ddir+'OR_ABI-L1b-RadM2-M6C14_G17_s20191501801013_e20191501801070_c20191501801113.nc'\n",
    "g17nc = Dataset(fname, 'r')\n",
    "btC13 = g17nc.variables['Rad'][:]\n",
    "\n",
    "fname = ddir+'OR_ABI-L1b-RadM2-M6C15_G17_s20191501801013_e20191501801076_c20191501801112.nc'\n",
    "g17nc = Dataset(fname, 'r')\n",
    "btC15 = g17nc.variables['Rad'][:]"
   ]
  },
  {
   "cell_type": "code",
   "execution_count": null,
   "metadata": {},
   "outputs": [],
   "source": [
    "img = btC15-btC13\n",
    "# Rescale and adjust gamma\n",
    "img = rescale_intensity(img, out_range=(0, 1))\n",
    "red = adjust_gamma(img, 1.0)\n",
    "\n",
    "img = btC13-btC11\n",
    "# Rescale and adjust gamma\n",
    "img = rescale_intensity(img, out_range=(0, 1))\n",
    "green = adjust_gamma(img, 2.5)\n",
    "\n",
    "img = btC13\n",
    "# Rescale and adjust gamma\n",
    "img = rescale_intensity(img, out_range=(0, 1))\n",
    "blue = adjust_gamma(img, 1.0)"
   ]
  },
  {
   "cell_type": "code",
   "execution_count": null,
   "metadata": {},
   "outputs": [],
   "source": [
    "r = ma.filled(red, fill_value=0)\n",
    "g = ma.filled(green, fill_value=0)\n",
    "b = ma.filled(blue, fill_value=0)\n",
    "\n",
    "rgb = np.stack([r, g, b], axis=2)"
   ]
  },
  {
   "cell_type": "code",
   "execution_count": null,
   "metadata": {},
   "outputs": [],
   "source": [
    "plt.figure(figsize=[12,12])\n",
    "plt.imshow(rgb)\n",
    "plt.gca().set_axis_off()\n",
    "plt.show()"
   ]
  },
  {
   "cell_type": "markdown",
   "metadata": {},
   "source": [
    "### 9.4.3 Fire/Natural RGB"
   ]
  },
  {
   "cell_type": "code",
   "execution_count": null,
   "metadata": {},
   "outputs": [],
   "source": [
    "fname = 'data/goes-meso/fires/OR_ABI-L1b-RadM2-M6C05_G17_s20191501801013_e20191501801070_c20191501801105.nc'\n",
    "g17nc = Dataset(fname, 'r')\n",
    "img = g17nc.variables['Rad'][:]\n",
    "red = rescale_intensity(img, out_range=(0, 1))\n",
    "\n",
    "fname = 'data/goes-meso/fires/OR_ABI-L1b-RadM2-M6C03_G17_s20191501801013_e20191501801070_c20191501801103.nc'\n",
    "g17nc = Dataset(fname, 'r')\n",
    "img = g17nc.variables['Rad'][:]\n",
    "green = rescale_intensity(img, out_range=(0, 1))\n",
    "\n",
    "fname = 'data/goes-meso/fires/OR_ABI-L1b-RadM2-M6C02_G17_s20191501801013_e20191501801070_c20191501801097.nc'\n",
    "g17nc = Dataset(fname, 'r')\n",
    "img = g17nc.variables['Rad'][:]\n",
    "img = img[::2, ::2]\n",
    "blue = rescale_intensity(img, out_range=(0, 1))"
   ]
  },
  {
   "cell_type": "code",
   "execution_count": null,
   "metadata": {},
   "outputs": [],
   "source": [
    "r = ma.filled(red, fill_value=0)\n",
    "g = ma.filled(green, fill_value=0)   \n",
    "b = ma.filled(blue, fill_value=0)\n",
    "\n",
    "rgb = np.stack([r, g, b], axis=2)"
   ]
  },
  {
   "cell_type": "code",
   "execution_count": null,
   "metadata": {},
   "outputs": [],
   "source": [
    "plt.figure(figsize=[12,12])\n",
    "plt.imshow(rgb)\n",
    "plt.gca().set_axis_off()\n",
    "plt.show()\n",
    "\n",
    "# plt.savefig(\"C:\\\\Users\\\\rebekah\\\\Dropbox\\\\Python book\\\\AGU_Esmaili_9781119606888_RPP\\\\rgb_fire.png\")\n",
    "# plt.close()"
   ]
  },
  {
   "cell_type": "markdown",
   "metadata": {},
   "source": [
    "## 9.5 Matching with Surface Observations"
   ]
  },
  {
   "cell_type": "code",
   "execution_count": null,
   "metadata": {},
   "outputs": [],
   "source": [
    "import cartopy.crs as ccrs\n",
    "\n",
    "fname = 'data/goes-meso/matchup/OR_ABI-L2-DSRM1-M6_G16_s20192091300534_e20192091300591_c20192091303116.nc'\n",
    "goes = Dataset(fname, 'r')\n",
    "dsr = goes.variables['DSR'][:,:]\n",
    "lat = goes.variables['lat'][:]\n",
    "lon = goes.variables['lon'][:]\n",
    "\n",
    "x,y = np.meshgrid(lon, lat)"
   ]
  },
  {
   "cell_type": "code",
   "execution_count": null,
   "metadata": {},
   "outputs": [],
   "source": [
    "plt.figure(figsize=[8,8])\n",
    "\n",
    "ax=plt.axes(projection=ccrs.PlateCarree())\n",
    "ax.coastlines('50m')\n",
    "\n",
    "plt.contourf(x, y, dsr)\n",
    "plt.colorbar()\n",
    "\n",
    "plt.scatter(-77.93, 40.72, marker='x', c='black', s=100)\n",
    "ax.set_ylim(34, 45)\n",
    "ax.set_xlim(-80, -70)\n",
    "\n",
    "plt.show()"
   ]
  },
  {
   "cell_type": "markdown",
   "metadata": {},
   "source": [
    "### 9.5.1 With user-defined functions"
   ]
  },
  {
   "cell_type": "code",
   "execution_count": null,
   "metadata": {},
   "outputs": [],
   "source": [
    "def haversine(deglat1, deglon1, deglat2, deglon2):\n",
    "    ''' This function uses the haversine formula to calculate the distance between\n",
    "    two latitude and longitude coordinates and returns the distance in km.\n",
    "    '''\n",
    "    r_earth = 6378.0\n",
    "    \n",
    "    lat1 = np.radians(deglat1)\n",
    "    lat2 = np.radians(deglat2)\n",
    "    \n",
    "    long1 = np.radians(deglon1)\n",
    "    long2 = np.radians(deglon2)\n",
    "      \n",
    "    a = np.sin(0.5*(lat2-lat1))\n",
    "    b = np.sin(0.5*(long2-long1))\n",
    "    \n",
    "    dist = r_earth*2.0*np.arcsin(np.sqrt(a*a+np.cos(lat1)*np.cos(lat2)*b*b))\n",
    "    \n",
    "    return dist"
   ]
  },
  {
   "cell_type": "code",
   "execution_count": null,
   "metadata": {},
   "outputs": [],
   "source": [
    "def matchup_spatial(latitude, longitude, site_lat, site_lon, \n",
    "        radius_km=50.0, closest_only=False):\n",
    "    ''' This function calcualtes the distance between a list of retrieval coordinates and\n",
    "    and a point observation. It returns all matches that are within a given radius or the\n",
    "    closest point.\n",
    "    '''\n",
    "    \n",
    "    # Find index for pixels within radius_km around ground site  \n",
    "    distance_matrix = np.full(latitude.shape,  6378.0)\n",
    "\n",
    "    # Calculate the distance in degrees\n",
    "    dist_deg = np.sqrt((np.array(latitude)-site_lat)**2\n",
    "        +(np.array(longitude)-site_lon)**2)\n",
    "    close_pts = (dist_deg < 1.0)\n",
    "    \n",
    "    # Replace angle distance with km distance\n",
    "    distance_matrix[close_pts] = haversine(site_lat, site_lon, \n",
    "        latitude[close_pts], longitude[close_pts])\n",
    "    keep_index = (distance_matrix > radius_km)\n",
    "    \n",
    "    # Return a single (closest) value\n",
    "    #if closest_only:\n",
    "    #    if len(keep_index[keep_index==True]) > 0:\n",
    "    #        keep_index = (distance_matrix == distance_matrix.min())\n",
    "   \n",
    "    return keep_index"
   ]
  },
  {
   "cell_type": "code",
   "execution_count": null,
   "metadata": {},
   "outputs": [],
   "source": [
    "mask = matchup_spatial(y, x, 40.72, -77.93, radius_km=100.0, closest_only=True)"
   ]
  },
  {
   "cell_type": "code",
   "execution_count": null,
   "metadata": {},
   "outputs": [],
   "source": [
    "dsr[mask]"
   ]
  },
  {
   "cell_type": "code",
   "execution_count": null,
   "metadata": {},
   "outputs": [],
   "source": [
    "dsrMA = np.ma.masked_array(dsr, mask=mask)\n",
    "xMA = np.ma.masked_array(x, mask=mask)\n",
    "yMA = np.ma.masked_array(y, mask=mask)"
   ]
  },
  {
   "cell_type": "code",
   "execution_count": null,
   "metadata": {},
   "outputs": [],
   "source": [
    "plt.figure(figsize=[8,8])\n",
    "ax=plt.axes(projection=ccrs.PlateCarree())\n",
    "ax.coastlines('50m')\n",
    "plt.contourf(xMA, yMA, dsrMA)\n",
    "plt.colorbar()\n",
    "plt.scatter(-77.93, 40.72, marker='x', c='black', s=100)\n",
    "\n",
    "ax.set_ylim(32, 45)\n",
    "ax.set_xlim(-80, -70)\n",
    "ax.set_aspect('equal')\n",
    "\n",
    "plt.show()"
   ]
  },
  {
   "cell_type": "code",
   "execution_count": null,
   "metadata": {},
   "outputs": [],
   "source": [
    "import pandas as pd\n",
    "\n",
    "fname = 'data/goes-meso/matchup/surfrad_header.txt'\n",
    "header = pd.read_csv(fname)\n",
    "\n",
    "fname = 'data/goes-meso/matchup/psu19209.dat'\n",
    "ground = pd.read_csv(fname, skipinitialspace=True, delim_whitespace=True, \\\n",
    "             skiprows=2, header=None, names=list(header))"
   ]
  },
  {
   "cell_type": "code",
   "execution_count": null,
   "metadata": {},
   "outputs": [],
   "source": [
    "# Surface obs time\n",
    "df = pd.DataFrame({'year': ground['year'], 'month': ground['month'], 'day': ground['day'], \\\n",
    "                  'hour': ground['hour'], 'minute' : ground['min']})"
   ]
  },
  {
   "cell_type": "code",
   "execution_count": null,
   "metadata": {},
   "outputs": [],
   "source": [
    "# List of ground observation times\n",
    "ground['Datetime'] = pd.to_datetime(df)\n",
    "\n",
    "# Satellite observation time\n",
    "fmt = '%Y-%m-%dT%H:%M'\n",
    "fileTime = pd.to_datetime(goes.time_coverage_start[0:19], format=fmt)"
   ]
  },
  {
   "cell_type": "code",
   "execution_count": null,
   "metadata": {},
   "outputs": [],
   "source": [
    "def matchup_temporal(time, time_array, matchup_max_time_mins=15):\n",
    "    time_diff = [np.abs(x - time) for x in time_array]\n",
    "    index = np.argmin(time_diff)\n",
    "    \n",
    "    if abs(time_array[index] - time) < pd.Timedelta(minutes=15):\n",
    "        return index\n",
    "    else:\n",
    "        return -1"
   ]
  },
  {
   "cell_type": "code",
   "execution_count": null,
   "metadata": {},
   "outputs": [],
   "source": [
    "index = matchup_temporal(fileTime, ground['Datetime'] )\n",
    "print(index)"
   ]
  },
  {
   "cell_type": "code",
   "execution_count": null,
   "metadata": {},
   "outputs": [],
   "source": [
    "ground['dw_solar'][index] - dsrMA.mean()"
   ]
  },
  {
   "attachments": {},
   "cell_type": "markdown",
   "metadata": {},
   "source": [
    "### 9.5.2 With Machine Learning\n",
    "\n",
    "NOTE: The ```sklearn``` package was originally left out of the environment.yml file. If you downloaded an older version of this repository, please install this package into the ```earthsciviz``` environment using:\n",
    "\n",
    "```\n",
    "conda install -c conda-forge sklearn\n",
    "```\n",
    "The environment.yml has since been updated.\n",
    "\n",
    "Since the book has been published, the syntax has changed in newer versions of sklearn. The import path ```sklearn.neighbors.DistanceMetric``` has been moved to ```sklearn.metrics.DistanceMetric```. The code below reflects a more recent version of sklearn.\n"
   ]
  },
  {
   "cell_type": "code",
   "execution_count": null,
   "metadata": {},
   "outputs": [],
   "source": [
    "from sklearn.metrics import DistanceMetric"
   ]
  },
  {
   "cell_type": "code",
   "execution_count": null,
   "metadata": {},
   "outputs": [],
   "source": [
    "samples = [[i, j] for i in lat for j in lon]\n",
    "point = [[40.72, -77.93]]"
   ]
  },
  {
   "cell_type": "code",
   "execution_count": null,
   "metadata": {},
   "outputs": [],
   "source": [
    "dist = DistanceMetric.get_metric('haversine')"
   ]
  },
  {
   "cell_type": "code",
   "execution_count": null,
   "metadata": {},
   "outputs": [],
   "source": [
    "# Convert to radians\n",
    "def deg_to_rad(pairs):\n",
    "    return [[np.radians(x[0]), np.radians(x[1])] for x in pairs]\n",
    "\n",
    "point_rad = deg_to_rad(point)\n",
    "samples_rad = deg_to_rad(samples)"
   ]
  },
  {
   "cell_type": "code",
   "execution_count": null,
   "metadata": {},
   "outputs": [],
   "source": [
    "distances = dist.pairwise(point_rad, samples_rad)[0]*6356\n",
    "distances_2d = distances.reshape(dsr.shape)"
   ]
  },
  {
   "cell_type": "code",
   "execution_count": null,
   "metadata": {},
   "outputs": [],
   "source": [
    "distances_2d.shape"
   ]
  },
  {
   "cell_type": "code",
   "execution_count": null,
   "metadata": {},
   "outputs": [],
   "source": [
    "mask_sk2d = distances_2d > 100\n",
    "\n",
    "dsrMA_sk = np.ma.masked_array(dsr, mask=mask_sk2d)\n",
    "xMA_sk = np.ma.masked_array(x, mask=mask_sk2d)\n",
    "yMA_sk = np.ma.masked_array(y, mask=mask_sk2d)"
   ]
  },
  {
   "cell_type": "code",
   "execution_count": null,
   "metadata": {},
   "outputs": [],
   "source": [
    "proj = dict(projection=ccrs.PlateCarree())\n",
    "fig, axes = plt.subplots(ncols = 2, figsize=[8,12], subplot_kw=proj)\n",
    "\n",
    "axes[0].set_title(\"Distance from \"+str(point[0]))\n",
    "axes[0].pcolormesh(x, y, distances_2d, vmin=0, vmax=900)\n",
    "\n",
    "axes[1].set_title(\"Matches < 100 km from \"+str(point[0]))\n",
    "axes[1].contourf(xMA_sk, yMA_sk, dsrMA_sk)\n",
    "\n",
    "for axis in axes:\n",
    "    axis.coastlines('50m')\n",
    "    axis.set_ylim(32, 45)\n",
    "    axis.set_xlim(-80, -70)\n",
    "    axis.scatter(-77.93, 40.72, marker='x', c='black', s=100)\n",
    "    axis.set_aspect('equal')\n",
    "    \n",
    "plt.show()"
   ]
  }
 ],
 "metadata": {
  "kernelspec": {
   "display_name": "earthsciviz",
   "language": "python",
   "name": "python3"
  },
  "language_info": {
   "codemirror_mode": {
    "name": "ipython",
    "version": 3
   },
   "file_extension": ".py",
   "mimetype": "text/x-python",
   "name": "python",
   "nbconvert_exporter": "python",
   "pygments_lexer": "ipython3",
   "version": "3.9.15"
  },
  "vscode": {
   "interpreter": {
    "hash": "48fc10cb14791ea88ba2696b1818b1bf7d4d99ed63d4104785d39779bf72a716"
   }
  }
 },
 "nbformat": 4,
 "nbformat_minor": 2
}
