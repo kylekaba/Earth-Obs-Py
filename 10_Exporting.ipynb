{
 "cells": [
  {
   "cell_type": "markdown",
   "metadata": {},
   "source": [
    "## 10.1 Saving Plots"
   ]
  },
  {
   "cell_type": "code",
   "execution_count": null,
   "metadata": {},
   "outputs": [],
   "source": [
    "import pandas as pd\n",
    "import numpy as np\n",
    "import matplotlib.pyplot as plt\n",
    "\n",
    "fires = pd.read_csv(\"data/VIIRSNDE_global2018312.v1.0.txt\")\n",
    "bins10MW = np.arange(0, 500, 10)"
   ]
  },
  {
   "cell_type": "code",
   "execution_count": null,
   "metadata": {},
   "outputs": [],
   "source": [
    "plt.figure(figsize=[5,5]) \n",
    "plt.hist(fires['frp(MW)'],  bins=bins10MW)\n",
    "\n",
    "plt.savefig('histogram.png',  bbox_inches='tight') \n",
    "plt.close()"
   ]
  },
  {
   "cell_type": "markdown",
   "metadata": {},
   "source": [
    "## 10.2 Exporting Data"
   ]
  },
  {
   "cell_type": "code",
   "execution_count": null,
   "metadata": {},
   "outputs": [],
   "source": [
    "name = ['GOES-16', 'IceSat-2', 'Himawari']\n",
    "agency = ['NOAA', 'NASA', 'JAXA']\n",
    "orbit = ['GEO', 'LEO', 'GEO']"
   ]
  },
  {
   "cell_type": "code",
   "execution_count": null,
   "metadata": {},
   "outputs": [],
   "source": [
    "import csv\n",
    "\n",
    "with open('satellite.txt','w', newline='') as csvfile:\n",
    "    writer = csv.writer(csvfile, delimiter=',')\n",
    "    \n",
    "    # adds a header\n",
    "    writer.writerow(['name', 'agency', 'orbit'])\n",
    "    \n",
    "    # Writes each element as a single row\n",
    "    for i in range(0, len(name)):\n",
    "        writer.writerow([name[i], agency[i], orbit[i]])"
   ]
  },
  {
   "cell_type": "code",
   "execution_count": null,
   "metadata": {},
   "outputs": [],
   "source": [
    "satellites = pd.DataFrame({'name': name,\n",
    "                   'agency': agency,\n",
    "                   'orbit': orbit})\n",
    "\n",
    "satellites.to_csv('satellites.csv',index=False)"
   ]
  },
  {
   "cell_type": "markdown",
   "metadata": {},
   "source": [
    "### 10.2.2 Pickling"
   ]
  },
  {
   "cell_type": "code",
   "execution_count": null,
   "metadata": {},
   "outputs": [],
   "source": [
    "import pickle as pkl\n",
    "pkl.dump(satellites, open(\"satellites.p\", \"wb\"))"
   ]
  },
  {
   "cell_type": "code",
   "execution_count": null,
   "metadata": {},
   "outputs": [],
   "source": [
    "satellites2 = pkl.load(open(\"satellites.p\", \"rb\"))\n",
    "satellites2"
   ]
  },
  {
   "cell_type": "markdown",
   "metadata": {},
   "source": [
    "### 10.2.3 NumPy binary files"
   ]
  },
  {
   "cell_type": "code",
   "execution_count": null,
   "metadata": {},
   "outputs": [],
   "source": [
    "np.savez('satnames', name=name, agency=agency, orbit=orbit)"
   ]
  },
  {
   "cell_type": "code",
   "execution_count": null,
   "metadata": {},
   "outputs": [],
   "source": [
    "npzfile = np.load('satnames.npz')\n",
    "npzfile.files"
   ]
  },
  {
   "cell_type": "code",
   "execution_count": null,
   "metadata": {},
   "outputs": [],
   "source": [
    "npzfile['name']"
   ]
  },
  {
   "cell_type": "markdown",
   "metadata": {},
   "source": [
    "### 10.2.4 NetCDF"
   ]
  },
  {
   "cell_type": "code",
   "execution_count": null,
   "metadata": {},
   "outputs": [],
   "source": [
    "from netCDF4 import Dataset\n",
    "from glob import glob"
   ]
  },
  {
   "cell_type": "code",
   "execution_count": null,
   "metadata": {},
   "outputs": [],
   "source": [
    "# Get file names, exit if no files are found\n",
    "filenames = glob('data/aod/JRR-AOD_v2r0_j01_s2019*.nc')\n",
    "\n",
    "# Import datasets\n",
    "file_id = Dataset(filenames[0], mode='r')"
   ]
  },
  {
   "cell_type": "code",
   "execution_count": null,
   "metadata": {},
   "outputs": [],
   "source": [
    "for var in [\"Latitude\", \"Longitude\", \"AOD550\", \"QCAll\"]:\n",
    "    print(var, file_id.variables[var].dimensions)"
   ]
  },
  {
   "cell_type": "code",
   "execution_count": null,
   "metadata": {},
   "outputs": [],
   "source": [
    "for dim in ['Columns', 'Rows']:\n",
    "    print(dim, len(file_id.dimensions[dim]))"
   ]
  },
  {
   "cell_type": "code",
   "execution_count": null,
   "metadata": {},
   "outputs": [],
   "source": [
    "cols = len(file_id.dimensions['Columns'])\n",
    "rows = len(file_id.dimensions['Rows'])\n",
    "num_files = len(filenames)\n",
    "file_id.close()\n",
    "\n",
    "print(rows, cols, num_files)"
   ]
  },
  {
   "cell_type": "code",
   "execution_count": null,
   "metadata": {},
   "outputs": [],
   "source": [
    "# Create output file name\n",
    "output_filename = \"JRR-AOD-combined.nc\"\n",
    "\n",
    "# Open a new netCDF file \n",
    "rootgrp = Dataset(output_filename, \"w\", format=\"NETCDF4\")\n",
    "rootgrp.description = \"Combined NOAA-20 AOD swaths for Alberta Fire\""
   ]
  },
  {
   "cell_type": "code",
   "execution_count": null,
   "metadata": {},
   "outputs": [],
   "source": [
    "# Format the latitude and longitude variables\n",
    "lat = rootgrp.createDimension(\"lat\", rows*num_files)\n",
    "lon = rootgrp.createDimension(\"lon\", cols)"
   ]
  },
  {
   "cell_type": "code",
   "execution_count": null,
   "metadata": {},
   "outputs": [],
   "source": [
    "latitudes = rootgrp.createVariable(\"Latitude\",\"f4\", (\"lat\",\"lon\"), \\\n",
    "           zlib = True, least_significant_digit = 2)\n",
    "longitudes = rootgrp.createVariable(\"Longitude\",\"f4\", (\"lat\",\"lon\"), \\\n",
    "           zlib = True, least_significant_digit = 2)\n",
    "variable = rootgrp.createVariable('AOD550', \"f4\", (\"lat\",\"lon\"), \\\n",
    "           zlib = True, least_significant_digit = 2, fill_value = -999.9)"
   ]
  },
  {
   "cell_type": "code",
   "execution_count": null,
   "metadata": {},
   "outputs": [],
   "source": [
    "latitudes.units = \"degrees north\"\n",
    "longitudes.units = \"degrees east\""
   ]
  },
  {
   "cell_type": "code",
   "execution_count": null,
   "metadata": {},
   "outputs": [],
   "source": [
    "var = np.zeros((rows*num_files, cols))\n",
    "lats = np.zeros((rows*num_files, cols))\n",
    "lons = np.zeros((rows*num_files, cols))\n",
    "\n",
    "for filenum, filename in enumerate(filenames):\n",
    "    file_id = Dataset(filename, mode='r')\n",
    "    \n",
    "    i1 = rows*filenum\n",
    "    i2 = rows*(filenum+1)\n",
    "    \n",
    "    # Get coordinates\n",
    "    lats[i1:i2, 0:cols] = file_id.variables['Latitude'][:,:]\n",
    "    lons[i1:i2, 0:cols] = file_id.variables['Longitude'][:,:]\n",
    "        \n",
    "    # Create and fill variables\n",
    "    value = file_id.variables['AOD550'][:,:]\n",
    "\n",
    "    # Simple binary quality flag    \n",
    "    dqf = file_id.variables[ 'QCAll'][:,:]\n",
    "    value[ dqf != 0 ] = -999.9\n",
    "    \n",
    "    var[i1:i2, :] = value[:,:]\n",
    "\n",
    "    file_id.close()"
   ]
  },
  {
   "cell_type": "code",
   "execution_count": null,
   "metadata": {},
   "outputs": [],
   "source": [
    "# Populate lat/lon/var\n",
    "latitudes[:,:] = lats\n",
    "longitudes[:,:] = lons\n",
    "variable[:,:] = var"
   ]
  },
  {
   "cell_type": "code",
   "execution_count": null,
   "metadata": {},
   "outputs": [],
   "source": [
    "# Close original/modified netCDF file\n",
    "rootgrp.close()"
   ]
  },
  {
   "cell_type": "markdown",
   "metadata": {},
   "source": [
    "Using Xarray to create netCDF files "
   ]
  },
  {
   "cell_type": "code",
   "execution_count": null,
   "metadata": {},
   "outputs": [],
   "source": [
    "import xarray as xr\n",
    "\n",
    "fname = 'data/aod/JRR-AOD*.nc'\n",
    "aod = xr.open_mfdataset(fname, concat_dim='Rows', combine='nested')\n",
    "filtered = aod['AOD550'].where(aod['QCAll'] == 0)"
   ]
  },
  {
   "cell_type": "code",
   "execution_count": null,
   "metadata": {},
   "outputs": [],
   "source": [
    "filtered.to_netcdf('JRR-AOD-xarray-combined.nc')"
   ]
  },
  {
   "cell_type": "code",
   "execution_count": null,
   "metadata": {},
   "outputs": [],
   "source": [
    "del(filtered.attrs['units'])"
   ]
  }
 ],
 "metadata": {
  "kernelspec": {
   "display_name": "Python 3",
   "language": "python",
   "name": "python3"
  },
  "language_info": {
   "codemirror_mode": {
    "name": "ipython",
    "version": 3
   },
   "file_extension": ".py",
   "mimetype": "text/x-python",
   "name": "python",
   "nbconvert_exporter": "python",
   "pygments_lexer": "ipython3",
   "version": "3.7.6"
  }
 },
 "nbformat": 4,
 "nbformat_minor": 2
}
