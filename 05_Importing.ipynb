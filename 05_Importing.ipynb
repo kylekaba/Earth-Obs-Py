{
 "cells": [
  {
   "cell_type": "markdown",
   "metadata": {},
   "source": [
    "## 5 Importing Standard Earth Science Datasets\n",
    "## 5.1 Text"
   ]
  },
  {
   "cell_type": "code",
   "execution_count": 1,
   "metadata": {},
   "outputs": [],
   "source": [
    "import pandas as pd\n",
    "fname = 'data/campfire-gases-2018-11.csv'\n",
    "trace_gases = pd.read_csv(fname)"
   ]
  },
  {
   "cell_type": "code",
   "execution_count": 2,
   "metadata": {},
   "outputs": [
    {
     "data": {
      "text/html": [
       "<div>\n",
       "<style scoped>\n",
       "    .dataframe tbody tr th:only-of-type {\n",
       "        vertical-align: middle;\n",
       "    }\n",
       "\n",
       "    .dataframe tbody tr th {\n",
       "        vertical-align: top;\n",
       "    }\n",
       "\n",
       "    .dataframe thead th {\n",
       "        text-align: right;\n",
       "    }\n",
       "</style>\n",
       "<table border=\"1\" class=\"dataframe\">\n",
       "  <thead>\n",
       "    <tr style=\"text-align: right;\">\n",
       "      <th></th>\n",
       "      <th>Latitude</th>\n",
       "      <th>Longitude</th>\n",
       "      <th>Time</th>\n",
       "      <th>H2O_MR_500mb</th>\n",
       "      <th>H2O_MR_850mb</th>\n",
       "      <th>CO_MR_500mb</th>\n",
       "      <th>CO_MR_850mb</th>\n",
       "      <th>O3_MR_500mb</th>\n",
       "      <th>O3_MR_850mb</th>\n",
       "      <th>CH4_MR_500mb</th>\n",
       "      <th>CH4_MR_850mb</th>\n",
       "      <th>N2O_MR_500mb</th>\n",
       "      <th>N2O_MR_850mb</th>\n",
       "      <th>CO2_500mb</th>\n",
       "      <th>CO2_850mb</th>\n",
       "      <th>datetime</th>\n",
       "    </tr>\n",
       "  </thead>\n",
       "  <tbody>\n",
       "    <tr>\n",
       "      <th>0</th>\n",
       "      <td>39.693913</td>\n",
       "      <td>-120.49820</td>\n",
       "      <td>2018-11-01 10:39:44.183998108</td>\n",
       "      <td>0.001621</td>\n",
       "      <td>0.008410</td>\n",
       "      <td>84.18882</td>\n",
       "      <td>117.011190</td>\n",
       "      <td>46.428890</td>\n",
       "      <td>22.921904</td>\n",
       "      <td>1842.4436</td>\n",
       "      <td>1892.8062</td>\n",
       "      <td>318.75995</td>\n",
       "      <td>320.22995</td>\n",
       "      <td>402.26596</td>\n",
       "      <td>402.75560</td>\n",
       "      <td>2018-11-01 10:39:44.183998108</td>\n",
       "    </tr>\n",
       "    <tr>\n",
       "      <th>1</th>\n",
       "      <td>39.996113</td>\n",
       "      <td>-121.75796</td>\n",
       "      <td>2018-11-01 10:39:44.383998871</td>\n",
       "      <td>0.001781</td>\n",
       "      <td>0.004849</td>\n",
       "      <td>77.59622</td>\n",
       "      <td>109.939960</td>\n",
       "      <td>44.728848</td>\n",
       "      <td>21.737068</td>\n",
       "      <td>1861.1800</td>\n",
       "      <td>1891.7012</td>\n",
       "      <td>318.01180</td>\n",
       "      <td>319.45220</td>\n",
       "      <td>402.76318</td>\n",
       "      <td>402.89474</td>\n",
       "      <td>2018-11-01 10:39:44.383998871</td>\n",
       "    </tr>\n",
       "    <tr>\n",
       "      <th>2</th>\n",
       "      <td>39.248516</td>\n",
       "      <td>-120.72343</td>\n",
       "      <td>2018-11-01 10:39:52.183998108</td>\n",
       "      <td>0.001681</td>\n",
       "      <td>0.005230</td>\n",
       "      <td>80.73684</td>\n",
       "      <td>114.791985</td>\n",
       "      <td>46.114296</td>\n",
       "      <td>22.632338</td>\n",
       "      <td>1861.7188</td>\n",
       "      <td>1894.3835</td>\n",
       "      <td>319.00397</td>\n",
       "      <td>320.42120</td>\n",
       "      <td>402.35360</td>\n",
       "      <td>402.72772</td>\n",
       "      <td>2018-11-01 10:39:52.183998108</td>\n",
       "    </tr>\n",
       "    <tr>\n",
       "      <th>3</th>\n",
       "      <td>39.547660</td>\n",
       "      <td>-121.97622</td>\n",
       "      <td>2018-11-01 10:39:52.383998871</td>\n",
       "      <td>0.001817</td>\n",
       "      <td>0.005295</td>\n",
       "      <td>77.39363</td>\n",
       "      <td>108.182520</td>\n",
       "      <td>44.257423</td>\n",
       "      <td>21.417778</td>\n",
       "      <td>1847.3370</td>\n",
       "      <td>1889.8491</td>\n",
       "      <td>318.03134</td>\n",
       "      <td>319.47528</td>\n",
       "      <td>403.03867</td>\n",
       "      <td>403.07166</td>\n",
       "      <td>2018-11-01 10:39:52.383998871</td>\n",
       "    </tr>\n",
       "    <tr>\n",
       "      <th>4</th>\n",
       "      <td>38.802532</td>\n",
       "      <td>-120.94534</td>\n",
       "      <td>2018-11-01 10:40:00.184000015</td>\n",
       "      <td>0.001604</td>\n",
       "      <td>0.004505</td>\n",
       "      <td>82.68274</td>\n",
       "      <td>123.891740</td>\n",
       "      <td>47.121635</td>\n",
       "      <td>22.546751</td>\n",
       "      <td>1890.4450</td>\n",
       "      <td>1899.3243</td>\n",
       "      <td>319.56244</td>\n",
       "      <td>320.96674</td>\n",
       "      <td>403.35144</td>\n",
       "      <td>403.11090</td>\n",
       "      <td>2018-11-01 10:40:00.184000015</td>\n",
       "    </tr>\n",
       "  </tbody>\n",
       "</table>\n",
       "</div>"
      ],
      "text/plain": [
       "    Latitude  Longitude                           Time  H2O_MR_500mb  \\\n",
       "0  39.693913 -120.49820  2018-11-01 10:39:44.183998108      0.001621   \n",
       "1  39.996113 -121.75796  2018-11-01 10:39:44.383998871      0.001781   \n",
       "2  39.248516 -120.72343  2018-11-01 10:39:52.183998108      0.001681   \n",
       "3  39.547660 -121.97622  2018-11-01 10:39:52.383998871      0.001817   \n",
       "4  38.802532 -120.94534  2018-11-01 10:40:00.184000015      0.001604   \n",
       "\n",
       "   H2O_MR_850mb  CO_MR_500mb  CO_MR_850mb  O3_MR_500mb  O3_MR_850mb  \\\n",
       "0      0.008410     84.18882   117.011190    46.428890    22.921904   \n",
       "1      0.004849     77.59622   109.939960    44.728848    21.737068   \n",
       "2      0.005230     80.73684   114.791985    46.114296    22.632338   \n",
       "3      0.005295     77.39363   108.182520    44.257423    21.417778   \n",
       "4      0.004505     82.68274   123.891740    47.121635    22.546751   \n",
       "\n",
       "   CH4_MR_500mb  CH4_MR_850mb  N2O_MR_500mb  N2O_MR_850mb  CO2_500mb  \\\n",
       "0     1842.4436     1892.8062     318.75995     320.22995  402.26596   \n",
       "1     1861.1800     1891.7012     318.01180     319.45220  402.76318   \n",
       "2     1861.7188     1894.3835     319.00397     320.42120  402.35360   \n",
       "3     1847.3370     1889.8491     318.03134     319.47528  403.03867   \n",
       "4     1890.4450     1899.3243     319.56244     320.96674  403.35144   \n",
       "\n",
       "   CO2_850mb                       datetime  \n",
       "0  402.75560  2018-11-01 10:39:44.183998108  \n",
       "1  402.89474  2018-11-01 10:39:44.383998871  \n",
       "2  402.72772  2018-11-01 10:39:52.183998108  \n",
       "3  403.07166  2018-11-01 10:39:52.383998871  \n",
       "4  403.11090  2018-11-01 10:40:00.184000015  "
      ]
     },
     "execution_count": 2,
     "metadata": {},
     "output_type": "execute_result"
    }
   ],
   "source": [
    "trace_gases.head()"
   ]
  },
  {
   "cell_type": "code",
   "execution_count": 3,
   "metadata": {},
   "outputs": [
    {
     "data": {
      "text/plain": [
       "0      0.001621\n",
       "1      0.001781\n",
       "2      0.001681\n",
       "3      0.001817\n",
       "4      0.001604\n",
       "         ...   \n",
       "486    0.000471\n",
       "487    0.000466\n",
       "488    0.000484\n",
       "489    0.000289\n",
       "490    0.000273\n",
       "Name: H2O_MR_500mb, Length: 491, dtype: float64"
      ]
     },
     "execution_count": 3,
     "metadata": {},
     "output_type": "execute_result"
    }
   ],
   "source": [
    "trace_gases['H2O_MR_500mb']"
   ]
  },
  {
   "cell_type": "code",
   "execution_count": 4,
   "metadata": {},
   "outputs": [
    {
     "name": "stdout",
     "output_type": "stream",
     "text": [
      "['CO_MR_500mb', 'CO_MR_850mb', 'O3_MR_500mb', 'O3_MR_850mb', 'CH4_MR_500mb', 'CH4_MR_850mb', 'N2O_MR_500mb', 'N2O_MR_850mb', 'CO2_500mb', 'CO2_850mb', 'datetime']\n"
     ]
    }
   ],
   "source": [
    "drops = list(trace_gases.columns[5:])\n",
    "print(drops)"
   ]
  },
  {
   "cell_type": "code",
   "execution_count": 5,
   "metadata": {},
   "outputs": [],
   "source": [
    "trace_gases.drop(columns=drops, inplace=True)"
   ]
  },
  {
   "cell_type": "code",
   "execution_count": 6,
   "metadata": {},
   "outputs": [
    {
     "data": {
      "text/html": [
       "<div>\n",
       "<style scoped>\n",
       "    .dataframe tbody tr th:only-of-type {\n",
       "        vertical-align: middle;\n",
       "    }\n",
       "\n",
       "    .dataframe tbody tr th {\n",
       "        vertical-align: top;\n",
       "    }\n",
       "\n",
       "    .dataframe thead th {\n",
       "        text-align: right;\n",
       "    }\n",
       "</style>\n",
       "<table border=\"1\" class=\"dataframe\">\n",
       "  <thead>\n",
       "    <tr style=\"text-align: right;\">\n",
       "      <th></th>\n",
       "      <th>Latitude</th>\n",
       "      <th>Longitude</th>\n",
       "      <th>Time</th>\n",
       "      <th>H2O_MR_500mb</th>\n",
       "      <th>H2O_MR_850mb</th>\n",
       "    </tr>\n",
       "  </thead>\n",
       "  <tbody>\n",
       "    <tr>\n",
       "      <th>0</th>\n",
       "      <td>39.693913</td>\n",
       "      <td>-120.49820</td>\n",
       "      <td>2018-11-01 10:39:44.183998108</td>\n",
       "      <td>0.001621</td>\n",
       "      <td>0.008410</td>\n",
       "    </tr>\n",
       "    <tr>\n",
       "      <th>1</th>\n",
       "      <td>39.996113</td>\n",
       "      <td>-121.75796</td>\n",
       "      <td>2018-11-01 10:39:44.383998871</td>\n",
       "      <td>0.001781</td>\n",
       "      <td>0.004849</td>\n",
       "    </tr>\n",
       "    <tr>\n",
       "      <th>2</th>\n",
       "      <td>39.248516</td>\n",
       "      <td>-120.72343</td>\n",
       "      <td>2018-11-01 10:39:52.183998108</td>\n",
       "      <td>0.001681</td>\n",
       "      <td>0.005230</td>\n",
       "    </tr>\n",
       "    <tr>\n",
       "      <th>3</th>\n",
       "      <td>39.547660</td>\n",
       "      <td>-121.97622</td>\n",
       "      <td>2018-11-01 10:39:52.383998871</td>\n",
       "      <td>0.001817</td>\n",
       "      <td>0.005295</td>\n",
       "    </tr>\n",
       "    <tr>\n",
       "      <th>4</th>\n",
       "      <td>38.802532</td>\n",
       "      <td>-120.94534</td>\n",
       "      <td>2018-11-01 10:40:00.184000015</td>\n",
       "      <td>0.001604</td>\n",
       "      <td>0.004505</td>\n",
       "    </tr>\n",
       "  </tbody>\n",
       "</table>\n",
       "</div>"
      ],
      "text/plain": [
       "    Latitude  Longitude                           Time  H2O_MR_500mb  \\\n",
       "0  39.693913 -120.49820  2018-11-01 10:39:44.183998108      0.001621   \n",
       "1  39.996113 -121.75796  2018-11-01 10:39:44.383998871      0.001781   \n",
       "2  39.248516 -120.72343  2018-11-01 10:39:52.183998108      0.001681   \n",
       "3  39.547660 -121.97622  2018-11-01 10:39:52.383998871      0.001817   \n",
       "4  38.802532 -120.94534  2018-11-01 10:40:00.184000015      0.001604   \n",
       "\n",
       "   H2O_MR_850mb  \n",
       "0      0.008410  \n",
       "1      0.004849  \n",
       "2      0.005230  \n",
       "3      0.005295  \n",
       "4      0.004505  "
      ]
     },
     "execution_count": 6,
     "metadata": {},
     "output_type": "execute_result"
    }
   ],
   "source": [
    "trace_gases.head()"
   ]
  },
  {
   "cell_type": "code",
   "execution_count": 7,
   "metadata": {},
   "outputs": [
    {
     "name": "stdout",
     "output_type": "stream",
     "text": [
      "Latitude,Longitude,Time,H2O_MR_500mb,H2O_MR_850mb,CO_MR_500mb,CO_MR_850mb,O3_MR_500mb,O3_MR_850mb,CH4_MR_500mb,CH4_MR_850mb,N2O_MR_500mb,N2O_MR_850mb,CO2_500mb,CO2_850mb,datetime\n",
      "\n",
      "Latitude\n",
      "Longitude\n",
      "Time\n",
      "H2O_MR_500mb\n",
      "H2O_MR_850mb\n",
      "CO_MR_500mb\n",
      "CO_MR_850mb\n",
      "O3_MR_500mb\n",
      "O3_MR_850mb\n",
      "CH4_MR_500mb\n",
      "CH4_MR_850mb\n",
      "N2O_MR_500mb\n",
      "N2O_MR_850mb\n",
      "CO2_500mb\n",
      "CO2_850mb\n"
     ]
    }
   ],
   "source": [
    "with open('data/campfire-gases-2018-11.csv') as data:\n",
    "    for row in data:\n",
    "        print(row)\n",
    "        column=''\n",
    "        for character in row:\n",
    "            if character != ',':\n",
    "                column=column+character\n",
    "            else:\n",
    "                print(column)\n",
    "                column = ''\n",
    "        break"
   ]
  },
  {
   "cell_type": "code",
   "execution_count": 8,
   "metadata": {},
   "outputs": [
    {
     "name": "stdout",
     "output_type": "stream",
     "text": [
      "['Latitude', 'Longitude', 'Time', 'H2O_MR_500mb', 'H2O_MR_850mb', 'CO_MR_500mb', 'CO_MR_850mb', 'O3_MR_500mb', 'O3_MR_850mb', 'CH4_MR_500mb', 'CH4_MR_850mb', 'N2O_MR_500mb', 'N2O_MR_850mb', 'CO2_500mb', 'CO2_850mb', 'datetime\\n']\n"
     ]
    }
   ],
   "source": [
    "#This could be replaced by something like ' '.join(row.split(','))\n",
    "\n",
    "with open('data/campfire-gases-2018-11.csv') as data:\n",
    "    for row in data:\n",
    "        print(row.split(','))\n",
    "        break\n"
   ]
  },
  {
   "cell_type": "markdown",
   "metadata": {},
   "source": [
    "## 5.2 NetCDF"
   ]
  },
  {
   "cell_type": "code",
   "execution_count": 9,
   "metadata": {},
   "outputs": [],
   "source": [
    "from netCDF4 import Dataset"
   ]
  },
  {
   "cell_type": "code",
   "execution_count": 10,
   "metadata": {},
   "outputs": [],
   "source": [
    "fname='data/aod/JRR-AOD_v1r1_npp_s201808091955538_e201808091957180_c201808092049460_thinned.nc'\n",
    "file_id = Dataset(fname)"
   ]
  },
  {
   "cell_type": "code",
   "execution_count": 11,
   "metadata": {},
   "outputs": [
    {
     "name": "stdout",
     "output_type": "stream",
     "text": [
      "<class 'netCDF4._netCDF4.Dataset'>\n",
      "root group (NETCDF4 data model, file format HDF5):\n",
      "    Conventions: CF-1.5\n",
      "    Metadata_Conventions: CF-1.5, Unidata Dataset Discovery v1.0\n",
      "    standard_name_vocabulary: CF Standard Name Table (version 17, 24 March 2011)\n",
      "    project: S-NPP Data Exploitation\n",
      "    institution: DOC/NOAA/NESDIS/NDE->S-NPP Data Exploitation, NESDIS, NOAA, U.S. Department of Commerce\n",
      "    naming_authority: gov.noaa.nesdis.nde\n",
      "    satellite_name: NPP\n",
      "    instrument_name: VIIRS\n",
      "    title: JPSS Risk Reduction Unique Aerosol Optical Depth\n",
      "    summary: Aerosol Optical Depth\n",
      "    history: VIIRS AOD Version 1.0\n",
      "    processing_level: NOAA Level 2\n",
      "    references: \n",
      "    id: 7e854908-1172-4d11-ae90-fb768144e6b2\n",
      "    Metadata_Link: JRR-AOD_v1r1_npp_s201808091955538_e201808091957180_c201808092049460.nc\n",
      "    start_orbit_number: 35149\n",
      "    end_orbit_number: 35149\n",
      "    day_night_data_flag: day\n",
      "    ascend_descend_data_flag: 0\n",
      "    time_coverage_start: 2018-08-09T19:55:53Z\n",
      "    time_coverage_end: 2018-08-09T19:57:18Z\n",
      "    date_created: 2018-08-09T20:49:50Z\n",
      "    cdm_data_type: swath\n",
      "    geospatial_first_scanline_first_fov_lat: 42.36294\n",
      "    geospatial_first_scanline_last_fov_lat: 37.010334\n",
      "    geospatial_last_scanline_first_fov_lat: 47.389923\n",
      "    geospatial_last_scanline_last_fov_lat: 41.609993\n",
      "    geospatial_first_scanline_first_fov_lon: -86.85305\n",
      "    geospatial_first_scanline_last_fov_lon: -122.27887\n",
      "    geospatial_last_scanline_first_fov_lon: -86.99369\n",
      "    geospatial_last_scanline_last_fov_lon: -125.2669\n",
      "    geospatial_lat_units: degrees_north\n",
      "    geospatial_lon_units: degrees_east\n",
      "    geospatial_bounds: POLYGON((-86.8531 42.3629,-122.279 37.0103,-125.267 41.61,-86.9937 47.3899,-86.8531 42.3629))\n",
      "    dimensions(sizes): Rows(768), Columns(3200)\n",
      "    variables(dimensions): float32 Latitude(Rows,Columns), float32 Longitude(Rows,Columns), float32 AOD550(Rows,Columns), float32 QCAll(Rows,Columns)\n",
      "    groups: \n"
     ]
    }
   ],
   "source": [
    "print(file_id)"
   ]
  },
  {
   "cell_type": "code",
   "execution_count": 12,
   "metadata": {},
   "outputs": [
    {
     "data": {
      "text/plain": [
       "dict_keys(['Latitude', 'Longitude', 'AOD550', 'QCAll'])"
      ]
     },
     "execution_count": 12,
     "metadata": {},
     "output_type": "execute_result"
    }
   ],
   "source": [
    "file_id.variables.keys()"
   ]
  },
  {
   "cell_type": "code",
   "execution_count": 13,
   "metadata": {},
   "outputs": [
    {
     "data": {
      "text/plain": [
       "netCDF4._netCDF4.Variable"
      ]
     },
     "execution_count": 13,
     "metadata": {},
     "output_type": "execute_result"
    }
   ],
   "source": [
    "AOD_550 = file_id.variables['AOD550']\n",
    "type(AOD_550)"
   ]
  },
  {
   "cell_type": "code",
   "execution_count": 14,
   "metadata": {},
   "outputs": [
    {
     "data": {
      "text/plain": [
       "(768, 3200)"
      ]
     },
     "execution_count": 14,
     "metadata": {},
     "output_type": "execute_result"
    }
   ],
   "source": [
    "import numpy as np\n",
    "AOD_550 = np.array(AOD_550)\n",
    "AOD_550.shape"
   ]
  },
  {
   "cell_type": "code",
   "execution_count": 15,
   "metadata": {},
   "outputs": [
    {
     "data": {
      "text/plain": [
       "array([[-999.9, -999.9, -999.9, ..., -999.9, -999.9, -999.9],\n",
       "       [-999.9, -999.9, -999.9, ..., -999.9, -999.9, -999.9],\n",
       "       [-999.9, -999.9, -999.9, ..., -999.9, -999.9, -999.9],\n",
       "       ...,\n",
       "       [-999.9, -999.9, -999.9, ..., -999.9, -999.9, -999.9],\n",
       "       [-999.9, -999.9, -999.9, ..., -999.9, -999.9, -999.9],\n",
       "       [-999.9, -999.9, -999.9, ..., -999.9, -999.9, -999.9]],\n",
       "      dtype=float32)"
      ]
     },
     "execution_count": 15,
     "metadata": {},
     "output_type": "execute_result"
    }
   ],
   "source": [
    "AOD_550"
   ]
  },
  {
   "cell_type": "code",
   "execution_count": 16,
   "metadata": {},
   "outputs": [
    {
     "name": "stdout",
     "output_type": "stream",
     "text": [
      "-289.06787\n"
     ]
    }
   ],
   "source": [
    "avgAOD = AOD_550.mean()\n",
    "print(avgAOD)"
   ]
  },
  {
   "cell_type": "code",
   "execution_count": 17,
   "metadata": {},
   "outputs": [
    {
     "name": "stdout",
     "output_type": "stream",
     "text": [
      "<class 'netCDF4._netCDF4.Variable'>\n",
      "float32 AOD550(Rows, Columns)\n",
      "    _FillValue: -999.9\n",
      "    long_name: Aerosol optical depth at 550 nm\n",
      "    units: 1\n",
      "    valid_range: [-0.05  5.  ]\n",
      "    coordinates: Longitude Latitude\n",
      "unlimited dimensions: \n",
      "current shape = (768, 3200)\n",
      "filling on\n"
     ]
    }
   ],
   "source": [
    "print(file_id.variables['AOD550'])"
   ]
  },
  {
   "cell_type": "code",
   "execution_count": 18,
   "metadata": {},
   "outputs": [
    {
     "data": {
      "text/plain": [
       "-999.9"
      ]
     },
     "execution_count": 18,
     "metadata": {},
     "output_type": "execute_result"
    }
   ],
   "source": [
    "missing = file_id.variables['AOD550']._FillValue\n",
    "missing"
   ]
  },
  {
   "cell_type": "code",
   "execution_count": 19,
   "metadata": {},
   "outputs": [
    {
     "data": {
      "text/plain": [
       "(array([-9.9990002e+02, -9.9990002e+02,  5.4056549e-01,  6.3157362e-01,\n",
       "         1.5747026e+00,  5.9736818e-01,  6.2397045e-01,  6.7140901e-01,\n",
       "         6.5959287e-01,  7.6103389e-01], dtype=float32),\n",
       " array([False, False,  True,  True,  True,  True,  True,  True,  True,\n",
       "         True]))"
      ]
     },
     "execution_count": 19,
     "metadata": {},
     "output_type": "execute_result"
    }
   ],
   "source": [
    "keep_rows = AOD_550 != missing\n",
    "\n",
    "AOD_550[50:60, 100], keep_rows[50:60, 100]"
   ]
  },
  {
   "cell_type": "code",
   "execution_count": 20,
   "metadata": {},
   "outputs": [
    {
     "data": {
      "text/plain": [
       "array([0.06569075, 0.08305545, 0.11872342, ..., 0.14237013, 0.16145205,\n",
       "       0.14933026], dtype=float32)"
      ]
     },
     "execution_count": 20,
     "metadata": {},
     "output_type": "execute_result"
    }
   ],
   "source": [
    "AOD_550_filtered = AOD_550[keep_rows]\n",
    "AOD_550_filtered"
   ]
  },
  {
   "cell_type": "code",
   "execution_count": 21,
   "metadata": {},
   "outputs": [
    {
     "data": {
      "text/plain": [
       "0.41903266"
      ]
     },
     "execution_count": 21,
     "metadata": {},
     "output_type": "execute_result"
    }
   ],
   "source": [
    "# Re-compute the statistics, these values look more reasonable.\n",
    "avgAOD = AOD_550_filtered.mean()\n",
    "avgAOD"
   ]
  },
  {
   "cell_type": "code",
   "execution_count": 22,
   "metadata": {},
   "outputs": [
    {
     "data": {
      "text/plain": [
       "(2457600, 1746384)"
      ]
     },
     "execution_count": 22,
     "metadata": {},
     "output_type": "execute_result"
    }
   ],
   "source": [
    "AOD_550.size, AOD_550_filtered.size"
   ]
  },
  {
   "cell_type": "code",
   "execution_count": 23,
   "metadata": {},
   "outputs": [
    {
     "data": {
      "text/plain": [
       "numpy.ma.core.MaskedArray"
      ]
     },
     "execution_count": 23,
     "metadata": {},
     "output_type": "execute_result"
    }
   ],
   "source": [
    "AOD_550 = file_id.variables['AOD550'][:,:]\n",
    "type(AOD_550)"
   ]
  },
  {
   "cell_type": "code",
   "execution_count": 24,
   "metadata": {},
   "outputs": [
    {
     "data": {
      "text/plain": [
       "masked_array(data=[--, --, 0.5405654907226562, 0.6315736174583435,\n",
       "                   1.5747026205062866, 0.5973681807518005,\n",
       "                   0.6239704489707947, 0.671409010887146,\n",
       "                   0.659592866897583, 0.7610338926315308],\n",
       "             mask=[ True,  True, False, False, False, False, False, False,\n",
       "                   False, False],\n",
       "       fill_value=-999.9,\n",
       "            dtype=float32)"
      ]
     },
     "execution_count": 24,
     "metadata": {},
     "output_type": "execute_result"
    }
   ],
   "source": [
    "AOD_550[50:60, 100]"
   ]
  },
  {
   "cell_type": "code",
   "execution_count": 25,
   "metadata": {},
   "outputs": [
    {
     "data": {
      "text/plain": [
       "0.41903259105672064"
      ]
     },
     "execution_count": 25,
     "metadata": {},
     "output_type": "execute_result"
    }
   ],
   "source": [
    "avgAOD = AOD_550.mean()\n",
    "avgAOD"
   ]
  },
  {
   "cell_type": "code",
   "execution_count": 26,
   "metadata": {},
   "outputs": [
    {
     "data": {
      "text/plain": [
       "array([-0.05,  5.  ], dtype=float32)"
      ]
     },
     "execution_count": 26,
     "metadata": {},
     "output_type": "execute_result"
    }
   ],
   "source": [
    "file_id.variables['AOD550'].valid_range"
   ]
  },
  {
   "cell_type": "markdown",
   "metadata": {},
   "source": [
    "## 5.3 HDF"
   ]
  },
  {
   "cell_type": "code",
   "execution_count": 27,
   "metadata": {},
   "outputs": [
    {
     "data": {
      "text/plain": [
       "<HDF5 file \"3B-HHR.MS.MRG.3IMERG.20170827-S120000-E122959.0720.V06B.HDF5\" (mode r)>"
      ]
     },
     "execution_count": 27,
     "metadata": {},
     "output_type": "execute_result"
    }
   ],
   "source": [
    "import h5py\n",
    "\n",
    "fname = 'data/3B-HHR.MS.MRG.3IMERG.20170827-S120000-E122959.0720.V06B.HDF5' \n",
    "file_id = h5py.File(fname, 'r')\n",
    "file_id"
   ]
  },
  {
   "cell_type": "code",
   "execution_count": 28,
   "metadata": {},
   "outputs": [
    {
     "data": {
      "text/plain": [
       "['Grid']"
      ]
     },
     "execution_count": 28,
     "metadata": {},
     "output_type": "execute_result"
    }
   ],
   "source": [
    "list(file_id)"
   ]
  },
  {
   "cell_type": "code",
   "execution_count": 29,
   "metadata": {},
   "outputs": [
    {
     "name": "stdout",
     "output_type": "stream",
     "text": [
      "['nv', 'lonv', 'latv', 'time', 'lon', 'lat', 'time_bnds', 'lon_bnds', 'lat_bnds', 'precipitationCal', 'precipitationUncal', 'randomError', 'HQprecipitation', 'HQprecipSource', 'HQobservationTime', 'IRprecipitation', 'IRkalmanFilterWeight', 'probabilityLiquidPrecipitation', 'precipitationQualityIndex']\n"
     ]
    }
   ],
   "source": [
    "print(list(file_id[\"Grid\"].keys()))"
   ]
  },
  {
   "cell_type": "code",
   "execution_count": 30,
   "metadata": {},
   "outputs": [
    {
     "name": "stdout",
     "output_type": "stream",
     "text": [
      "Grid\n",
      "Grid/HQobservationTime\n",
      "Grid/HQprecipSource\n",
      "Grid/HQprecipitation\n",
      "Grid/IRkalmanFilterWeight\n",
      "Grid/IRprecipitation\n",
      "Grid/lat\n",
      "Grid/lat_bnds\n",
      "Grid/latv\n",
      "Grid/lon\n",
      "Grid/lon_bnds\n",
      "Grid/lonv\n",
      "Grid/nv\n",
      "Grid/precipitationCal\n",
      "Grid/precipitationQualityIndex\n",
      "Grid/precipitationUncal\n",
      "Grid/probabilityLiquidPrecipitation\n",
      "Grid/randomError\n",
      "Grid/time\n",
      "Grid/time_bnds\n"
     ]
    }
   ],
   "source": [
    "file_id.visit(print)"
   ]
  },
  {
   "cell_type": "code",
   "execution_count": 31,
   "metadata": {},
   "outputs": [
    {
     "data": {
      "text/plain": [
       "array([[[-9999.9, -9999.9, -9999.9, ..., -9999.9,     0. ,     0. ],\n",
       "        [-9999.9, -9999.9, -9999.9, ..., -9999.9,     0. ,     0. ],\n",
       "        [-9999.9, -9999.9, -9999.9, ..., -9999.9,     0. ,     0. ],\n",
       "        ...,\n",
       "        [-9999.9, -9999.9, -9999.9, ..., -9999.9,     0. ,     0. ],\n",
       "        [-9999.9, -9999.9, -9999.9, ..., -9999.9,     0. ,     0. ],\n",
       "        [-9999.9, -9999.9, -9999.9, ..., -9999.9,     0. ,     0. ]]],\n",
       "      dtype=float32)"
      ]
     },
     "execution_count": 31,
     "metadata": {},
     "output_type": "execute_result"
    }
   ],
   "source": [
    "precip = file_id[\"Grid/precipitationCal\"][:,:,:]\n",
    "precip"
   ]
  },
  {
   "cell_type": "code",
   "execution_count": 32,
   "metadata": {},
   "outputs": [
    {
     "name": "stdout",
     "output_type": "stream",
     "text": [
      "['DimensionNames', 'Units', 'units', 'coordinates', '_FillValue', 'CodeMissingValue', 'DIMENSION_LIST']\n"
     ]
    }
   ],
   "source": [
    "print(list(file_id[\"Grid/precipitationCal\"].attrs))"
   ]
  },
  {
   "cell_type": "code",
   "execution_count": 33,
   "metadata": {},
   "outputs": [
    {
     "data": {
      "text/plain": [
       "-9999.9"
      ]
     },
     "execution_count": 33,
     "metadata": {},
     "output_type": "execute_result"
    }
   ],
   "source": [
    "missing = file_id[\"Grid/precipitationCal\"].attrs['_FillValue']\n",
    "missing"
   ]
  },
  {
   "cell_type": "code",
   "execution_count": 34,
   "metadata": {},
   "outputs": [
    {
     "data": {
      "text/plain": [
       "masked_array(\n",
       "  data=[[[--, --, --, ..., --, 0.0, 0.0],\n",
       "         [--, --, --, ..., --, 0.0, 0.0],\n",
       "         [--, --, --, ..., --, 0.0, 0.0],\n",
       "         ...,\n",
       "         [--, --, --, ..., --, 0.0, 0.0],\n",
       "         [--, --, --, ..., --, 0.0, 0.0],\n",
       "         [--, --, --, ..., --, 0.0, 0.0]]],\n",
       "  mask=[[[ True,  True,  True, ...,  True, False, False],\n",
       "         [ True,  True,  True, ...,  True, False, False],\n",
       "         [ True,  True,  True, ...,  True, False, False],\n",
       "         ...,\n",
       "         [ True,  True,  True, ...,  True, False, False],\n",
       "         [ True,  True,  True, ...,  True, False, False],\n",
       "         [ True,  True,  True, ...,  True, False, False]]],\n",
       "  fill_value=1e+20,\n",
       "  dtype=float32)"
      ]
     },
     "execution_count": 34,
     "metadata": {},
     "output_type": "execute_result"
    }
   ],
   "source": [
    "PrecipMask = (precip == missing)\n",
    "precip = np.ma.masked_array(precip, mask=PrecipMask)\n",
    "precip"
   ]
  },
  {
   "cell_type": "code",
   "execution_count": 35,
   "metadata": {},
   "outputs": [
    {
     "data": {
      "text/plain": [
       "0.10843209494915407"
      ]
     },
     "execution_count": 35,
     "metadata": {},
     "output_type": "execute_result"
    }
   ],
   "source": [
    "precip.mean()"
   ]
  },
  {
   "cell_type": "markdown",
   "metadata": {},
   "source": [
    "## 5.4 GRIB2"
   ]
  },
  {
   "cell_type": "code",
   "execution_count": 36,
   "metadata": {},
   "outputs": [],
   "source": [
    "import pygrib"
   ]
  },
  {
   "cell_type": "code",
   "execution_count": 37,
   "metadata": {},
   "outputs": [],
   "source": [
    "filename = 'data/gfsanl_3_20200501_0000_000.grb2'\n",
    "gfs_grb2 = pygrib.open(filename)\n",
    "records = [str(grb) for grb in gfs_grb2]"
   ]
  },
  {
   "cell_type": "code",
   "execution_count": 38,
   "metadata": {},
   "outputs": [
    {
     "data": {
      "text/plain": [
       "'13:Temperature:K (instant):regular_ll:isobaricInPa:level 40 Pa:fcst time 0 hrs:from 202005010000'"
      ]
     },
     "execution_count": 38,
     "metadata": {},
     "output_type": "execute_result"
    }
   ],
   "source": [
    "records[12]"
   ]
  },
  {
   "cell_type": "code",
   "execution_count": 39,
   "metadata": {},
   "outputs": [],
   "source": [
    "temps = gfs_grb2.select(name='Temperature')"
   ]
  },
  {
   "cell_type": "code",
   "execution_count": 40,
   "metadata": {},
   "outputs": [],
   "source": [
    "temp = gfs_grb2[315]"
   ]
  },
  {
   "cell_type": "code",
   "execution_count": 41,
   "metadata": {},
   "outputs": [
    {
     "data": {
      "text/plain": [
       "[13:Temperature:K (instant):regular_ll:isobaricInPa:level 40 Pa:fcst time 0 hrs:from 202005010000,\n",
       " 17:Temperature:K (instant):regular_ll:isobaricInhPa:level 100 Pa:fcst time 0 hrs:from 202005010000,\n",
       " 23:Temperature:K (instant):regular_ll:isobaricInhPa:level 200 Pa:fcst time 0 hrs:from 202005010000,\n",
       " 29:Temperature:K (instant):regular_ll:isobaricInhPa:level 300 Pa:fcst time 0 hrs:from 202005010000,\n",
       " 35:Temperature:K (instant):regular_ll:isobaricInhPa:level 500 Pa:fcst time 0 hrs:from 202005010000,\n",
       " 41:Temperature:K (instant):regular_ll:isobaricInhPa:level 700 Pa:fcst time 0 hrs:from 202005010000,\n",
       " 47:Temperature:K (instant):regular_ll:isobaricInhPa:level 1000 Pa:fcst time 0 hrs:from 202005010000,\n",
       " 54:Temperature:K (instant):regular_ll:isobaricInhPa:level 1500 Pa:fcst time 0 hrs:from 202005010000,\n",
       " 58:Temperature:K (instant):regular_ll:isobaricInhPa:level 2000 Pa:fcst time 0 hrs:from 202005010000,\n",
       " 65:Temperature:K (instant):regular_ll:isobaricInhPa:level 3000 Pa:fcst time 0 hrs:from 202005010000,\n",
       " 72:Temperature:K (instant):regular_ll:isobaricInhPa:level 4000 Pa:fcst time 0 hrs:from 202005010000,\n",
       " 76:Temperature:K (instant):regular_ll:isobaricInhPa:level 5000 Pa:fcst time 0 hrs:from 202005010000,\n",
       " 89:Temperature:K (instant):regular_ll:isobaricInhPa:level 7000 Pa:fcst time 0 hrs:from 202005010000,\n",
       " 96:Temperature:K (instant):regular_ll:isobaricInhPa:level 10000 Pa:fcst time 0 hrs:from 202005010000,\n",
       " 111:Temperature:K (instant):regular_ll:isobaricInhPa:level 15000 Pa:fcst time 0 hrs:from 202005010000,\n",
       " 126:Temperature:K (instant):regular_ll:isobaricInhPa:level 20000 Pa:fcst time 0 hrs:from 202005010000,\n",
       " 141:Temperature:K (instant):regular_ll:isobaricInhPa:level 25000 Pa:fcst time 0 hrs:from 202005010000,\n",
       " 156:Temperature:K (instant):regular_ll:isobaricInhPa:level 30000 Pa:fcst time 0 hrs:from 202005010000,\n",
       " 171:Temperature:K (instant):regular_ll:isobaricInhPa:level 35000 Pa:fcst time 0 hrs:from 202005010000,\n",
       " 186:Temperature:K (instant):regular_ll:isobaricInhPa:level 40000 Pa:fcst time 0 hrs:from 202005010000,\n",
       " 201:Temperature:K (instant):regular_ll:isobaricInhPa:level 45000 Pa:fcst time 0 hrs:from 202005010000,\n",
       " 215:Temperature:K (instant):regular_ll:isobaricInhPa:level 50000 Pa:fcst time 0 hrs:from 202005010000,\n",
       " 230:Temperature:K (instant):regular_ll:isobaricInhPa:level 55000 Pa:fcst time 0 hrs:from 202005010000,\n",
       " 244:Temperature:K (instant):regular_ll:isobaricInhPa:level 60000 Pa:fcst time 0 hrs:from 202005010000,\n",
       " 258:Temperature:K (instant):regular_ll:isobaricInhPa:level 65000 Pa:fcst time 0 hrs:from 202005010000,\n",
       " 272:Temperature:K (instant):regular_ll:isobaricInhPa:level 70000 Pa:fcst time 0 hrs:from 202005010000,\n",
       " 287:Temperature:K (instant):regular_ll:isobaricInhPa:level 75000 Pa:fcst time 0 hrs:from 202005010000,\n",
       " 301:Temperature:K (instant):regular_ll:isobaricInhPa:level 80000 Pa:fcst time 0 hrs:from 202005010000,\n",
       " 315:Temperature:K (instant):regular_ll:isobaricInhPa:level 85000 Pa:fcst time 0 hrs:from 202005010000,\n",
       " 330:Temperature:K (instant):regular_ll:isobaricInhPa:level 90000 Pa:fcst time 0 hrs:from 202005010000,\n",
       " 344:Temperature:K (instant):regular_ll:isobaricInhPa:level 92500 Pa:fcst time 0 hrs:from 202005010000,\n",
       " 358:Temperature:K (instant):regular_ll:isobaricInhPa:level 95000 Pa:fcst time 0 hrs:from 202005010000,\n",
       " 373:Temperature:K (instant):regular_ll:isobaricInhPa:level 97500 Pa:fcst time 0 hrs:from 202005010000,\n",
       " 386:Temperature:K (instant):regular_ll:isobaricInhPa:level 100000 Pa:fcst time 0 hrs:from 202005010000,\n",
       " 404:Temperature:K (instant):regular_ll:surface:level 0:fcst time 0 hrs:from 202005010000,\n",
       " 445:Temperature:K (instant):regular_ll:tropopause:level 0:fcst time 0 hrs:from 202005010000,\n",
       " 454:Temperature:K (instant):regular_ll:maxWind:level 0:fcst time 0 hrs:from 202005010000,\n",
       " 463:Temperature:K (instant):regular_ll:heightAboveGround:level 80 m:fcst time 0 hrs:from 202005010000,\n",
       " 468:Temperature:K (instant):regular_ll:heightAboveGround:level 100 m:fcst time 0 hrs:from 202005010000,\n",
       " 471:Temperature:K (instant):regular_ll:heightAboveSea:level 1829 m:fcst time 0 hrs:from 202005010000,\n",
       " 474:Temperature:K (instant):regular_ll:heightAboveSea:level 2743 m:fcst time 0 hrs:from 202005010000,\n",
       " 477:Temperature:K (instant):regular_ll:heightAboveSea:level 3658 m:fcst time 0 hrs:from 202005010000,\n",
       " 484:Temperature:K (instant):regular_ll:pressureFromGroundLayer:levels 3000-0 Pa:fcst time 0 hrs:from 202005010000,\n",
       " 497:Temperature:K (instant):regular_ll:sigma:level 0.995 sigma value:fcst time 0 hrs:from 202005010000,\n",
       " 510:Temperature:K (instant):regular_ll:potentialVorticity:level 2e-06 K m2 kg-1 s-1:fcst time 0 hrs:from 202005010000,\n",
       " 516:Temperature:K (instant):regular_ll:potentialVorticity:level -2.147481648 K m2 kg-1 s-1:fcst time 0 hrs:from 202005010000]"
      ]
     },
     "execution_count": 41,
     "metadata": {},
     "output_type": "execute_result"
    }
   ],
   "source": [
    "temps"
   ]
  },
  {
   "cell_type": "code",
   "execution_count": 42,
   "metadata": {},
   "outputs": [
    {
     "data": {
      "text/plain": [
       "['globalDomain',\n",
       " 'GRIBEditionNumber',\n",
       " 'tablesVersionLatest',\n",
       " 'grib2divider',\n",
       " 'is_efas',\n",
       " 'angleSubdivisions',\n",
       " 'missingValue',\n",
       " 'ieeeFloats',\n",
       " 'isHindcast',\n",
       " 'section0Length',\n",
       " 'identifier',\n",
       " 'discipline',\n",
       " 'editionNumber',\n",
       " 'totalLength',\n",
       " 'sectionNumber',\n",
       " 'section1Length',\n",
       " 'numberOfSection',\n",
       " 'centre',\n",
       " 'centreDescription',\n",
       " 'subCentre',\n",
       " 'tablesVersion',\n",
       " 'masterDir',\n",
       " 'localTablesVersion',\n",
       " 'significanceOfReferenceTime',\n",
       " 'year',\n",
       " 'month',\n",
       " 'day',\n",
       " 'hour',\n",
       " 'minute',\n",
       " 'second',\n",
       " 'dataDate',\n",
       " 'julianDay',\n",
       " 'dataTime',\n",
       " 'productionStatusOfProcessedData',\n",
       " 'typeOfProcessedData',\n",
       " 'md5Section1',\n",
       " 'selectStepTemplateInterval',\n",
       " 'selectStepTemplateInstant',\n",
       " 'stepType',\n",
       " 'is_chemical',\n",
       " 'is_chemical_distfn',\n",
       " 'is_aerosol',\n",
       " 'is_aerosol_optical',\n",
       " 'setCalendarId',\n",
       " 'deleteCalendarId',\n",
       " 'is_uerra',\n",
       " 'sectionNumber',\n",
       " 'grib2LocalSectionPresent',\n",
       " 'deleteLocalDefinition',\n",
       " 'sectionNumber',\n",
       " 'gridDescriptionSectionPresent',\n",
       " 'section3Length',\n",
       " 'numberOfSection',\n",
       " 'sourceOfGridDefinition',\n",
       " 'numberOfDataPoints',\n",
       " 'numberOfOctectsForNumberOfPoints',\n",
       " 'interpretationOfNumberOfPoints',\n",
       " 'PLPresent',\n",
       " 'gridDefinitionTemplateNumber',\n",
       " 'gridDefinitionDescription',\n",
       " 'shapeOfTheEarth',\n",
       " 'scaleFactorOfRadiusOfSphericalEarth',\n",
       " 'scaledValueOfRadiusOfSphericalEarth',\n",
       " 'scaleFactorOfEarthMajorAxis',\n",
       " 'scaledValueOfEarthMajorAxis',\n",
       " 'scaleFactorOfEarthMinorAxis',\n",
       " 'scaledValueOfEarthMinorAxis',\n",
       " 'radius',\n",
       " 'Ni',\n",
       " 'Nj',\n",
       " 'basicAngleOfTheInitialProductionDomain',\n",
       " 'mBasicAngle',\n",
       " 'angleMultiplier',\n",
       " 'mAngleMultiplier',\n",
       " 'subdivisionsOfBasicAngle',\n",
       " 'angleDivisor',\n",
       " 'latitudeOfFirstGridPoint',\n",
       " 'longitudeOfFirstGridPoint',\n",
       " 'resolutionAndComponentFlags',\n",
       " 'resolutionAndComponentFlags1',\n",
       " 'resolutionAndComponentFlags2',\n",
       " 'iDirectionIncrementGiven',\n",
       " 'jDirectionIncrementGiven',\n",
       " 'uvRelativeToGrid',\n",
       " 'resolutionAndComponentFlags6',\n",
       " 'resolutionAndComponentFlags7',\n",
       " 'resolutionAndComponentFlags8',\n",
       " 'ijDirectionIncrementGiven',\n",
       " 'latitudeOfLastGridPoint',\n",
       " 'longitudeOfLastGridPoint',\n",
       " 'iDirectionIncrement',\n",
       " 'jDirectionIncrement',\n",
       " 'scanningMode',\n",
       " 'iScansNegatively',\n",
       " 'jScansPositively',\n",
       " 'jPointsAreConsecutive',\n",
       " 'alternativeRowScanning',\n",
       " 'iScansPositively',\n",
       " 'scanningMode5',\n",
       " 'scanningMode6',\n",
       " 'scanningMode7',\n",
       " 'scanningMode8',\n",
       " 'g2grid',\n",
       " 'latitudeOfFirstGridPointInDegrees',\n",
       " 'longitudeOfFirstGridPointInDegrees',\n",
       " 'latitudeOfLastGridPointInDegrees',\n",
       " 'longitudeOfLastGridPointInDegrees',\n",
       " 'iDirectionIncrementInDegrees',\n",
       " 'jDirectionIncrementInDegrees',\n",
       " 'latLonValues',\n",
       " 'latitudes',\n",
       " 'longitudes',\n",
       " 'distinctLatitudes',\n",
       " 'distinctLongitudes',\n",
       " 'gridType',\n",
       " 'md5Section3',\n",
       " 'sectionNumber',\n",
       " 'section4Length',\n",
       " 'numberOfSection',\n",
       " 'NV',\n",
       " 'neitherPresent',\n",
       " 'productDefinitionTemplateNumber',\n",
       " 'genVertHeightCoords',\n",
       " 'parameterCategory',\n",
       " 'parameterNumber',\n",
       " 'parameterUnits',\n",
       " 'parameterName',\n",
       " 'typeOfGeneratingProcess',\n",
       " 'backgroundProcess',\n",
       " 'generatingProcessIdentifier',\n",
       " 'hoursAfterDataCutoff',\n",
       " 'minutesAfterDataCutoff',\n",
       " 'indicatorOfUnitOfTimeRange',\n",
       " 'stepUnits',\n",
       " 'forecastTime',\n",
       " 'startStep',\n",
       " 'endStep',\n",
       " 'stepRange',\n",
       " 'stepTypeInternal',\n",
       " 'validityDate',\n",
       " 'validityTime',\n",
       " 'typeOfFirstFixedSurface',\n",
       " 'unitsOfFirstFixedSurface',\n",
       " 'nameOfFirstFixedSurface',\n",
       " 'scaleFactorOfFirstFixedSurface',\n",
       " 'scaledValueOfFirstFixedSurface',\n",
       " 'typeOfSecondFixedSurface',\n",
       " 'unitsOfSecondFixedSurface',\n",
       " 'nameOfSecondFixedSurface',\n",
       " 'scaleFactorOfSecondFixedSurface',\n",
       " 'scaledValueOfSecondFixedSurface',\n",
       " 'pressureUnits',\n",
       " 'typeOfLevel',\n",
       " 'level',\n",
       " 'bottomLevel',\n",
       " 'topLevel',\n",
       " 'tempPressureUnits',\n",
       " 'paramIdECMF',\n",
       " 'paramId',\n",
       " 'shortNameECMF',\n",
       " 'shortName',\n",
       " 'unitsECMF',\n",
       " 'units',\n",
       " 'nameECMF',\n",
       " 'name',\n",
       " 'cfNameECMF',\n",
       " 'cfName',\n",
       " 'cfVarNameECMF',\n",
       " 'cfVarName',\n",
       " 'modelName',\n",
       " 'ifsParam',\n",
       " 'PVPresent',\n",
       " 'deletePV',\n",
       " 'md5Section4',\n",
       " 'lengthOfHeaders',\n",
       " 'md5Headers',\n",
       " 'sectionNumber',\n",
       " 'section5Length',\n",
       " 'numberOfSection',\n",
       " 'numberOfValues',\n",
       " 'dataRepresentationTemplateNumber',\n",
       " 'packingType',\n",
       " 'referenceValue',\n",
       " 'referenceValueError',\n",
       " 'binaryScaleFactor',\n",
       " 'decimalScaleFactor',\n",
       " 'optimizeScaleFactor',\n",
       " 'bitsPerValue',\n",
       " 'typeOfOriginalFieldValues',\n",
       " 'groupSplittingMethodUsed',\n",
       " 'missingValueManagementUsed',\n",
       " 'primaryMissingValueSubstitute',\n",
       " 'secondaryMissingValueSubstitute',\n",
       " 'numberOfGroupsOfDataValues',\n",
       " 'referenceForGroupWidths',\n",
       " 'numberOfBitsUsedForTheGroupWidths',\n",
       " 'referenceForGroupLengths',\n",
       " 'lengthIncrementForTheGroupLengths',\n",
       " 'trueLengthOfLastGroup',\n",
       " 'numberOfBitsForScaledGroupLengths',\n",
       " 'orderOfSpatialDifferencing',\n",
       " 'numberOfOctetsExtraDescriptors',\n",
       " 'md5Section5',\n",
       " 'sectionNumber',\n",
       " 'section6Length',\n",
       " 'numberOfSection',\n",
       " 'bitMapIndicator',\n",
       " 'bitmapPresent',\n",
       " 'missingValuesPresent',\n",
       " 'md5Section6',\n",
       " 'sectionNumber',\n",
       " 'section7Length',\n",
       " 'numberOfSection',\n",
       " 'codedValues',\n",
       " 'values',\n",
       " 'maximum',\n",
       " 'minimum',\n",
       " 'average',\n",
       " 'numberOfMissing',\n",
       " 'standardDeviation',\n",
       " 'skewness',\n",
       " 'kurtosis',\n",
       " 'isConstant',\n",
       " 'changeDecimalPrecision',\n",
       " 'decimalPrecision',\n",
       " 'setBitsPerValue',\n",
       " 'getNumberOfValues',\n",
       " 'scaleValuesBy',\n",
       " 'offsetValuesBy',\n",
       " 'productType',\n",
       " 'md5Section7',\n",
       " 'section8Length',\n",
       " 'analDate',\n",
       " 'validDate']"
      ]
     },
     "execution_count": 42,
     "metadata": {},
     "output_type": "execute_result"
    }
   ],
   "source": [
    "temp.keys()"
   ]
  },
  {
   "cell_type": "code",
   "execution_count": 43,
   "metadata": {},
   "outputs": [],
   "source": [
    "lat = temp.latitudes\n",
    "lon = temp.longitudes\n",
    "level = temp.level\n",
    "units = temp.units\n",
    "analysis_date = temp.analDate\n",
    "fcst_time = temp.forecastTime"
   ]
  },
  {
   "cell_type": "markdown",
   "metadata": {},
   "source": [
    "## 5.5 Importing Data using xarray\n",
    "### 5.5.1 netCDF"
   ]
  },
  {
   "cell_type": "code",
   "execution_count": 44,
   "metadata": {},
   "outputs": [],
   "source": [
    "import xarray as xr"
   ]
  },
  {
   "cell_type": "code",
   "execution_count": 45,
   "metadata": {
    "scrolled": true
   },
   "outputs": [
    {
     "name": "stdout",
     "output_type": "stream",
     "text": [
      "<xarray.Dataset>\n",
      "Dimensions:               (Number_of_Cloud_Emis_Hing_Pts: 100, Number_of_Cloud_Layers: 8, Number_of_CrIS_FORs: 120, Number_of_Ispares: 129, Number_of_MW_Spectral_Pts: 16, Number_of_P_Levels: 100, Number_of_Rspares: 262, Number_of_Stability_Parameters: 16, Number_of_Surf_Emis_Hinge_Pts: 100)\n",
      "Coordinates:\n",
      "    Time                  (Number_of_CrIS_FORs) float64 ...\n",
      "    Latitude              (Number_of_CrIS_FORs) float32 ...\n",
      "    Longitude             (Number_of_CrIS_FORs) float32 ...\n",
      "    Pressure              (Number_of_CrIS_FORs, Number_of_P_Levels) float32 ...\n",
      "    Effective_Pressure    (Number_of_CrIS_FORs, Number_of_P_Levels) float32 ...\n",
      "Dimensions without coordinates: Number_of_Cloud_Emis_Hing_Pts, Number_of_Cloud_Layers, Number_of_CrIS_FORs, Number_of_Ispares, Number_of_MW_Spectral_Pts, Number_of_P_Levels, Number_of_Rspares, Number_of_Stability_Parameters, Number_of_Surf_Emis_Hinge_Pts\n",
      "Data variables:\n",
      "    quality_information   |S1 ...\n",
      "    CrIS_FORs             (Number_of_CrIS_FORs) float64 ...\n",
      "    View_Angle            (Number_of_CrIS_FORs) float32 ...\n",
      "    Satellite_Height      (Number_of_CrIS_FORs) float32 ...\n",
      "    FG_Mean_CO2           (Number_of_CrIS_FORs) float32 ...\n",
      "    Mean_CO2              (Number_of_CrIS_FORs) float32 ...\n",
      "    Solar_Zenith          (Number_of_CrIS_FORs) float32 ...\n",
      "    Ascending_Descending  (Number_of_CrIS_FORs) float32 ...\n",
      "    Topography            (Number_of_CrIS_FORs) float32 ...\n",
      "    Land_Fraction         (Number_of_CrIS_FORs) float32 ...\n",
      "    Surface_Pressure      (Number_of_CrIS_FORs) float32 ...\n",
      "    Skin_Temperature      (Number_of_CrIS_FORs) float32 ...\n",
      "    MIT_Skin_Temperature  (Number_of_CrIS_FORs) float32 ...\n",
      "    FG_Skin_Temperature   (Number_of_CrIS_FORs) float32 ...\n",
      "    MW_Surface_Class      (Number_of_CrIS_FORs) float32 ...\n",
      "    MW_Surface_Emis       (Number_of_CrIS_FORs) float32 ...\n",
      "    N_Smw_Per_FOV         (Number_of_CrIS_FORs) float64 ...\n",
      "    nemis_Per_FOV         (Number_of_CrIS_FORs) float64 ...\n",
      "    ncemis_Per_FOV        (Number_of_CrIS_FORs) float64 ...\n",
      "    ncld_Per_FOV          (Number_of_CrIS_FORs) float64 ...\n",
      "    Quality_Flag          (Number_of_CrIS_FORs) float64 ...\n",
      "    Ispare_Field          (Number_of_CrIS_FORs, Number_of_Ispares) float64 ...\n",
      "    Rspare_Field          (Number_of_CrIS_FORs, Number_of_Rspares) float32 ...\n",
      "    Cloud_Top_Pressure    (Number_of_CrIS_FORs, Number_of_Cloud_Layers) float32 ...\n",
      "    Cloud_Top_Fraction    (Number_of_CrIS_FORs, Number_of_Cloud_Layers) float32 ...\n",
      "    Temperature           (Number_of_CrIS_FORs, Number_of_P_Levels) float32 ...\n",
      "    MIT_Temperature       (Number_of_CrIS_FORs, Number_of_P_Levels) float32 ...\n",
      "    FG_Temperature        (Number_of_CrIS_FORs, Number_of_P_Levels) float32 ...\n",
      "    H2O                   (Number_of_CrIS_FORs, Number_of_P_Levels) float32 ...\n",
      "    MIT_H2O               (Number_of_CrIS_FORs, Number_of_P_Levels) float32 ...\n",
      "    FG_H2O                (Number_of_CrIS_FORs, Number_of_P_Levels) float32 ...\n",
      "    H2O_MR                (Number_of_CrIS_FORs, Number_of_P_Levels) float32 ...\n",
      "    MIT_H2O_MR            (Number_of_CrIS_FORs, Number_of_P_Levels) float32 ...\n",
      "    FG_H2O_MR             (Number_of_CrIS_FORs, Number_of_P_Levels) float32 ...\n",
      "    O3                    (Number_of_CrIS_FORs, Number_of_P_Levels) float32 ...\n",
      "    FG_O3                 (Number_of_CrIS_FORs, Number_of_P_Levels) float32 ...\n",
      "    O3_MR                 (Number_of_CrIS_FORs, Number_of_P_Levels) float32 ...\n",
      "    FG_O3_MR              (Number_of_CrIS_FORs, Number_of_P_Levels) float32 ...\n",
      "    Liquid_H2O            (Number_of_CrIS_FORs, Number_of_P_Levels) float32 ...\n",
      "    Liquid_H2O_MR         (Number_of_CrIS_FORs, Number_of_P_Levels) float32 ...\n",
      "    Ice_Liquid_Flag       (Number_of_CrIS_FORs, Number_of_P_Levels) float32 ...\n",
      "    CO                    (Number_of_CrIS_FORs, Number_of_P_Levels) float32 ...\n",
      "    CO_MR                 (Number_of_CrIS_FORs, Number_of_P_Levels) float32 ...\n",
      "    CH4                   (Number_of_CrIS_FORs, Number_of_P_Levels) float32 ...\n",
      "    CH4_MR                (Number_of_CrIS_FORs, Number_of_P_Levels) float32 ...\n",
      "    CO2                   (Number_of_CrIS_FORs, Number_of_P_Levels) float32 ...\n",
      "    HNO3                  (Number_of_CrIS_FORs, Number_of_P_Levels) float32 ...\n",
      "    HNO3_MR               (Number_of_CrIS_FORs, Number_of_P_Levels) float32 ...\n",
      "    N2O                   (Number_of_CrIS_FORs, Number_of_P_Levels) float32 ...\n",
      "    N2O_MR                (Number_of_CrIS_FORs, Number_of_P_Levels) float32 ...\n",
      "    SO2                   (Number_of_CrIS_FORs, Number_of_P_Levels) float32 ...\n",
      "    SO2_MR                (Number_of_CrIS_FORs, Number_of_P_Levels) float32 ...\n",
      "    MW_Frequency          (Number_of_CrIS_FORs, Number_of_MW_Spectral_Pts) float32 ...\n",
      "    MW_Emis               (Number_of_CrIS_FORs, Number_of_MW_Spectral_Pts) float32 ...\n",
      "    MIT_MW_Emis           (Number_of_CrIS_FORs, Number_of_MW_Spectral_Pts) float32 ...\n",
      "    IR_Emis_Freq          (Number_of_CrIS_FORs, Number_of_Surf_Emis_Hinge_Pts) float32 ...\n",
      "    FG_IR_Emis_Freq       (Number_of_CrIS_FORs, Number_of_Surf_Emis_Hinge_Pts) float32 ...\n",
      "    IR_Surface_Emis       (Number_of_CrIS_FORs, Number_of_Surf_Emis_Hinge_Pts) float32 ...\n",
      "    FG_IR_Surface_Emis    (Number_of_CrIS_FORs, Number_of_Surf_Emis_Hinge_Pts) float32 ...\n",
      "    IR_Surface_Refl       (Number_of_CrIS_FORs, Number_of_Surf_Emis_Hinge_Pts) float32 ...\n",
      "    Stability             (Number_of_CrIS_FORs, Number_of_Stability_Parameters) float32 ...\n",
      "    Cloud_Freq            (Number_of_CrIS_FORs, Number_of_Cloud_Layers, Number_of_Cloud_Emis_Hing_Pts) float32 ...\n",
      "    Cloud_Emis            (Number_of_CrIS_FORs, Number_of_Cloud_Layers, Number_of_Cloud_Emis_Hing_Pts) float32 ...\n",
      "    Cloud_Refl            (Number_of_CrIS_FORs, Number_of_Cloud_Layers, Number_of_Cloud_Emis_Hing_Pts) float32 ...\n",
      "Attributes:\n",
      "    Conventions:                              CF-1.5\n",
      "    Metadata_Conventions:                     CF-1.5, Unidata Datasset Discov...\n",
      "    standard_name_vocabulary:                 CF Standard Name Table (version...\n",
      "    project:                                  NPP Data Exploitation: NOAA NUCAPS\n",
      "    title:                                    NUCAPS_L2\n",
      "    summary:                                  NUCAPS retrieved profiles of te...\n",
      "    institution:                              DOC/NOAA/NESDIS/OSPO > Office o...\n",
      "    naming_authority:                         gov.noaa.nesdis.nde\n",
      "    instrument_name:                          CrIS, ATMS, VIIRS\n",
      "    creator_name:                             DOC/NOAA/NESDIS/STAR > IOSSPDT ...\n",
      "    creator_email:                            espcoperations@noaa.gov\n",
      "    creator_url:                              http://www.star.nesdis.noaa.gov\n",
      "    publisher_name:                           DOC/NOAA/NESDIS/NDE > NPP Data ...\n",
      "    publisher_email:                          espcoperations@noaa.gov\n",
      "    publisher_url:                            http://www.ospo.noaa.gov\n",
      "    references:                               Contact the OSPO PAL to request...\n",
      "    history:                                  Created by NUCAPS version 2.0, ...\n",
      "    processing_level:                         NOAA Level 2 data\n",
      "    geospatial_lat_units:                     degrees_north\n",
      "    geospatial_lon_units:                     degrees_east\n",
      "    date_created:                             2019-03-03T19:41:10Z\n",
      "    id:                                       6eabfb98-8577-4f24-8dd3-7bc48b8...\n",
      "    platform_name:                            NPP\n",
      "    Metadata_Link:                            NUCAPS-EDR_v2r0_npp_s2019030318...\n",
      "    source:                                   20190303_1848390_1849090_bin_00...\n",
      "    production_site:                          \n",
      "    production_environment:                   \n",
      "    start_orbit_number:                       38071\n",
      "    end_orbit_number:                         38071\n",
      "    starting_and_ending_orbit_node:           AA\n",
      "    day_night_data_flag:                      1\n",
      "    ascend_descend_data_flag:                 1\n",
      "    number_valid_scans:                       4\n",
      "    time_coverage_start:                      2019-03-03T18:48:39.0Z\n",
      "    time_coverage_end:                        2019-03-03T18:49:09.0Z\n",
      "    geospatial_first_scanline_first_fov_lat:  26.08\n",
      "    geospatial_first_scanline_last_fov_lat:   29.83\n",
      "    geospatial_first_scanline_first_fov_lon:  -96.54\n",
      "    geospatial_first_scanline_last_fov_lon:   -74.46\n",
      "    geospatial_last_scanline_first_fov_lat:   27.92\n",
      "    geospatial_last_scanline_last_fov_lat:    31.49\n",
      "    geospatial_last_scanline_first_fov_lon:   -96.39\n",
      "    geospatial_last_scanline_last_fov_lon:    -75.52\n",
      "    geospatial_bounds:                        POLYGON((-96.54 26.08, -88.47 2...\n",
      "    instrument_resolution:                    CrIS 2211 channels\n",
      "    retrieval_mode:                           IR+MW\n",
      "    number_valid_fovs:                        9\n"
     ]
    }
   ],
   "source": [
    "fname = 'data/NUCAPS-EDR_v2r0_npp_s201903031848390_e201903031849090_c201903031941100.nc'\n",
    "nucaps = xr.open_dataset(fname, decode_times=False)\n",
    "print(nucaps)"
   ]
  },
  {
   "cell_type": "code",
   "execution_count": 46,
   "metadata": {
    "scrolled": true
   },
   "outputs": [
    {
     "name": "stdout",
     "output_type": "stream",
     "text": [
      "<xarray.Dataset>\n",
      "Dimensions:               (Number_of_Cloud_Emis_Hing_Pts: 100, Number_of_Cloud_Layers: 8, Number_of_Ispares: 129, Number_of_MW_Spectral_Pts: 16, Number_of_P_Levels: 100, Number_of_Rspares: 262, Number_of_Stability_Parameters: 16, Number_of_Surf_Emis_Hinge_Pts: 100)\n",
      "Coordinates:\n",
      "    Time                  float64 ...\n",
      "    Latitude              float32 ...\n",
      "    Longitude             float32 ...\n",
      "    Pressure              (Number_of_P_Levels) float32 ...\n",
      "    Effective_Pressure    (Number_of_P_Levels) float32 ...\n",
      "Dimensions without coordinates: Number_of_Cloud_Emis_Hing_Pts, Number_of_Cloud_Layers, Number_of_Ispares, Number_of_MW_Spectral_Pts, Number_of_P_Levels, Number_of_Rspares, Number_of_Stability_Parameters, Number_of_Surf_Emis_Hinge_Pts\n",
      "Data variables:\n",
      "    quality_information   |S1 ...\n",
      "    CrIS_FORs             float64 ...\n",
      "    View_Angle            float32 ...\n",
      "    Satellite_Height      float32 ...\n",
      "    FG_Mean_CO2           float32 ...\n",
      "    Mean_CO2              float32 ...\n",
      "    Solar_Zenith          float32 ...\n",
      "    Ascending_Descending  float32 ...\n",
      "    Topography            float32 ...\n",
      "    Land_Fraction         float32 ...\n",
      "    Surface_Pressure      float32 ...\n",
      "    Skin_Temperature      float32 ...\n",
      "    MIT_Skin_Temperature  float32 ...\n",
      "    FG_Skin_Temperature   float32 ...\n",
      "    MW_Surface_Class      float32 ...\n",
      "    MW_Surface_Emis       float32 ...\n",
      "    N_Smw_Per_FOV         float64 ...\n",
      "    nemis_Per_FOV         float64 ...\n",
      "    ncemis_Per_FOV        float64 ...\n",
      "    ncld_Per_FOV          float64 ...\n",
      "    Quality_Flag          float64 ...\n",
      "    Ispare_Field          (Number_of_Ispares) float64 ...\n",
      "    Rspare_Field          (Number_of_Rspares) float32 ...\n",
      "    Cloud_Top_Pressure    (Number_of_Cloud_Layers) float32 ...\n",
      "    Cloud_Top_Fraction    (Number_of_Cloud_Layers) float32 ...\n",
      "    Temperature           (Number_of_P_Levels) float32 ...\n",
      "    MIT_Temperature       (Number_of_P_Levels) float32 ...\n",
      "    FG_Temperature        (Number_of_P_Levels) float32 ...\n",
      "    H2O                   (Number_of_P_Levels) float32 ...\n",
      "    MIT_H2O               (Number_of_P_Levels) float32 ...\n",
      "    FG_H2O                (Number_of_P_Levels) float32 ...\n",
      "    H2O_MR                (Number_of_P_Levels) float32 ...\n",
      "    MIT_H2O_MR            (Number_of_P_Levels) float32 ...\n",
      "    FG_H2O_MR             (Number_of_P_Levels) float32 ...\n",
      "    O3                    (Number_of_P_Levels) float32 ...\n",
      "    FG_O3                 (Number_of_P_Levels) float32 ...\n",
      "    O3_MR                 (Number_of_P_Levels) float32 ...\n",
      "    FG_O3_MR              (Number_of_P_Levels) float32 ...\n",
      "    Liquid_H2O            (Number_of_P_Levels) float32 ...\n",
      "    Liquid_H2O_MR         (Number_of_P_Levels) float32 ...\n",
      "    Ice_Liquid_Flag       (Number_of_P_Levels) float32 ...\n",
      "    CO                    (Number_of_P_Levels) float32 ...\n",
      "    CO_MR                 (Number_of_P_Levels) float32 ...\n",
      "    CH4                   (Number_of_P_Levels) float32 ...\n",
      "    CH4_MR                (Number_of_P_Levels) float32 ...\n",
      "    CO2                   (Number_of_P_Levels) float32 ...\n",
      "    HNO3                  (Number_of_P_Levels) float32 ...\n",
      "    HNO3_MR               (Number_of_P_Levels) float32 ...\n",
      "    N2O                   (Number_of_P_Levels) float32 ...\n",
      "    N2O_MR                (Number_of_P_Levels) float32 ...\n",
      "    SO2                   (Number_of_P_Levels) float32 ...\n",
      "    SO2_MR                (Number_of_P_Levels) float32 ...\n",
      "    MW_Frequency          (Number_of_MW_Spectral_Pts) float32 ...\n",
      "    MW_Emis               (Number_of_MW_Spectral_Pts) float32 ...\n",
      "    MIT_MW_Emis           (Number_of_MW_Spectral_Pts) float32 ...\n",
      "    IR_Emis_Freq          (Number_of_Surf_Emis_Hinge_Pts) float32 ...\n",
      "    FG_IR_Emis_Freq       (Number_of_Surf_Emis_Hinge_Pts) float32 ...\n",
      "    IR_Surface_Emis       (Number_of_Surf_Emis_Hinge_Pts) float32 ...\n",
      "    FG_IR_Surface_Emis    (Number_of_Surf_Emis_Hinge_Pts) float32 ...\n",
      "    IR_Surface_Refl       (Number_of_Surf_Emis_Hinge_Pts) float32 ...\n",
      "    Stability             (Number_of_Stability_Parameters) float32 ...\n",
      "    Cloud_Freq            (Number_of_Cloud_Layers, Number_of_Cloud_Emis_Hing_Pts) float32 ...\n",
      "    Cloud_Emis            (Number_of_Cloud_Layers, Number_of_Cloud_Emis_Hing_Pts) float32 ...\n",
      "    Cloud_Refl            (Number_of_Cloud_Layers, Number_of_Cloud_Emis_Hing_Pts) float32 ...\n",
      "Attributes:\n",
      "    Conventions:                              CF-1.5\n",
      "    Metadata_Conventions:                     CF-1.5, Unidata Datasset Discov...\n",
      "    standard_name_vocabulary:                 CF Standard Name Table (version...\n",
      "    project:                                  NPP Data Exploitation: NOAA NUCAPS\n",
      "    title:                                    NUCAPS_L2\n",
      "    summary:                                  NUCAPS retrieved profiles of te...\n",
      "    institution:                              DOC/NOAA/NESDIS/OSPO > Office o...\n",
      "    naming_authority:                         gov.noaa.nesdis.nde\n",
      "    instrument_name:                          CrIS, ATMS, VIIRS\n",
      "    creator_name:                             DOC/NOAA/NESDIS/STAR > IOSSPDT ...\n",
      "    creator_email:                            espcoperations@noaa.gov\n",
      "    creator_url:                              http://www.star.nesdis.noaa.gov\n",
      "    publisher_name:                           DOC/NOAA/NESDIS/NDE > NPP Data ...\n",
      "    publisher_email:                          espcoperations@noaa.gov\n",
      "    publisher_url:                            http://www.ospo.noaa.gov\n",
      "    references:                               Contact the OSPO PAL to request...\n",
      "    history:                                  Created by NUCAPS version 2.0, ...\n",
      "    processing_level:                         NOAA Level 2 data\n",
      "    geospatial_lat_units:                     degrees_north\n",
      "    geospatial_lon_units:                     degrees_east\n",
      "    date_created:                             2019-03-03T19:41:10Z\n",
      "    id:                                       6eabfb98-8577-4f24-8dd3-7bc48b8...\n",
      "    platform_name:                            NPP\n",
      "    Metadata_Link:                            NUCAPS-EDR_v2r0_npp_s2019030318...\n",
      "    source:                                   20190303_1848390_1849090_bin_00...\n",
      "    production_site:                          \n",
      "    production_environment:                   \n",
      "    start_orbit_number:                       38071\n",
      "    end_orbit_number:                         38071\n",
      "    starting_and_ending_orbit_node:           AA\n",
      "    day_night_data_flag:                      1\n",
      "    ascend_descend_data_flag:                 1\n",
      "    number_valid_scans:                       4\n",
      "    time_coverage_start:                      2019-03-03T18:48:39.0Z\n",
      "    time_coverage_end:                        2019-03-03T18:49:09.0Z\n",
      "    geospatial_first_scanline_first_fov_lat:  26.08\n",
      "    geospatial_first_scanline_last_fov_lat:   29.83\n",
      "    geospatial_first_scanline_first_fov_lon:  -96.54\n",
      "    geospatial_first_scanline_last_fov_lon:   -74.46\n",
      "    geospatial_last_scanline_first_fov_lat:   27.92\n",
      "    geospatial_last_scanline_last_fov_lat:    31.49\n",
      "    geospatial_last_scanline_first_fov_lon:   -96.39\n",
      "    geospatial_last_scanline_last_fov_lon:    -75.52\n",
      "    geospatial_bounds:                        POLYGON((-96.54 26.08, -88.47 2...\n",
      "    instrument_resolution:                    CrIS 2211 channels\n",
      "    retrieval_mode:                           IR+MW\n",
      "    number_valid_fovs:                        9\n"
     ]
    }
   ],
   "source": [
    "profile = nucaps.sel(Number_of_CrIS_FORs=0)\n",
    "print(profile)"
   ]
  },
  {
   "cell_type": "code",
   "execution_count": 47,
   "metadata": {
    "scrolled": false
   },
   "outputs": [
    {
     "name": "stdout",
     "output_type": "stream",
     "text": [
      "<xarray.DataArray 'Temperature' (Number_of_P_Levels: 100)>\n",
      "array([212.5855 , 218.80322, 225.43922, 232.34381, 239.13559, 248.75534,\n",
      "       257.70367, 263.4195 , 265.9976 , 266.10553, 262.76913, 258.74844,\n",
      "       254.02008, 248.83179, 244.12553, 240.88266, 238.28516, 236.50325,\n",
      "       235.0083 , 233.87831, 232.78593, 231.43639, 229.92056, 228.23976,\n",
      "       225.89911, 223.36217, 220.73305, 218.01329, 215.30722, 212.58778,\n",
      "       209.90991, 207.44534, 205.04303, 203.05025, 201.21675, 199.68356,\n",
      "       198.15318, 196.62808, 195.28139, 194.55951, 194.51022, 195.56819,\n",
      "       197.32387, 199.23705, 201.13707, 203.09103, 205.10864, 207.17688,\n",
      "       209.26501, 211.10672, 212.90063, 214.59312, 216.0913 , 217.54628,\n",
      "       219.06207, 220.60844, 222.29137, 224.17693, 226.35773, 228.5699 ,\n",
      "       231.0144 , 233.57248, 236.18112, 238.76892, 241.43259, 244.04184,\n",
      "       246.57971, 249.06012, 251.48575, 253.85817, 256.14236, 258.3448 ,\n",
      "       260.46893, 262.4812 , 264.4156 , 266.25723, 267.98773, 269.6907 ,\n",
      "       271.43146, 273.27814, 275.07214, 276.73477, 278.46597, 280.2957 ,\n",
      "       282.08627, 284.01132, 286.0352 , 287.5321 , 289.10104, 290.48187,\n",
      "       291.65997, 292.64905, 293.26926, 293.85794, 294.6399 , 295.41217,\n",
      "       297.64713, 297.64713, 297.64713, 297.64713], dtype=float32)\n",
      "Coordinates:\n",
      "    Time                float64 ...\n",
      "    Latitude            float32 ...\n",
      "    Longitude           float32 ...\n",
      "    Pressure            (Number_of_P_Levels) float32 ...\n",
      "    Effective_Pressure  (Number_of_P_Levels) float32 ...\n",
      "Dimensions without coordinates: Number_of_P_Levels\n",
      "Attributes:\n",
      "    long_name:       Temperature\n",
      "    standard_name:   air_temperature\n",
      "    units:           Kelvin\n",
      "    parameter_type:  NUCAPS data\n",
      "    valid_range:     [   0. 1000.]\n"
     ]
    }
   ],
   "source": [
    "temp_profile = profile.Temperature\n",
    "print(temp_profile)"
   ]
  },
  {
   "cell_type": "code",
   "execution_count": 48,
   "metadata": {},
   "outputs": [
    {
     "name": "stdout",
     "output_type": "stream",
     "text": [
      "26.224599838256836 -95.8237075805664\n"
     ]
    }
   ],
   "source": [
    "lat, lon = profile.Latitude.item(), profile.Longitude.item()\n",
    "print(lat, lon)"
   ]
  },
  {
   "cell_type": "code",
   "execution_count": 49,
   "metadata": {},
   "outputs": [
    {
     "name": "stdout",
     "output_type": "stream",
     "text": [
      "<xarray.Dataset>\n",
      "Dimensions:               (Number_of_Cloud_Emis_Hing_Pts: 100, Number_of_Cloud_Layers: 8, Number_of_CrIS_FORs: 120, Number_of_Ispares: 129, Number_of_MW_Spectral_Pts: 16, Number_of_P_Levels: 1, Number_of_Rspares: 262, Number_of_Stability_Parameters: 16, Number_of_Surf_Emis_Hinge_Pts: 100)\n",
      "Coordinates:\n",
      "    Time                  (Number_of_CrIS_FORs) float64 ...\n",
      "    Latitude              (Number_of_CrIS_FORs) float32 ...\n",
      "    Longitude             (Number_of_CrIS_FORs) float32 ...\n",
      "    Pressure              (Number_of_CrIS_FORs, Number_of_P_Levels) float32 ...\n",
      "    Effective_Pressure    (Number_of_CrIS_FORs, Number_of_P_Levels) float32 ...\n",
      "Dimensions without coordinates: Number_of_Cloud_Emis_Hing_Pts, Number_of_Cloud_Layers, Number_of_CrIS_FORs, Number_of_Ispares, Number_of_MW_Spectral_Pts, Number_of_P_Levels, Number_of_Rspares, Number_of_Stability_Parameters, Number_of_Surf_Emis_Hinge_Pts\n",
      "Data variables:\n",
      "    quality_information   |S1 ...\n",
      "    CrIS_FORs             (Number_of_CrIS_FORs) float64 ...\n",
      "    View_Angle            (Number_of_CrIS_FORs) float32 ...\n",
      "    Satellite_Height      (Number_of_CrIS_FORs) float32 ...\n",
      "    FG_Mean_CO2           (Number_of_CrIS_FORs) float32 ...\n",
      "    Mean_CO2              (Number_of_CrIS_FORs) float32 ...\n",
      "    Solar_Zenith          (Number_of_CrIS_FORs) float32 ...\n",
      "    Ascending_Descending  (Number_of_CrIS_FORs) float32 ...\n",
      "    Topography            (Number_of_CrIS_FORs) float32 ...\n",
      "    Land_Fraction         (Number_of_CrIS_FORs) float32 ...\n",
      "    Surface_Pressure      (Number_of_CrIS_FORs) float32 ...\n",
      "    Skin_Temperature      (Number_of_CrIS_FORs) float32 ...\n",
      "    MIT_Skin_Temperature  (Number_of_CrIS_FORs) float32 ...\n",
      "    FG_Skin_Temperature   (Number_of_CrIS_FORs) float32 ...\n",
      "    MW_Surface_Class      (Number_of_CrIS_FORs) float32 ...\n",
      "    MW_Surface_Emis       (Number_of_CrIS_FORs) float32 ...\n",
      "    N_Smw_Per_FOV         (Number_of_CrIS_FORs) float64 ...\n",
      "    nemis_Per_FOV         (Number_of_CrIS_FORs) float64 ...\n",
      "    ncemis_Per_FOV        (Number_of_CrIS_FORs) float64 ...\n",
      "    ncld_Per_FOV          (Number_of_CrIS_FORs) float64 ...\n",
      "    Quality_Flag          (Number_of_CrIS_FORs) float64 ...\n",
      "    Ispare_Field          (Number_of_CrIS_FORs, Number_of_Ispares) float64 ...\n",
      "    Rspare_Field          (Number_of_CrIS_FORs, Number_of_Rspares) float32 ...\n",
      "    Cloud_Top_Pressure    (Number_of_CrIS_FORs, Number_of_Cloud_Layers) float32 ...\n",
      "    Cloud_Top_Fraction    (Number_of_CrIS_FORs, Number_of_Cloud_Layers) float32 ...\n",
      "    Temperature           (Number_of_CrIS_FORs, Number_of_P_Levels) float32 ...\n",
      "    MIT_Temperature       (Number_of_CrIS_FORs, Number_of_P_Levels) float32 ...\n",
      "    FG_Temperature        (Number_of_CrIS_FORs, Number_of_P_Levels) float32 ...\n",
      "    H2O                   (Number_of_CrIS_FORs, Number_of_P_Levels) float32 ...\n",
      "    MIT_H2O               (Number_of_CrIS_FORs, Number_of_P_Levels) float32 ...\n",
      "    FG_H2O                (Number_of_CrIS_FORs, Number_of_P_Levels) float32 ...\n",
      "    H2O_MR                (Number_of_CrIS_FORs, Number_of_P_Levels) float32 ...\n",
      "    MIT_H2O_MR            (Number_of_CrIS_FORs, Number_of_P_Levels) float32 ...\n",
      "    FG_H2O_MR             (Number_of_CrIS_FORs, Number_of_P_Levels) float32 ...\n",
      "    O3                    (Number_of_CrIS_FORs, Number_of_P_Levels) float32 ...\n",
      "    FG_O3                 (Number_of_CrIS_FORs, Number_of_P_Levels) float32 ...\n",
      "    O3_MR                 (Number_of_CrIS_FORs, Number_of_P_Levels) float32 ...\n",
      "    FG_O3_MR              (Number_of_CrIS_FORs, Number_of_P_Levels) float32 ...\n",
      "    Liquid_H2O            (Number_of_CrIS_FORs, Number_of_P_Levels) float32 ...\n",
      "    Liquid_H2O_MR         (Number_of_CrIS_FORs, Number_of_P_Levels) float32 ...\n",
      "    Ice_Liquid_Flag       (Number_of_CrIS_FORs, Number_of_P_Levels) float32 ...\n",
      "    CO                    (Number_of_CrIS_FORs, Number_of_P_Levels) float32 ...\n",
      "    CO_MR                 (Number_of_CrIS_FORs, Number_of_P_Levels) float32 ...\n",
      "    CH4                   (Number_of_CrIS_FORs, Number_of_P_Levels) float32 ...\n",
      "    CH4_MR                (Number_of_CrIS_FORs, Number_of_P_Levels) float32 ...\n",
      "    CO2                   (Number_of_CrIS_FORs, Number_of_P_Levels) float32 ...\n",
      "    HNO3                  (Number_of_CrIS_FORs, Number_of_P_Levels) float32 ...\n",
      "    HNO3_MR               (Number_of_CrIS_FORs, Number_of_P_Levels) float32 ...\n",
      "    N2O                   (Number_of_CrIS_FORs, Number_of_P_Levels) float32 ...\n",
      "    N2O_MR                (Number_of_CrIS_FORs, Number_of_P_Levels) float32 ...\n",
      "    SO2                   (Number_of_CrIS_FORs, Number_of_P_Levels) float32 ...\n",
      "    SO2_MR                (Number_of_CrIS_FORs, Number_of_P_Levels) float32 ...\n",
      "    MW_Frequency          (Number_of_CrIS_FORs, Number_of_MW_Spectral_Pts) float32 ...\n",
      "    MW_Emis               (Number_of_CrIS_FORs, Number_of_MW_Spectral_Pts) float32 ...\n",
      "    MIT_MW_Emis           (Number_of_CrIS_FORs, Number_of_MW_Spectral_Pts) float32 ...\n",
      "    IR_Emis_Freq          (Number_of_CrIS_FORs, Number_of_Surf_Emis_Hinge_Pts) float32 ...\n",
      "    FG_IR_Emis_Freq       (Number_of_CrIS_FORs, Number_of_Surf_Emis_Hinge_Pts) float32 ...\n",
      "    IR_Surface_Emis       (Number_of_CrIS_FORs, Number_of_Surf_Emis_Hinge_Pts) float32 ...\n",
      "    FG_IR_Surface_Emis    (Number_of_CrIS_FORs, Number_of_Surf_Emis_Hinge_Pts) float32 ...\n",
      "    IR_Surface_Refl       (Number_of_CrIS_FORs, Number_of_Surf_Emis_Hinge_Pts) float32 ...\n",
      "    Stability             (Number_of_CrIS_FORs, Number_of_Stability_Parameters) float32 ...\n",
      "    Cloud_Freq            (Number_of_CrIS_FORs, Number_of_Cloud_Layers, Number_of_Cloud_Emis_Hing_Pts) float32 ...\n",
      "    Cloud_Emis            (Number_of_CrIS_FORs, Number_of_Cloud_Layers, Number_of_Cloud_Emis_Hing_Pts) float32 ...\n",
      "    Cloud_Refl            (Number_of_CrIS_FORs, Number_of_Cloud_Layers, Number_of_Cloud_Emis_Hing_Pts) float32 ...\n",
      "Attributes:\n",
      "    Conventions:                              CF-1.5\n",
      "    Metadata_Conventions:                     CF-1.5, Unidata Datasset Discov...\n",
      "    standard_name_vocabulary:                 CF Standard Name Table (version...\n",
      "    project:                                  NPP Data Exploitation: NOAA NUCAPS\n",
      "    title:                                    NUCAPS_L2\n",
      "    summary:                                  NUCAPS retrieved profiles of te...\n",
      "    institution:                              DOC/NOAA/NESDIS/OSPO > Office o...\n",
      "    naming_authority:                         gov.noaa.nesdis.nde\n",
      "    instrument_name:                          CrIS, ATMS, VIIRS\n",
      "    creator_name:                             DOC/NOAA/NESDIS/STAR > IOSSPDT ...\n",
      "    creator_email:                            espcoperations@noaa.gov\n",
      "    creator_url:                              http://www.star.nesdis.noaa.gov\n",
      "    publisher_name:                           DOC/NOAA/NESDIS/NDE > NPP Data ...\n",
      "    publisher_email:                          espcoperations@noaa.gov\n",
      "    publisher_url:                            http://www.ospo.noaa.gov\n",
      "    references:                               Contact the OSPO PAL to request...\n",
      "    history:                                  Created by NUCAPS version 2.0, ...\n",
      "    processing_level:                         NOAA Level 2 data\n",
      "    geospatial_lat_units:                     degrees_north\n",
      "    geospatial_lon_units:                     degrees_east\n",
      "    date_created:                             2019-03-03T19:41:10Z\n",
      "    id:                                       6eabfb98-8577-4f24-8dd3-7bc48b8...\n",
      "    platform_name:                            NPP\n",
      "    Metadata_Link:                            NUCAPS-EDR_v2r0_npp_s2019030318...\n",
      "    source:                                   20190303_1848390_1849090_bin_00...\n",
      "    production_site:                          \n",
      "    production_environment:                   \n",
      "    start_orbit_number:                       38071\n",
      "    end_orbit_number:                         38071\n",
      "    starting_and_ending_orbit_node:           AA\n",
      "    day_night_data_flag:                      1\n",
      "    ascend_descend_data_flag:                 1\n",
      "    number_valid_scans:                       4\n",
      "    time_coverage_start:                      2019-03-03T18:48:39.0Z\n",
      "    time_coverage_end:                        2019-03-03T18:49:09.0Z\n",
      "    geospatial_first_scanline_first_fov_lat:  26.08\n",
      "    geospatial_first_scanline_last_fov_lat:   29.83\n",
      "    geospatial_first_scanline_first_fov_lon:  -96.54\n",
      "    geospatial_first_scanline_last_fov_lon:   -74.46\n",
      "    geospatial_last_scanline_first_fov_lat:   27.92\n",
      "    geospatial_last_scanline_last_fov_lat:    31.49\n",
      "    geospatial_last_scanline_first_fov_lon:   -96.39\n",
      "    geospatial_last_scanline_last_fov_lon:    -75.52\n",
      "    geospatial_bounds:                        POLYGON((-96.54 26.08, -88.47 2...\n",
      "    instrument_resolution:                    CrIS 2211 channels\n",
      "    retrieval_mode:                           IR+MW\n",
      "    number_valid_fovs:                        9\n"
     ]
    }
   ],
   "source": [
    "mask = profile.Pressure.round() == 300\n",
    "gradient = nucaps.sel(Number_of_P_Levels = mask)\n",
    "print(gradient)"
   ]
  },
  {
   "cell_type": "code",
   "execution_count": null,
   "metadata": {},
   "outputs": [],
   "source": []
  },
  {
   "cell_type": "code",
   "execution_count": 50,
   "metadata": {},
   "outputs": [],
   "source": [
    "pres_dict = {}\n",
    "for i, p in enumerate(profile.Pressure):\n",
    "    if p >= 100:\n",
    "        pres_dict.update({int(p) : i})"
   ]
  },
  {
   "cell_type": "code",
   "execution_count": 51,
   "metadata": {},
   "outputs": [
    {
     "data": {
      "text/plain": [
       "62"
      ]
     },
     "execution_count": 51,
     "metadata": {},
     "output_type": "execute_result"
    }
   ],
   "source": [
    "pres_dict[300]"
   ]
  },
  {
   "cell_type": "code",
   "execution_count": 52,
   "metadata": {},
   "outputs": [
    {
     "data": {
      "text/plain": [
       "array([236.18112, 236.28352, 236.14589, 236.03069, 235.30072, 235.43655,\n",
       "       235.23691, 235.25206, 234.86613, 234.80939, 235.1518 , 234.81044,\n",
       "       235.79163, 235.11952, 235.38934, 234.979  , 234.47533, 235.44267,\n",
       "       235.13637, 234.21701, 235.14056, 234.45752, 235.30226, 234.43126,\n",
       "       234.47362, 236.25554, 234.94931, 234.01836, 234.17488, 233.64445,\n",
       "       235.5862 , 235.8259 , 235.89117, 236.14111, 235.71196, 235.15016,\n",
       "       234.94038, 234.902  , 234.9427 , 234.2689 , 234.3949 , 234.09862,\n",
       "       234.49098, 233.86546, 234.41502, 234.55754, 234.95973, 234.78609,\n",
       "       234.63591, 234.26591, 234.12054, 234.38416, 233.73224, 234.61636,\n",
       "       234.55391, 237.28278, 231.6181 , 231.47859, 234.13463, 234.2782 ,\n",
       "       235.2268 , 235.20087, 235.34587, 235.62068, 235.47453, 235.04105,\n",
       "       234.73286, 234.59726, 234.19395, 234.47183, 233.76808, 234.34087,\n",
       "       234.70888, 234.22635, 234.51132, 234.33218, 234.08197, 234.48442,\n",
       "       234.07797, 233.90732, 233.2773 , 233.69025, 234.23141, 233.46925,\n",
       "       234.0413 , 232.66167, 232.6502 , 233.21729, 236.08704, 234.27168,\n",
       "       233.93564, 234.64612, 235.18956, 234.98006, 233.9009 , 234.23378,\n",
       "       233.86505, 234.34415, 233.85011, 234.25952, 234.27513, 233.82504,\n",
       "       234.03091, 234.39395, 234.21571, 234.42728, 234.5045 , 234.18675,\n",
       "       233.91031, 233.72029, 233.87076, 232.74445, 233.14209, 233.65948,\n",
       "       232.96513, 235.1184 , 233.66727, 233.84492, 230.54129, 232.49161],\n",
       "      dtype=float32)"
      ]
     },
     "execution_count": 52,
     "metadata": {},
     "output_type": "execute_result"
    }
   ],
   "source": [
    "mask = (nucaps.Pressure.round() == 300)\n",
    "nucaps.Temperature.values[mask]"
   ]
  },
  {
   "cell_type": "code",
   "execution_count": 53,
   "metadata": {},
   "outputs": [],
   "source": [
    "lats = nucaps.Latitude\n",
    "lons = nucaps.Longitude"
   ]
  },
  {
   "cell_type": "markdown",
   "metadata": {},
   "source": [
    "### 5.2.2 GRIB2"
   ]
  },
  {
   "cell_type": "code",
   "execution_count": 54,
   "metadata": {},
   "outputs": [],
   "source": [
    "filter_keys = {'filter_by_keys' : {'typeOfLevel': 'isobaricInhPa', 'name': 'Temperature'}}"
   ]
  },
  {
   "cell_type": "code",
   "execution_count": 55,
   "metadata": {},
   "outputs": [
    {
     "name": "stdout",
     "output_type": "stream",
     "text": [
      "<xarray.Dataset>\n",
      "Dimensions:        (isobaricInhPa: 33, latitude: 181, longitude: 360)\n",
      "Coordinates:\n",
      "    time           datetime64[ns] ...\n",
      "    step           timedelta64[ns] ...\n",
      "  * isobaricInhPa  (isobaricInhPa) int32 1000 975 950 925 900 850 ... 7 5 3 2 1\n",
      "  * latitude       (latitude) float64 90.0 89.0 88.0 87.0 ... -88.0 -89.0 -90.0\n",
      "  * longitude      (longitude) float64 0.0 1.0 2.0 3.0 ... 357.0 358.0 359.0\n",
      "    valid_time     datetime64[ns] ...\n",
      "Data variables:\n",
      "    t              (isobaricInhPa, latitude, longitude) float32 ...\n",
      "Attributes:\n",
      "    GRIB_edition:            2\n",
      "    GRIB_centre:             kwbc\n",
      "    GRIB_centreDescription:  US National Weather Service - NCEP \n",
      "    GRIB_subCentre:          0\n",
      "    Conventions:             CF-1.7\n",
      "    institution:             US National Weather Service - NCEP \n",
      "    history:                 2021-07-26T15:44:11 GRIB to CDM+CF via cfgrib-0....\n"
     ]
    }
   ],
   "source": [
    "filename = 'data/gfsanl_3_20200501_0000_000.grb2'\n",
    "gfs = xr.open_dataset(filename, engine='cfgrib', backend_kwargs=filter_keys)\n",
    "print(gfs)"
   ]
  },
  {
   "cell_type": "code",
   "execution_count": 56,
   "metadata": {},
   "outputs": [
    {
     "name": "stdout",
     "output_type": "stream",
     "text": [
      "<xarray.Dataset>\n",
      "Dimensions:        (isobaricInhPa: 33, latitude: 181, longitude: 360)\n",
      "Coordinates:\n",
      "    time           datetime64[ns] ...\n",
      "    step           timedelta64[ns] ...\n",
      "  * isobaricInhPa  (isobaricInhPa) int32 1000 975 950 925 900 850 ... 7 5 3 2 1\n",
      "  * latitude       (latitude) float64 90.0 89.0 88.0 87.0 ... -88.0 -89.0 -90.0\n",
      "  * longitude      (longitude) float64 0.0 1.0 2.0 3.0 ... 357.0 358.0 359.0\n",
      "    valid_time     datetime64[ns] ...\n",
      "Data variables:\n",
      "    t              (isobaricInhPa, latitude, longitude) float32 ...\n",
      "Attributes:\n",
      "    GRIB_edition:            2\n",
      "    GRIB_centre:             kwbc\n",
      "    GRIB_centreDescription:  US National Weather Service - NCEP \n",
      "    GRIB_subCentre:          0\n",
      "    Conventions:             CF-1.7\n",
      "    institution:             US National Weather Service - NCEP \n",
      "    history:                 2021-07-26T15:44:11 GRIB to CDM+CF via cfgrib-0....\n"
     ]
    }
   ],
   "source": [
    "filename = 'data/gfsanl_3_20200501_0000_000.grb2'\n",
    "gfs = xr.open_dataset(filename, engine='cfgrib', backend_kwargs=filter_keys)\n",
    "print(gfs)"
   ]
  },
  {
   "cell_type": "markdown",
   "metadata": {},
   "source": [
    "### 5.2.3 Accessing datasets using OpenDAP"
   ]
  },
  {
   "cell_type": "code",
   "execution_count": 57,
   "metadata": {
    "scrolled": true
   },
   "outputs": [
    {
     "name": "stdout",
     "output_type": "stream",
     "text": [
      "<xarray.Dataset>\n",
      "Dimensions:    (lat: 89, lon: 180, nbnds: 2, time: 2010)\n",
      "Coordinates:\n",
      "  * lat        (lat) float32 88.0 86.0 84.0 82.0 ... -82.0 -84.0 -86.0 -88.0\n",
      "  * lon        (lon) float32 0.0 2.0 4.0 6.0 8.0 ... 352.0 354.0 356.0 358.0\n",
      "  * time       (time) datetime64[ns] 1854-01-01 1854-02-01 ... 2021-06-01\n",
      "Dimensions without coordinates: nbnds\n",
      "Data variables:\n",
      "    time_bnds  (time, nbnds) float64 ...\n",
      "    sst        (time, lat, lon) float32 ...\n",
      "Attributes:\n",
      "    climatology:                     Climatology is based on 1971-2000 SST, X...\n",
      "    description:                     In situ data: ICOADS2.5 before 2007 and ...\n",
      "    keywords_vocabulary:             NASA Global Change Master Directory (GCM...\n",
      "    keywords:                        Earth Science > Oceans > Ocean Temperatu...\n",
      "    instrument:                      Conventional thermometers\n",
      "    source_comment:                  SSTs were observed by conventional therm...\n",
      "    geospatial_lon_min:              -1.0\n",
      "    geospatial_lon_max:              359.0\n",
      "    geospatial_laty_max:             89.0\n",
      "    geospatial_laty_min:             -89.0\n",
      "    geospatial_lat_max:              89.0\n",
      "    geospatial_lat_min:              -89.0\n",
      "    geospatial_lat_units:            degrees_north\n",
      "    geospatial_lon_units:            degrees_east\n",
      "    cdm_data_type:                   Grid\n",
      "    project:                         NOAA Extended Reconstructed Sea Surface ...\n",
      "    original_publisher_url:          http://www.ncdc.noaa.gov\n",
      "    References:                      https://www.ncdc.noaa.gov/data-access/ma...\n",
      "    source:                          In situ data: ICOADS R3.0 before 2015, N...\n",
      "    title:                           NOAA ERSSTv5 (in situ only)\n",
      "    history:                         created 07/2017 by PSD data using NCEI's...\n",
      "    institution:                     This version written at NOAA/ESRL PSD: o...\n",
      "    citation:                        Huang et al, 2017: Extended Reconstructe...\n",
      "    platform:                        Ship and Buoy SSTs from ICOADS R3.0 and ...\n",
      "    standard_name_vocabulary:        CF Standard Name Table (v40, 25 January ...\n",
      "    processing_level:                NOAA Level 4\n",
      "    Conventions:                     CF-1.6, ACDD-1.3\n",
      "    metadata_link:                   :metadata_link = https://doi.org/10.7289...\n",
      "    creator_name:                    Boyin Huang (original)\n",
      "    date_created:                    2017-06-30T12:18:00Z (original)\n",
      "    product_version:                 Version 5\n",
      "    creator_url_original:            https://www.ncei.noaa.gov\n",
      "    license:                         No constraints on data access or use\n",
      "    comment:                         SSTs were observed by conventional therm...\n",
      "    summary:                         ERSST.v5 is developed based on v4 after ...\n",
      "    dataset_title:                   NOAA Extended Reconstructed SST V5\n",
      "    data_modified:                   2021-07-07\n",
      "    DODS_EXTRA.Unlimited_Dimension:  time\n"
     ]
    }
   ],
   "source": [
    "baseURL = 'http://www.esrl.noaa.gov'\n",
    "catalogURL = '/psd/thredds/dodsC/Datasets/noaa.ersst.v5/sst.mnmean.nc'\n",
    "sst = xr.open_dataset(baseURL+catalogURL)\n",
    "print(sst)"
   ]
  }
 ],
 "metadata": {
  "kernelspec": {
   "display_name": "Python 3",
   "language": "python",
   "name": "python3"
  },
  "language_info": {
   "codemirror_mode": {
    "name": "ipython",
    "version": 3
   },
   "file_extension": ".py",
   "mimetype": "text/x-python",
   "name": "python",
   "nbconvert_exporter": "python",
   "pygments_lexer": "ipython3",
   "version": "3.7.6"
  }
 },
 "nbformat": 4,
 "nbformat_minor": 2
}
