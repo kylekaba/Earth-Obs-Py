{
 "cells": [
  {
   "cell_type": "code",
   "execution_count": 37,
   "metadata": {},
   "outputs": [],
   "source": [
    "import numpy as np"
   ]
  },
  {
   "cell_type": "code",
   "execution_count": 74,
   "metadata": {},
   "outputs": [
    {
     "data": {
      "text/plain": [
       "0    39.693913\n",
       "1    39.996113\n",
       "Name: Latitude, dtype: float64"
      ]
     },
     "execution_count": 74,
     "metadata": {},
     "output_type": "execute_result"
    }
   ],
   "source": [
    "trace_gases.Latitude[0:2]"
   ]
  },
  {
   "cell_type": "code",
   "execution_count": 9,
   "metadata": {},
   "outputs": [],
   "source": [
    "import pandas as pd\n",
    "fname = 'data/campfire-gases-2018-11.csv'\n",
    "trace_gases = pd.read_csv(fname)"
   ]
  },
  {
   "cell_type": "code",
   "execution_count": 16,
   "metadata": {},
   "outputs": [
    {
     "data": {
      "text/html": [
       "<div>\n",
       "<style scoped>\n",
       "    .dataframe tbody tr th:only-of-type {\n",
       "        vertical-align: middle;\n",
       "    }\n",
       "\n",
       "    .dataframe tbody tr th {\n",
       "        vertical-align: top;\n",
       "    }\n",
       "\n",
       "    .dataframe thead th {\n",
       "        text-align: right;\n",
       "    }\n",
       "</style>\n",
       "<table border=\"1\" class=\"dataframe\">\n",
       "  <thead>\n",
       "    <tr style=\"text-align: right;\">\n",
       "      <th></th>\n",
       "      <th>Latitude</th>\n",
       "      <th>Longitude</th>\n",
       "      <th>Time</th>\n",
       "      <th>H2O_MR_500mb</th>\n",
       "      <th>H2O_MR_850mb</th>\n",
       "      <th>CO_MR_500mb</th>\n",
       "      <th>O3_MR_500mb</th>\n",
       "      <th>CH4_MR_500mb</th>\n",
       "      <th>N2O_MR_500mb</th>\n",
       "      <th>CO2_500mb</th>\n",
       "    </tr>\n",
       "  </thead>\n",
       "  <tbody>\n",
       "    <tr>\n",
       "      <th>0</th>\n",
       "      <td>39.693913</td>\n",
       "      <td>-120.49820</td>\n",
       "      <td>39:44.2</td>\n",
       "      <td>0.001621</td>\n",
       "      <td>0.008410</td>\n",
       "      <td>84.18882</td>\n",
       "      <td>46.428890</td>\n",
       "      <td>1842.4436</td>\n",
       "      <td>318.75995</td>\n",
       "      <td>402.26596</td>\n",
       "    </tr>\n",
       "    <tr>\n",
       "      <th>1</th>\n",
       "      <td>39.996113</td>\n",
       "      <td>-121.75796</td>\n",
       "      <td>39:44.4</td>\n",
       "      <td>0.001781</td>\n",
       "      <td>0.004849</td>\n",
       "      <td>77.59622</td>\n",
       "      <td>44.728848</td>\n",
       "      <td>1861.1800</td>\n",
       "      <td>318.01180</td>\n",
       "      <td>402.76318</td>\n",
       "    </tr>\n",
       "    <tr>\n",
       "      <th>2</th>\n",
       "      <td>39.248516</td>\n",
       "      <td>-120.72343</td>\n",
       "      <td>39:52.2</td>\n",
       "      <td>0.001681</td>\n",
       "      <td>0.005230</td>\n",
       "      <td>80.73684</td>\n",
       "      <td>46.114296</td>\n",
       "      <td>1861.7188</td>\n",
       "      <td>319.00397</td>\n",
       "      <td>402.35360</td>\n",
       "    </tr>\n",
       "    <tr>\n",
       "      <th>3</th>\n",
       "      <td>39.547660</td>\n",
       "      <td>-121.97622</td>\n",
       "      <td>39:52.4</td>\n",
       "      <td>0.001817</td>\n",
       "      <td>0.005295</td>\n",
       "      <td>77.39363</td>\n",
       "      <td>44.257423</td>\n",
       "      <td>1847.3370</td>\n",
       "      <td>318.03134</td>\n",
       "      <td>403.03867</td>\n",
       "    </tr>\n",
       "    <tr>\n",
       "      <th>4</th>\n",
       "      <td>38.802532</td>\n",
       "      <td>-120.94534</td>\n",
       "      <td>40:00.2</td>\n",
       "      <td>0.001604</td>\n",
       "      <td>0.004505</td>\n",
       "      <td>82.68274</td>\n",
       "      <td>47.121635</td>\n",
       "      <td>1890.4450</td>\n",
       "      <td>319.56244</td>\n",
       "      <td>403.35144</td>\n",
       "    </tr>\n",
       "  </tbody>\n",
       "</table>\n",
       "</div>"
      ],
      "text/plain": [
       "    Latitude  Longitude     Time  H2O_MR_500mb  H2O_MR_850mb  CO_MR_500mb  \\\n",
       "0  39.693913 -120.49820  39:44.2      0.001621      0.008410     84.18882   \n",
       "1  39.996113 -121.75796  39:44.4      0.001781      0.004849     77.59622   \n",
       "2  39.248516 -120.72343  39:52.2      0.001681      0.005230     80.73684   \n",
       "3  39.547660 -121.97622  39:52.4      0.001817      0.005295     77.39363   \n",
       "4  38.802532 -120.94534  40:00.2      0.001604      0.004505     82.68274   \n",
       "\n",
       "   O3_MR_500mb  CH4_MR_500mb  N2O_MR_500mb  CO2_500mb  \n",
       "0    46.428890     1842.4436     318.75995  402.26596  \n",
       "1    44.728848     1861.1800     318.01180  402.76318  \n",
       "2    46.114296     1861.7188     319.00397  402.35360  \n",
       "3    44.257423     1847.3370     318.03134  403.03867  \n",
       "4    47.121635     1890.4450     319.56244  403.35144  "
      ]
     },
     "execution_count": 16,
     "metadata": {},
     "output_type": "execute_result"
    }
   ],
   "source": [
    "trace_gases.head()"
   ]
  },
  {
   "cell_type": "code",
   "execution_count": 58,
   "metadata": {},
   "outputs": [
    {
     "data": {
      "text/plain": [
       "0      0.001621\n",
       "1      0.001781\n",
       "2      0.001681\n",
       "3      0.001817\n",
       "4      0.001604\n",
       "5      0.000475\n",
       "6      0.000596\n",
       "7      0.000552\n",
       "8      0.000573\n",
       "9      0.000563\n",
       "10     0.000490\n",
       "11     0.000473\n",
       "12     0.000450\n",
       "13     0.000541\n",
       "14     0.000461\n",
       "15     0.000438\n",
       "16     0.000566\n",
       "17     0.000524\n",
       "18     0.000518\n",
       "19     0.000519\n",
       "20     0.000555\n",
       "21     0.000359\n",
       "22     0.000143\n",
       "23     0.001352\n",
       "24     0.001174\n",
       "25     0.000779\n",
       "26     0.000715\n",
       "27     0.000804\n",
       "28     0.000725\n",
       "29     0.000762\n",
       "         ...   \n",
       "461    0.002262\n",
       "462    0.000266\n",
       "463    0.000590\n",
       "464    0.000319\n",
       "465    0.000700\n",
       "466    0.000552\n",
       "467    0.000573\n",
       "468    0.000487\n",
       "469    0.000468\n",
       "470    0.000624\n",
       "471    0.000309\n",
       "472    0.000404\n",
       "473    0.000244\n",
       "474    0.000410\n",
       "475    0.000402\n",
       "476    0.000282\n",
       "477    0.000256\n",
       "478    0.000230\n",
       "479    0.000439\n",
       "480    0.000234\n",
       "481    0.000278\n",
       "482    0.000504\n",
       "483    0.000540\n",
       "484    0.000336\n",
       "485    0.000488\n",
       "486    0.000471\n",
       "487    0.000466\n",
       "488    0.000484\n",
       "489    0.000289\n",
       "490    0.000273\n",
       "Name: H2O_MR_500mb, Length: 491, dtype: float64"
      ]
     },
     "execution_count": 58,
     "metadata": {},
     "output_type": "execute_result"
    }
   ],
   "source": [
    "trace_gases['H2O_MR_500mb']"
   ]
  },
  {
   "cell_type": "code",
   "execution_count": 11,
   "metadata": {},
   "outputs": [
    {
     "name": "stdout",
     "output_type": "stream",
     "text": [
      "['CO_MR_500mb', 'O3_MR_500mb', 'CH4_MR_500mb', 'N2O_MR_500mb', 'CO2_500mb']\n"
     ]
    }
   ],
   "source": [
    "drops = list(trace_gases.columns[5:])\n",
    "print(drops)"
   ]
  },
  {
   "cell_type": "code",
   "execution_count": 17,
   "metadata": {},
   "outputs": [],
   "source": [
    "trace_gases.drop(columns=drops, inplace=True)"
   ]
  },
  {
   "cell_type": "code",
   "execution_count": 18,
   "metadata": {},
   "outputs": [
    {
     "data": {
      "text/html": [
       "<div>\n",
       "<style scoped>\n",
       "    .dataframe tbody tr th:only-of-type {\n",
       "        vertical-align: middle;\n",
       "    }\n",
       "\n",
       "    .dataframe tbody tr th {\n",
       "        vertical-align: top;\n",
       "    }\n",
       "\n",
       "    .dataframe thead th {\n",
       "        text-align: right;\n",
       "    }\n",
       "</style>\n",
       "<table border=\"1\" class=\"dataframe\">\n",
       "  <thead>\n",
       "    <tr style=\"text-align: right;\">\n",
       "      <th></th>\n",
       "      <th>Latitude</th>\n",
       "      <th>Longitude</th>\n",
       "      <th>Time</th>\n",
       "      <th>H2O_MR_500mb</th>\n",
       "      <th>H2O_MR_850mb</th>\n",
       "    </tr>\n",
       "  </thead>\n",
       "  <tbody>\n",
       "    <tr>\n",
       "      <th>0</th>\n",
       "      <td>39.693913</td>\n",
       "      <td>-120.49820</td>\n",
       "      <td>39:44.2</td>\n",
       "      <td>0.001621</td>\n",
       "      <td>0.008410</td>\n",
       "    </tr>\n",
       "    <tr>\n",
       "      <th>1</th>\n",
       "      <td>39.996113</td>\n",
       "      <td>-121.75796</td>\n",
       "      <td>39:44.4</td>\n",
       "      <td>0.001781</td>\n",
       "      <td>0.004849</td>\n",
       "    </tr>\n",
       "    <tr>\n",
       "      <th>2</th>\n",
       "      <td>39.248516</td>\n",
       "      <td>-120.72343</td>\n",
       "      <td>39:52.2</td>\n",
       "      <td>0.001681</td>\n",
       "      <td>0.005230</td>\n",
       "    </tr>\n",
       "    <tr>\n",
       "      <th>3</th>\n",
       "      <td>39.547660</td>\n",
       "      <td>-121.97622</td>\n",
       "      <td>39:52.4</td>\n",
       "      <td>0.001817</td>\n",
       "      <td>0.005295</td>\n",
       "    </tr>\n",
       "    <tr>\n",
       "      <th>4</th>\n",
       "      <td>38.802532</td>\n",
       "      <td>-120.94534</td>\n",
       "      <td>40:00.2</td>\n",
       "      <td>0.001604</td>\n",
       "      <td>0.004505</td>\n",
       "    </tr>\n",
       "  </tbody>\n",
       "</table>\n",
       "</div>"
      ],
      "text/plain": [
       "    Latitude  Longitude     Time  H2O_MR_500mb  H2O_MR_850mb\n",
       "0  39.693913 -120.49820  39:44.2      0.001621      0.008410\n",
       "1  39.996113 -121.75796  39:44.4      0.001781      0.004849\n",
       "2  39.248516 -120.72343  39:52.2      0.001681      0.005230\n",
       "3  39.547660 -121.97622  39:52.4      0.001817      0.005295\n",
       "4  38.802532 -120.94534  40:00.2      0.001604      0.004505"
      ]
     },
     "execution_count": 18,
     "metadata": {},
     "output_type": "execute_result"
    }
   ],
   "source": [
    "trace_gases.head()"
   ]
  },
  {
   "cell_type": "code",
   "execution_count": 12,
   "metadata": {},
   "outputs": [
    {
     "name": "stdout",
     "output_type": "stream",
     "text": [
      "Latitude,Longitude,Time,H2O_MR_500mb,H2O_MR_850mb,CO_MR_500mb,O3_MR_500mb,CH4_MR_500mb,N2O_MR_500mb,CO2_500mb\n",
      "\n",
      "Latitude\n",
      "Longitude\n",
      "Time\n",
      "H2O_MR_500mb\n",
      "H2O_MR_850mb\n",
      "CO_MR_500mb\n",
      "O3_MR_500mb\n",
      "CH4_MR_500mb\n",
      "N2O_MR_500mb\n"
     ]
    }
   ],
   "source": [
    "with open('data/campfire-gases-2018-11.csv') as data:\n",
    "    for row in data:\n",
    "        print(row)\n",
    "        column=''\n",
    "        for character in row:\n",
    "            if character != ',':\n",
    "                column=column+character\n",
    "            else:\n",
    "                print(column)\n",
    "                column = ''\n",
    "        break"
   ]
  },
  {
   "cell_type": "code",
   "execution_count": 8,
   "metadata": {},
   "outputs": [
    {
     "name": "stdout",
     "output_type": "stream",
     "text": [
      "['Latitude', 'Longitude', 'Time', 'H2O_MR_500mb', 'H2O_MR_850mb', 'CO_MR_500mb', 'CO_MR_850mb', 'O3_MR_500mb', 'O3_MR_850mb', 'CH4_MR_500mb', 'CH4_MR_850mb', 'N2O_MR_500mb', 'N2O_MR_850mb', 'CO2_500mb', 'CO2_850mb', 'Datetime\\n']\n"
     ]
    }
   ],
   "source": [
    "#This could be replaced by something like ' '.join(row.split(','))\n",
    "\n",
    "with open('data/campfire-gases-2018-11.csv') as data:\n",
    "    for row in data:\n",
    "        print(row.split(','))\n",
    "        break\n"
   ]
  },
  {
   "cell_type": "code",
   "execution_count": 77,
   "metadata": {},
   "outputs": [],
   "source": [
    "from netCDF4 import Dataset"
   ]
  },
  {
   "cell_type": "code",
   "execution_count": 78,
   "metadata": {},
   "outputs": [],
   "source": [
    "fname='data/JRR-AOD_v1r1_npp_s201808091955538_e201808091957180_c201808092049460.nc'\n",
    "file_id = Dataset(fname)"
   ]
  },
  {
   "cell_type": "code",
   "execution_count": 80,
   "metadata": {},
   "outputs": [
    {
     "name": "stdout",
     "output_type": "stream",
     "text": [
      "<class 'netCDF4._netCDF4.Dataset'>\n",
      "root group (NETCDF4 data model, file format HDF5):\n",
      "    Conventions: CF-1.5\n",
      "    Metadata_Conventions: CF-1.5, Unidata Dataset Discovery v1.0\n",
      "    standard_name_vocabulary: CF Standard Name Table (version 17, 24 March 2011)\n",
      "    project: S-NPP Data Exploitation\n",
      "    institution: DOC/NOAA/NESDIS/NDE->S-NPP Data Exploitation, NESDIS, NOAA, U.S. Department of Commerce\n",
      "    naming_authority: gov.noaa.nesdis.nde\n",
      "    satellite_name: NPP\n",
      "    instrument_name: VIIRS\n",
      "    title: JPSS Risk Reduction Unique Aerosol Optical Depth\n",
      "    summary: Aerosol Optical Depth\n",
      "    history: VIIRS AOD Version 1.0\n",
      "    processing_level: NOAA Level 2\n",
      "    references: \n",
      "    id: 7e854908-1172-4d11-ae90-fb768144e6b2\n",
      "    Metadata_Link: JRR-AOD_v1r1_npp_s201808091955538_e201808091957180_c201808092049460.nc\n",
      "    start_orbit_number: 35149\n",
      "    end_orbit_number: 35149\n",
      "    day_night_data_flag: day\n",
      "    ascend_descend_data_flag: 0\n",
      "    time_coverage_start: 2018-08-09T19:55:53Z\n",
      "    time_coverage_end: 2018-08-09T19:57:18Z\n",
      "    date_created: 2018-08-09T20:49:50Z\n",
      "    cdm_data_type: swath\n",
      "    geospatial_first_scanline_first_fov_lat: 42.3629\n",
      "    geospatial_first_scanline_last_fov_lat: 37.0103\n",
      "    geospatial_last_scanline_first_fov_lat: 47.3899\n",
      "    geospatial_last_scanline_last_fov_lat: 41.61\n",
      "    geospatial_first_scanline_first_fov_lon: -86.8531\n",
      "    geospatial_first_scanline_last_fov_lon: -122.279\n",
      "    geospatial_last_scanline_first_fov_lon: -86.9937\n",
      "    geospatial_last_scanline_last_fov_lon: -125.267\n",
      "    geospatial_lat_units: degrees_north\n",
      "    geospatial_lon_units: degrees_east\n",
      "    geospatial_bounds: POLYGON((-86.8531 42.3629,-122.279 37.0103,-125.267 41.61,-86.9937 47.3899,-86.8531 42.3629))\n",
      "    dimensions(sizes): Columns(3200), Rows(768), AbiAODnchn(11), LndLUTnchn(4)\n",
      "    variables(dimensions): float32 \u001b[4mLatitude\u001b[0m(Rows,Columns), float32 \u001b[4mLongitude\u001b[0m(Rows,Columns), int32 \u001b[4mStartRow\u001b[0m(), int32 \u001b[4mStartColumn\u001b[0m(), float32 \u001b[4mAOD550\u001b[0m(Rows,Columns), float32 \u001b[4mAOD_channel\u001b[0m(Rows,Columns,AbiAODnchn), float32 \u001b[4mAngsExp1\u001b[0m(Rows,Columns), float32 \u001b[4mAngsExp2\u001b[0m(Rows,Columns), int8 \u001b[4mQCPath\u001b[0m(Rows,Columns), int8 \u001b[4mAerMdl\u001b[0m(Rows,Columns), int8 \u001b[4mFineMdlIdx\u001b[0m(Rows,Columns), int8 \u001b[4mCoarseMdlIdx\u001b[0m(Rows,Columns), float32 \u001b[4mFineModWgt\u001b[0m(Rows,Columns), float32 \u001b[4mSfcRefl\u001b[0m(Rows,Columns,AbiAODnchn), float32 \u001b[4mSpaStddev\u001b[0m(Rows,Columns), float32 \u001b[4mResidual\u001b[0m(Rows,Columns), float32 \u001b[4mAOD550LndMdl\u001b[0m(Rows,Columns,LndLUTnchn), float32 \u001b[4mResLndMdl\u001b[0m(Rows,Columns,LndLUTnchn), float32 \u001b[4mMeanAOD\u001b[0m(), float32 \u001b[4mHighQualityPct\u001b[0m(), float32 \u001b[4mRetrievalPct\u001b[0m(), int8 \u001b[4mQCRet\u001b[0m(Rows,Columns), int8 \u001b[4mQCExtn\u001b[0m(Rows,Columns), int8 \u001b[4mQCTest\u001b[0m(Rows,Columns), int8 \u001b[4mQCInput\u001b[0m(Rows,Columns), int8 \u001b[4mQCAll\u001b[0m(Rows,Columns)\n",
      "    groups: \n",
      "\n"
     ]
    }
   ],
   "source": [
    "print(file_id)"
   ]
  },
  {
   "cell_type": "code",
   "execution_count": 10,
   "metadata": {},
   "outputs": [
    {
     "data": {
      "text/plain": [
       "odict_keys(['Latitude', 'Longitude', 'StartRow', 'StartColumn', 'AOD550', 'AOD_channel', 'AngsExp1', 'AngsExp2', 'QCPath', 'AerMdl', 'FineMdlIdx', 'CoarseMdlIdx', 'FineModWgt', 'SfcRefl', 'SpaStddev', 'Residual', 'AOD550LndMdl', 'ResLndMdl', 'MeanAOD', 'HighQualityPct', 'RetrievalPct', 'QCRet', 'QCExtn', 'QCTest', 'QCInput', 'QCAll'])"
      ]
     },
     "execution_count": 10,
     "metadata": {},
     "output_type": "execute_result"
    }
   ],
   "source": [
    "file_id.variables.keys()"
   ]
  },
  {
   "cell_type": "code",
   "execution_count": 11,
   "metadata": {},
   "outputs": [
    {
     "data": {
      "text/plain": [
       "netCDF4._netCDF4.Variable"
      ]
     },
     "execution_count": 11,
     "metadata": {},
     "output_type": "execute_result"
    }
   ],
   "source": [
    "AOD550 = file_id.variables['AOD550']\n",
    "type(AOD550)"
   ]
  },
  {
   "cell_type": "code",
   "execution_count": 12,
   "metadata": {},
   "outputs": [
    {
     "data": {
      "text/plain": [
       "(768, 3200)"
      ]
     },
     "execution_count": 12,
     "metadata": {},
     "output_type": "execute_result"
    }
   ],
   "source": [
    "import numpy as np\n",
    "AOD550 = np.array(AOD550)\n",
    "AOD550.shape"
   ]
  },
  {
   "cell_type": "code",
   "execution_count": 13,
   "metadata": {},
   "outputs": [
    {
     "data": {
      "text/plain": [
       "array([[-999.99902344, -999.99902344, -999.99902344, ..., -999.99902344,\n",
       "        -999.99902344, -999.99902344],\n",
       "       [-999.99902344, -999.99902344, -999.99902344, ..., -999.99902344,\n",
       "        -999.99902344, -999.99902344],\n",
       "       [-999.99902344, -999.99902344, -999.99902344, ..., -999.99902344,\n",
       "        -999.99902344, -999.99902344],\n",
       "       ..., \n",
       "       [-999.99902344, -999.99902344, -999.99902344, ..., -999.99902344,\n",
       "        -999.99902344, -999.99902344],\n",
       "       [-999.99902344, -999.99902344, -999.99902344, ..., -999.99902344,\n",
       "        -999.99902344, -999.99902344],\n",
       "       [-999.99902344, -999.99902344, -999.99902344, ..., -999.99902344,\n",
       "        -999.99902344, -999.99902344]], dtype=float32)"
      ]
     },
     "execution_count": 13,
     "metadata": {},
     "output_type": "execute_result"
    }
   ],
   "source": [
    "AOD550"
   ]
  },
  {
   "cell_type": "code",
   "execution_count": 14,
   "metadata": {},
   "outputs": [
    {
     "name": "stdout",
     "output_type": "stream",
     "text": [
      "-289.096\n"
     ]
    }
   ],
   "source": [
    "avgAOD = AOD550.mean()\n",
    "print(avgAOD)"
   ]
  },
  {
   "cell_type": "code",
   "execution_count": 15,
   "metadata": {},
   "outputs": [
    {
     "name": "stdout",
     "output_type": "stream",
     "text": [
      "<class 'netCDF4._netCDF4.Variable'>\n",
      "float32 AOD550(Rows, Columns)\n",
      "    long_name: Aerosol optical depth at 550 nm\n",
      "    coordinates: Longitude Latitude\n",
      "    units: 1\n",
      "    _FillValue: -999.999\n",
      "    valid_range: [-0.05  5.  ]\n",
      "unlimited dimensions: \n",
      "current shape = (768, 3200)\n",
      "filling on\n"
     ]
    }
   ],
   "source": [
    "print(file_id.variables['AOD550'])"
   ]
  },
  {
   "cell_type": "code",
   "execution_count": 16,
   "metadata": {},
   "outputs": [
    {
     "data": {
      "text/plain": [
       "-999.99902"
      ]
     },
     "execution_count": 16,
     "metadata": {},
     "output_type": "execute_result"
    }
   ],
   "source": [
    "missing = file_id.variables['AOD550']._FillValue\n",
    "missing"
   ]
  },
  {
   "cell_type": "code",
   "execution_count": 17,
   "metadata": {},
   "outputs": [
    {
     "data": {
      "text/plain": [
       "(array([ -9.99999023e+02,  -9.99999023e+02,   5.40565491e-01,\n",
       "          6.31573617e-01,   1.57470262e+00,   5.97368181e-01,\n",
       "          6.23970449e-01,   6.71409011e-01,   6.59592867e-01,\n",
       "          7.61033893e-01], dtype=float32),\n",
       " array([False, False,  True,  True,  True,  True,  True,  True,  True,  True], dtype=bool))"
      ]
     },
     "execution_count": 17,
     "metadata": {},
     "output_type": "execute_result"
    }
   ],
   "source": [
    "keepRows = AOD550 != missing\n",
    "\n",
    "AOD550[50:60, 100], keepRows[50:60, 100]"
   ]
  },
  {
   "cell_type": "code",
   "execution_count": 18,
   "metadata": {},
   "outputs": [
    {
     "data": {
      "text/plain": [
       "array([ 0.06569075,  0.08305545,  0.11872342, ...,  0.14237013,\n",
       "        0.16145205,  0.14933026], dtype=float32)"
      ]
     },
     "execution_count": 18,
     "metadata": {},
     "output_type": "execute_result"
    }
   ],
   "source": [
    "AOD550_filtered = AOD550[keepRows]\n",
    "AOD550_filtered"
   ]
  },
  {
   "cell_type": "code",
   "execution_count": 19,
   "metadata": {},
   "outputs": [
    {
     "data": {
      "text/plain": [
       "0.41903266"
      ]
     },
     "execution_count": 19,
     "metadata": {},
     "output_type": "execute_result"
    }
   ],
   "source": [
    "# Re-compute the statistics, these values look more reasonable.\n",
    "avgAOD = AOD550_filtered.mean()\n",
    "avgAOD"
   ]
  },
  {
   "cell_type": "code",
   "execution_count": 20,
   "metadata": {},
   "outputs": [
    {
     "data": {
      "text/plain": [
       "(2457600, 1746384)"
      ]
     },
     "execution_count": 20,
     "metadata": {},
     "output_type": "execute_result"
    }
   ],
   "source": [
    "AOD550.size, AOD550_filtered.size"
   ]
  },
  {
   "cell_type": "code",
   "execution_count": 21,
   "metadata": {},
   "outputs": [
    {
     "data": {
      "text/plain": [
       "numpy.ma.core.MaskedArray"
      ]
     },
     "execution_count": 21,
     "metadata": {},
     "output_type": "execute_result"
    }
   ],
   "source": [
    "AOD550 = file_id.variables['AOD550'][:,:]\n",
    "type(AOD550)"
   ]
  },
  {
   "cell_type": "code",
   "execution_count": 22,
   "metadata": {},
   "outputs": [
    {
     "data": {
      "text/plain": [
       "masked_array(data = [-- -- 0.5405654907226562 0.6315736174583435 1.5747026205062866\n",
       " 0.5973681807518005 0.6239704489707947 0.671409010887146 0.659592866897583\n",
       " 0.7610338926315308],\n",
       "             mask = [ True  True False False False False False False False False],\n",
       "       fill_value = -999.999)"
      ]
     },
     "execution_count": 22,
     "metadata": {},
     "output_type": "execute_result"
    }
   ],
   "source": [
    "AOD550[50:60, 100]"
   ]
  },
  {
   "cell_type": "code",
   "execution_count": 23,
   "metadata": {},
   "outputs": [
    {
     "data": {
      "text/plain": [
       "0.41903259105672064"
      ]
     },
     "execution_count": 23,
     "metadata": {},
     "output_type": "execute_result"
    }
   ],
   "source": [
    "avgAOD = AOD550.mean()\n",
    "avgAOD"
   ]
  },
  {
   "cell_type": "code",
   "execution_count": 24,
   "metadata": {},
   "outputs": [
    {
     "data": {
      "text/plain": [
       "array([-0.05,  5.  ], dtype=float32)"
      ]
     },
     "execution_count": 24,
     "metadata": {},
     "output_type": "execute_result"
    }
   ],
   "source": [
    "file_id.variables['AOD550'].valid_range"
   ]
  },
  {
   "cell_type": "code",
   "execution_count": 60,
   "metadata": {},
   "outputs": [
    {
     "data": {
      "text/plain": [
       "<HDF5 file \"3B-HHR.MS.MRG.3IMERG.20170827-S120000-E122959.0720.V06B.HDF5\" (mode r)>"
      ]
     },
     "execution_count": 60,
     "metadata": {},
     "output_type": "execute_result"
    }
   ],
   "source": [
    "import h5py\n",
    "\n",
    "fname = 'data/3B-HHR.MS.MRG.3IMERG.20170827-S120000-E122959.0720.V06B.HDF5' \n",
    "file_id = h5py.File(fname, 'r')\n",
    "file_id"
   ]
  },
  {
   "cell_type": "code",
   "execution_count": 61,
   "metadata": {},
   "outputs": [
    {
     "data": {
      "text/plain": [
       "['Grid']"
      ]
     },
     "execution_count": 61,
     "metadata": {},
     "output_type": "execute_result"
    }
   ],
   "source": [
    "list(file_id)"
   ]
  },
  {
   "cell_type": "code",
   "execution_count": 62,
   "metadata": {},
   "outputs": [
    {
     "name": "stdout",
     "output_type": "stream",
     "text": [
      "['nv', 'lonv', 'latv', 'time', 'lon', 'lat', 'time_bnds', 'lon_bnds', 'lat_bnds', 'precipitationCal', 'precipitationUncal', 'randomError', 'HQprecipitation', 'HQprecipSource', 'HQobservationTime', 'IRprecipitation', 'IRkalmanFilterWeight', 'probabilityLiquidPrecipitation', 'precipitationQualityIndex']\n"
     ]
    }
   ],
   "source": [
    "print(list(file_id[\"Grid\"].keys()))"
   ]
  },
  {
   "cell_type": "code",
   "execution_count": 64,
   "metadata": {},
   "outputs": [
    {
     "name": "stdout",
     "output_type": "stream",
     "text": [
      "Grid\n",
      "Grid/precipitationQualityIndex\n",
      "Grid/IRkalmanFilterWeight\n",
      "Grid/HQprecipSource\n",
      "Grid/lon\n",
      "Grid/precipitationCal\n",
      "Grid/time\n",
      "Grid/lat_bnds\n",
      "Grid/precipitationUncal\n",
      "Grid/lonv\n",
      "Grid/nv\n",
      "Grid/lat\n",
      "Grid/latv\n",
      "Grid/HQprecipitation\n",
      "Grid/probabilityLiquidPrecipitation\n",
      "Grid/HQobservationTime\n",
      "Grid/randomError\n",
      "Grid/time_bnds\n",
      "Grid/IRprecipitation\n",
      "Grid/lon_bnds\n",
      "None\n"
     ]
    }
   ],
   "source": [
    "file_id.visit(print)"
   ]
  },
  {
   "cell_type": "code",
   "execution_count": 29,
   "metadata": {},
   "outputs": [
    {
     "data": {
      "text/plain": [
       "array([[[-9999.90039062, -9999.90039062, -9999.90039062, ...,\n",
       "         -9999.90039062, -9999.90039062, -9999.90039062],\n",
       "        [-9999.90039062, -9999.90039062, -9999.90039062, ...,\n",
       "         -9999.90039062, -9999.90039062, -9999.90039062],\n",
       "        [-9999.90039062, -9999.90039062, -9999.90039062, ...,\n",
       "         -9999.90039062, -9999.90039062, -9999.90039062],\n",
       "        ..., \n",
       "        [-9999.90039062, -9999.90039062, -9999.90039062, ...,\n",
       "         -9999.90039062, -9999.90039062, -9999.90039062],\n",
       "        [-9999.90039062, -9999.90039062, -9999.90039062, ...,\n",
       "         -9999.90039062, -9999.90039062, -9999.90039062],\n",
       "        [-9999.90039062, -9999.90039062, -9999.90039062, ...,\n",
       "         -9999.90039062, -9999.90039062, -9999.90039062]]], dtype=float32)"
      ]
     },
     "execution_count": 29,
     "metadata": {},
     "output_type": "execute_result"
    }
   ],
   "source": [
    "precip = file_id[\"Grid/HQprecipitation\"][:,:,:]\n",
    "precip"
   ]
  },
  {
   "cell_type": "code",
   "execution_count": 65,
   "metadata": {},
   "outputs": [
    {
     "name": "stdout",
     "output_type": "stream",
     "text": [
      "['DimensionNames', 'Units', 'units', 'coordinates', '_FillValue', 'CodeMissingValue', 'DIMENSION_LIST']\n"
     ]
    }
   ],
   "source": [
    "print(list(file_id[\"Grid/HQprecipitation\"].attrs))"
   ]
  },
  {
   "cell_type": "code",
   "execution_count": 31,
   "metadata": {},
   "outputs": [
    {
     "data": {
      "text/plain": [
       "-9999.9004"
      ]
     },
     "execution_count": 31,
     "metadata": {},
     "output_type": "execute_result"
    }
   ],
   "source": [
    "missing = file_id[\"Grid/HQprecipitation\"].attrs['_FillValue']\n",
    "missing"
   ]
  },
  {
   "cell_type": "code",
   "execution_count": 32,
   "metadata": {},
   "outputs": [
    {
     "data": {
      "text/plain": [
       "masked_array(data =\n",
       " [[[-- -- -- ..., -- -- --]\n",
       "  [-- -- -- ..., -- -- --]\n",
       "  [-- -- -- ..., -- -- --]\n",
       "  ..., \n",
       "  [-- -- -- ..., -- -- --]\n",
       "  [-- -- -- ..., -- -- --]\n",
       "  [-- -- -- ..., -- -- --]]],\n",
       "             mask =\n",
       " [[[ True  True  True ...,  True  True  True]\n",
       "  [ True  True  True ...,  True  True  True]\n",
       "  [ True  True  True ...,  True  True  True]\n",
       "  ..., \n",
       "  [ True  True  True ...,  True  True  True]\n",
       "  [ True  True  True ...,  True  True  True]\n",
       "  [ True  True  True ...,  True  True  True]]],\n",
       "       fill_value = 1e+20)"
      ]
     },
     "execution_count": 32,
     "metadata": {},
     "output_type": "execute_result"
    }
   ],
   "source": [
    "PrecipMask = (precip == missing)\n",
    "precip = np.ma.masked_array(precip, mask=PrecipMask)\n",
    "precip"
   ]
  },
  {
   "cell_type": "code",
   "execution_count": 33,
   "metadata": {},
   "outputs": [
    {
     "data": {
      "text/plain": [
       "0.066204481327029399"
      ]
     },
     "execution_count": 33,
     "metadata": {},
     "output_type": "execute_result"
    }
   ],
   "source": [
    "precip.mean()"
   ]
  },
  {
   "cell_type": "code",
   "execution_count": 34,
   "metadata": {},
   "outputs": [],
   "source": [
    "import xarray as xr\n",
    "import numpy as np"
   ]
  },
  {
   "cell_type": "code",
   "execution_count": 35,
   "metadata": {},
   "outputs": [
    {
     "data": {
      "text/plain": [
       "<xarray.Dataset>\n",
       "Dimensions:               (Number_of_Cloud_Emis_Hing_Pts: 100, Number_of_Cloud_Layers: 8, Number_of_CrIS_FORs: 120, Number_of_Ispares: 129, Number_of_MW_Spectral_Pts: 16, Number_of_P_Levels: 100, Number_of_Rspares: 262, Number_of_Stability_Parameters: 16, Number_of_Surf_Emis_Hinge_Pts: 100)\n",
       "Coordinates:\n",
       "    Time                  (Number_of_CrIS_FORs) float64 ...\n",
       "    Latitude              (Number_of_CrIS_FORs) float32 ...\n",
       "    Longitude             (Number_of_CrIS_FORs) float32 ...\n",
       "    Pressure              (Number_of_CrIS_FORs, Number_of_P_Levels) float32 ...\n",
       "    Effective_Pressure    (Number_of_CrIS_FORs, Number_of_P_Levels) float32 ...\n",
       "Dimensions without coordinates: Number_of_Cloud_Emis_Hing_Pts, Number_of_Cloud_Layers, Number_of_CrIS_FORs, Number_of_Ispares, Number_of_MW_Spectral_Pts, Number_of_P_Levels, Number_of_Rspares, Number_of_Stability_Parameters, Number_of_Surf_Emis_Hinge_Pts\n",
       "Data variables:\n",
       "    quality_information   |S1 ...\n",
       "    CrIS_FORs             (Number_of_CrIS_FORs) float64 ...\n",
       "    View_Angle            (Number_of_CrIS_FORs) float32 ...\n",
       "    Satellite_Height      (Number_of_CrIS_FORs) float32 ...\n",
       "    FG_Mean_CO2           (Number_of_CrIS_FORs) float32 ...\n",
       "    Mean_CO2              (Number_of_CrIS_FORs) float32 ...\n",
       "    Solar_Zenith          (Number_of_CrIS_FORs) float32 ...\n",
       "    Ascending_Descending  (Number_of_CrIS_FORs) float32 ...\n",
       "    Topography            (Number_of_CrIS_FORs) float32 ...\n",
       "    Land_Fraction         (Number_of_CrIS_FORs) float32 ...\n",
       "    Surface_Pressure      (Number_of_CrIS_FORs) float32 ...\n",
       "    Skin_Temperature      (Number_of_CrIS_FORs) float32 ...\n",
       "    MIT_Skin_Temperature  (Number_of_CrIS_FORs) float32 ...\n",
       "    FG_Skin_Temperature   (Number_of_CrIS_FORs) float32 ...\n",
       "    MW_Surface_Class      (Number_of_CrIS_FORs) float32 ...\n",
       "    MW_Surface_Emis       (Number_of_CrIS_FORs) float32 ...\n",
       "    N_Smw_Per_FOV         (Number_of_CrIS_FORs) float64 ...\n",
       "    nemis_Per_FOV         (Number_of_CrIS_FORs) float64 ...\n",
       "    ncemis_Per_FOV        (Number_of_CrIS_FORs) float64 ...\n",
       "    ncld_Per_FOV          (Number_of_CrIS_FORs) float64 ...\n",
       "    Quality_Flag          (Number_of_CrIS_FORs) float64 ...\n",
       "    Ispare_Field          (Number_of_CrIS_FORs, Number_of_Ispares) float64 ...\n",
       "    Rspare_Field          (Number_of_CrIS_FORs, Number_of_Rspares) float32 ...\n",
       "    Cloud_Top_Pressure    (Number_of_CrIS_FORs, Number_of_Cloud_Layers) float32 ...\n",
       "    Cloud_Top_Fraction    (Number_of_CrIS_FORs, Number_of_Cloud_Layers) float32 ...\n",
       "    Temperature           (Number_of_CrIS_FORs, Number_of_P_Levels) float32 ...\n",
       "    MIT_Temperature       (Number_of_CrIS_FORs, Number_of_P_Levels) float32 ...\n",
       "    FG_Temperature        (Number_of_CrIS_FORs, Number_of_P_Levels) float32 ...\n",
       "    H2O                   (Number_of_CrIS_FORs, Number_of_P_Levels) float32 ...\n",
       "    MIT_H2O               (Number_of_CrIS_FORs, Number_of_P_Levels) float32 ...\n",
       "    FG_H2O                (Number_of_CrIS_FORs, Number_of_P_Levels) float32 ...\n",
       "    H2O_MR                (Number_of_CrIS_FORs, Number_of_P_Levels) float32 ...\n",
       "    MIT_H2O_MR            (Number_of_CrIS_FORs, Number_of_P_Levels) float32 ...\n",
       "    FG_H2O_MR             (Number_of_CrIS_FORs, Number_of_P_Levels) float32 ...\n",
       "    O3                    (Number_of_CrIS_FORs, Number_of_P_Levels) float32 ...\n",
       "    FG_O3                 (Number_of_CrIS_FORs, Number_of_P_Levels) float32 ...\n",
       "    O3_MR                 (Number_of_CrIS_FORs, Number_of_P_Levels) float32 ...\n",
       "    FG_O3_MR              (Number_of_CrIS_FORs, Number_of_P_Levels) float32 ...\n",
       "    Liquid_H2O            (Number_of_CrIS_FORs, Number_of_P_Levels) float32 ...\n",
       "    Liquid_H2O_MR         (Number_of_CrIS_FORs, Number_of_P_Levels) float32 ...\n",
       "    Ice_Liquid_Flag       (Number_of_CrIS_FORs, Number_of_P_Levels) float32 ...\n",
       "    CO                    (Number_of_CrIS_FORs, Number_of_P_Levels) float32 ...\n",
       "    CO_MR                 (Number_of_CrIS_FORs, Number_of_P_Levels) float32 ...\n",
       "    CH4                   (Number_of_CrIS_FORs, Number_of_P_Levels) float32 ...\n",
       "    CH4_MR                (Number_of_CrIS_FORs, Number_of_P_Levels) float32 ...\n",
       "    CO2                   (Number_of_CrIS_FORs, Number_of_P_Levels) float32 ...\n",
       "    HNO3                  (Number_of_CrIS_FORs, Number_of_P_Levels) float32 ...\n",
       "    HNO3_MR               (Number_of_CrIS_FORs, Number_of_P_Levels) float32 ...\n",
       "    N2O                   (Number_of_CrIS_FORs, Number_of_P_Levels) float32 ...\n",
       "    N2O_MR                (Number_of_CrIS_FORs, Number_of_P_Levels) float32 ...\n",
       "    SO2                   (Number_of_CrIS_FORs, Number_of_P_Levels) float32 ...\n",
       "    SO2_MR                (Number_of_CrIS_FORs, Number_of_P_Levels) float32 ...\n",
       "    MW_Frequency          (Number_of_CrIS_FORs, Number_of_MW_Spectral_Pts) float32 ...\n",
       "    MW_Emis               (Number_of_CrIS_FORs, Number_of_MW_Spectral_Pts) float32 ...\n",
       "    MIT_MW_Emis           (Number_of_CrIS_FORs, Number_of_MW_Spectral_Pts) float32 ...\n",
       "    IR_Emis_Freq          (Number_of_CrIS_FORs, Number_of_Surf_Emis_Hinge_Pts) float32 ...\n",
       "    FG_IR_Emis_Freq       (Number_of_CrIS_FORs, Number_of_Surf_Emis_Hinge_Pts) float32 ...\n",
       "    IR_Surface_Emis       (Number_of_CrIS_FORs, Number_of_Surf_Emis_Hinge_Pts) float32 ...\n",
       "    FG_IR_Surface_Emis    (Number_of_CrIS_FORs, Number_of_Surf_Emis_Hinge_Pts) float32 ...\n",
       "    IR_Surface_Refl       (Number_of_CrIS_FORs, Number_of_Surf_Emis_Hinge_Pts) float32 ...\n",
       "    Stability             (Number_of_CrIS_FORs, Number_of_Stability_Parameters) float32 ...\n",
       "    Cloud_Freq            (Number_of_CrIS_FORs, Number_of_Cloud_Layers, Number_of_Cloud_Emis_Hing_Pts) float32 ...\n",
       "    Cloud_Emis            (Number_of_CrIS_FORs, Number_of_Cloud_Layers, Number_of_Cloud_Emis_Hing_Pts) float32 ...\n",
       "    Cloud_Refl            (Number_of_CrIS_FORs, Number_of_Cloud_Layers, Number_of_Cloud_Emis_Hing_Pts) float32 ...\n",
       "Attributes:\n",
       "    Conventions:                              CF-1.5\n",
       "    Metadata_Conventions:                     CF-1.5, Unidata Datasset Discov...\n",
       "    standard_name_vocabulary:                 CF Standard Name Table (version...\n",
       "    project:                                  NPP Data Exploitation: NOAA NUCAPS\n",
       "    title:                                    NUCAPS_L2\n",
       "    summary:                                  NUCAPS retrieved profiles of te...\n",
       "    institution:                              DOC/NOAA/NESDIS/OSPO > Office o...\n",
       "    naming_authority:                         gov.noaa.nesdis.nde\n",
       "    instrument_name:                          CrIS, ATMS, VIIRS\n",
       "    creator_name:                             DOC/NOAA/NESDIS/STAR > IOSSPDT ...\n",
       "    creator_email:                            espcoperations@noaa.gov\n",
       "    creator_url:                              http://www.star.nesdis.noaa.gov\n",
       "    publisher_name:                           DOC/NOAA/NESDIS/NDE > NPP Data ...\n",
       "    publisher_email:                          espcoperations@noaa.gov\n",
       "    publisher_url:                            http://www.ospo.noaa.gov\n",
       "    references:                               Contact the OSPO PAL to request...\n",
       "    history:                                  Created by NUCAPS version 2.0, ...\n",
       "    processing_level:                         NOAA Level 2 data\n",
       "    geospatial_lat_units:                     degrees_north\n",
       "    geospatial_lon_units:                     degrees_east\n",
       "    date_created:                             2019-03-03T19:41:10Z\n",
       "    id:                                       6eabfb98-8577-4f24-8dd3-7bc48b8...\n",
       "    platform_name:                            NPP\n",
       "    Metadata_Link:                            NUCAPS-EDR_v2r0_npp_s2019030318...\n",
       "    source:                                   20190303_1848390_1849090_bin_00...\n",
       "    production_site:                          \n",
       "    production_environment:                   \n",
       "    start_orbit_number:                       38071\n",
       "    end_orbit_number:                         38071\n",
       "    starting_and_ending_orbit_node:           AA\n",
       "    day_night_data_flag:                      1\n",
       "    ascend_descend_data_flag:                 1\n",
       "    number_valid_scans:                       4\n",
       "    time_coverage_start:                      2019-03-03T18:48:39.0Z\n",
       "    time_coverage_end:                        2019-03-03T18:49:09.0Z\n",
       "    geospatial_first_scanline_first_fov_lat:  26.08\n",
       "    geospatial_first_scanline_last_fov_lat:   29.83\n",
       "    geospatial_first_scanline_first_fov_lon:  -96.54\n",
       "    geospatial_first_scanline_last_fov_lon:   -74.46\n",
       "    geospatial_last_scanline_first_fov_lat:   27.92\n",
       "    geospatial_last_scanline_last_fov_lat:    31.49\n",
       "    geospatial_last_scanline_first_fov_lon:   -96.39\n",
       "    geospatial_last_scanline_last_fov_lon:    -75.52\n",
       "    geospatial_bounds:                        POLYGON((-96.54 26.08, -88.47 2...\n",
       "    instrument_resolution:                    CrIS 2211 channels\n",
       "    retrieval_mode:                           IR+MW\n",
       "    number_valid_fovs:                        9"
      ]
     },
     "execution_count": 35,
     "metadata": {},
     "output_type": "execute_result"
    }
   ],
   "source": [
    "fname = 'data/NUCAPS-EDR_v2r0_npp_s201903031848390_e201903031849090_c201903031941100.nc'\n",
    "nucaps = xr.open_dataset(fname, decode_times=False)\n",
    "nucaps"
   ]
  },
  {
   "cell_type": "code",
   "execution_count": 36,
   "metadata": {},
   "outputs": [],
   "source": [
    "import xarray as xr"
   ]
  },
  {
   "cell_type": "code",
   "execution_count": 37,
   "metadata": {
    "scrolled": true
   },
   "outputs": [
    {
     "data": {
      "text/plain": [
       "<xarray.Dataset>\n",
       "Dimensions:    (lat: 89, lon: 180, nbnds: 2, time: 1995)\n",
       "Coordinates:\n",
       "  * lat        (lat) float32 88.0 86.0 84.0 82.0 80.0 78.0 76.0 74.0 72.0 ...\n",
       "  * lon        (lon) float32 0.0 2.0 4.0 6.0 8.0 10.0 12.0 14.0 16.0 18.0 ...\n",
       "  * time       (time) datetime64[ns] 1854-01-01 1854-02-01 1854-03-01 ...\n",
       "Dimensions without coordinates: nbnds\n",
       "Data variables:\n",
       "    time_bnds  (time, nbnds) float64 ...\n",
       "    sst        (time, lat, lon) float32 ...\n",
       "Attributes:\n",
       "    climatology:                     Climatology is based on 1971-2000 SST, X...\n",
       "    description:                     In situ data: ICOADS2.5 before 2007 and ...\n",
       "    keywords_vocabulary:             NASA Global Change Master Directory (GCM...\n",
       "    keywords:                        Earth Science > Oceans > Ocean Temperatu...\n",
       "    instrument:                      Conventional thermometers\n",
       "    source_comment:                  SSTs were observed by conventional therm...\n",
       "    geospatial_lon_min:              -1.0\n",
       "    geospatial_lon_max:              359.0\n",
       "    geospatial_laty_max:             89.0\n",
       "    geospatial_laty_min:             -89.0\n",
       "    geospatial_lat_max:              89.0\n",
       "    geospatial_lat_min:              -89.0\n",
       "    geospatial_lat_units:            degrees_north\n",
       "    geospatial_lon_units:            degrees_east\n",
       "    cdm_data_type:                   Grid\n",
       "    project:                         NOAA Extended Reconstructed Sea Surface ...\n",
       "    original_publisher_url:          http://www.ncdc.noaa.gov\n",
       "    References:                      https://www.ncdc.noaa.gov/data-access/ma...\n",
       "    source:                          In situ data: ICOADS R3.0 before 2015, N...\n",
       "    title:                           NOAA ERSSTv5 (in situ only)\n",
       "    history:                         created 07/2017 by PSD data using NCEI's...\n",
       "    institution:                     This version written at NOAA/ESRL PSD: o...\n",
       "    citation:                        Huang et al, 2017: Extended Reconstructe...\n",
       "    platform:                        Ship and Buoy SSTs from ICOADS R3.0 and ...\n",
       "    standard_name_vocabulary:        CF Standard Name Table (v40, 25 January ...\n",
       "    processing_level:                NOAA Level 4\n",
       "    Conventions:                     CF-1.6, ACDD-1.3\n",
       "    metadata_link:                   :metadata_link = https://doi.org/10.7289...\n",
       "    creator_name:                    Boyin Huang (original)\n",
       "    date_created:                    2017-06-30T12:18:00Z (original)\n",
       "    product_version:                 Version 5\n",
       "    creator_url_original:            https://www.ncei.noaa.gov\n",
       "    license:                         No constraints on data access or use\n",
       "    comment:                         SSTs were observed by conventional therm...\n",
       "    summary:                         ERSST.v5 is developed based on v4 after ...\n",
       "    dataset_title:                   NOAA Extended Reconstructed SST V5\n",
       "    data_modified:                   2020-04-06\n",
       "    DODS_EXTRA.Unlimited_Dimension:  time"
      ]
     },
     "execution_count": 37,
     "metadata": {},
     "output_type": "execute_result"
    }
   ],
   "source": [
    "baseURL = 'http://www.esrl.noaa.gov'\n",
    "catalogURL = '/psd/thredds/dodsC/Datasets/noaa.ersst.v5/sst.mnmean.nc'\n",
    "sst = xr.open_dataset(baseURL+catalogURL)\n",
    "sst"
   ]
  }
 ],
 "metadata": {
  "kernelspec": {
   "display_name": "Python 3",
   "language": "python",
   "name": "python3"
  },
  "language_info": {
   "codemirror_mode": {
    "name": "ipython",
    "version": 3
   },
   "file_extension": ".py",
   "mimetype": "text/x-python",
   "name": "python",
   "nbconvert_exporter": "python",
   "pygments_lexer": "ipython3",
   "version": "3.7.0"
  }
 },
 "nbformat": 4,
 "nbformat_minor": 2
}
