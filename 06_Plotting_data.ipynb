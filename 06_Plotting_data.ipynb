{
 "cells": [
  {
   "cell_type": "markdown",
   "metadata": {},
   "source": [
    "## 6.2 Univariable Plots\n",
    "### 6.2.2 Histograms"
   ]
  },
  {
   "cell_type": "code",
   "execution_count": null,
   "metadata": {},
   "outputs": [],
   "source": [
    "import pandas as pd\n",
    "import numpy as np\n",
    "import matplotlib.pyplot as plt\n",
    "\n",
    "fires = pd.read_csv(\"data/VIIRSNDE_global2018312.v1.0.txt\")\n",
    "fires.head()\n",
    "\n",
    "# print(plt.rcParams['figure.figsize'])\n",
    "# plt.rcParams.update({'font.size': 16, 'figure.figsize':[12,6]})\n",
    "# print(plt.rcParams['figure.figsize'])"
   ]
  },
  {
   "cell_type": "code",
   "execution_count": null,
   "metadata": {},
   "outputs": [],
   "source": [
    "bins10MW = np.arange(0, 500, 10)"
   ]
  },
  {
   "cell_type": "code",
   "execution_count": null,
   "metadata": {},
   "outputs": [],
   "source": [
    "plt.figure()\n",
    "plt.hist(fires['frp(MW)'], bins=bins10MW)\n",
    "plt.show()"
   ]
  },
  {
   "cell_type": "code",
   "execution_count": null,
   "metadata": {},
   "outputs": [],
   "source": [
    "fig = plt.figure()\n",
    "ax = fig.add_subplot(111)\n",
    "ax.hist(fires['frp(MW)'], bins=bins10MW)\n",
    "ax.set_yscale('log')\n",
    "ax.set_xlabel(\"Fire Radiative Power (MW)\")\n",
    "ax.set_ylabel(\"Counts\")\n",
    "plt.show()"
   ]
  },
  {
   "cell_type": "markdown",
   "metadata": {},
   "source": [
    "### 6.2.2 Barplots"
   ]
  },
  {
   "cell_type": "code",
   "execution_count": null,
   "metadata": {},
   "outputs": [],
   "source": [
    "ranges = [0.0, 100.0, 200.0, 1000.0]\n",
    "categories = ['low', 'mid', 'high']\n",
    "\n",
    "intensity = pd.cut(fires['frp(MW)'], bins=ranges, include_lowest=True, labels=categories)\n",
    "intensity.head()"
   ]
  },
  {
   "cell_type": "code",
   "execution_count": null,
   "metadata": {},
   "outputs": [],
   "source": [
    "intensity_counts = intensity.value_counts()"
   ]
  },
  {
   "cell_type": "code",
   "execution_count": null,
   "metadata": {},
   "outputs": [],
   "source": [
    "plt.figure()\n",
    "ax = plt.subplot(111)\n",
    "ax.bar(x=intensity_counts.index, height=intensity_counts)\n",
    "ax.set_yscale('log')\n",
    "ax.set_xlabel(\"Fire Radiative Power (MW)\")\n",
    "ax.set_ylabel(\"Counts\")\n",
    "plt.show()"
   ]
  },
  {
   "cell_type": "markdown",
   "metadata": {},
   "source": [
    "## 6.3 Two Variable Plots"
   ]
  },
  {
   "cell_type": "code",
   "execution_count": null,
   "metadata": {},
   "outputs": [],
   "source": [
    "import pandas as pd\n",
    "fname = 'data/campfire-gases-2018-11.csv'\n",
    "trace_gases = pd.read_csv(fname)\n",
    "trace_gases.columns"
   ]
  },
  {
   "cell_type": "code",
   "execution_count": null,
   "metadata": {},
   "outputs": [],
   "source": [
    "trace_gases.sort_values(by='Time', inplace=True)\n",
    "trace_gases.Time.values[0], trace_gases.Time.values[-1]"
   ]
  },
  {
   "cell_type": "code",
   "execution_count": null,
   "metadata": {},
   "outputs": [],
   "source": [
    "trace_gases['Time'].head()"
   ]
  },
  {
   "cell_type": "code",
   "execution_count": null,
   "metadata": {},
   "outputs": [],
   "source": [
    "fmt = '%Y-%m-%d %H:%M:%S'\n",
    "trace_gases['Time'] = pd.to_datetime(trace_gases['Time'], format=fmt)\n",
    "trace_gases['Time'].head()"
   ]
  },
  {
   "cell_type": "code",
   "execution_count": null,
   "metadata": {},
   "outputs": [],
   "source": [
    "# Options to print figures into notebook/increase size\n",
    "plt.rcParams['figure.figsize'] = [12, 6]\n",
    "plt.rcParams.update({'font.size': 16})"
   ]
  },
  {
   "cell_type": "code",
   "execution_count": null,
   "metadata": {},
   "outputs": [],
   "source": [
    "plt.rcParams.update({'font.size': 16, 'figure.figsize': [12, 6]})"
   ]
  },
  {
   "cell_type": "code",
   "execution_count": null,
   "metadata": {},
   "outputs": [],
   "source": [
    "ylabel = '$\\mathregular{H_2}$O mixing ratio'"
   ]
  },
  {
   "cell_type": "code",
   "execution_count": null,
   "metadata": {},
   "outputs": [],
   "source": [
    "mr = trace_gases['H2O_MR_850mb'].values\n",
    "t = trace_gases['Time'].values"
   ]
  },
  {
   "cell_type": "code",
   "execution_count": null,
   "metadata": {},
   "outputs": [],
   "source": [
    "import datetime\n",
    "xlims = [datetime.date(2018, 11, 1), datetime.date(2018, 11, 30)]\n",
    "ylims = [0, 0.015]\n",
    "ylabel = '$\\mathregular{H_2O}$ mixing ratio'"
   ]
  },
  {
   "cell_type": "code",
   "execution_count": null,
   "metadata": {},
   "outputs": [],
   "source": [
    "plt.rcParams.update({'font.size': 16, 'figure.figsize':[12,6]})\n",
    "\n",
    "fig = plt.figure()\n",
    "ax = plt.subplot(111)\n",
    "\n",
    "ax.scatter(t, mr, c='lightgray')\n",
    "plt.xticks(rotation=35)\n",
    "ax.set_xlim(xlims[0], xlims[1])\n",
    "ax.set_ylim(ylims[0], ylims[1])\n",
    "\n",
    "ax.set_ylabel(ylabel)\n",
    "plt.show()"
   ]
  },
  {
   "cell_type": "markdown",
   "metadata": {},
   "source": [
    "### 6.3.4 Line Plots"
   ]
  },
  {
   "cell_type": "code",
   "execution_count": null,
   "metadata": {},
   "outputs": [],
   "source": [
    "daily_average = trace_gases.resample('D', on='Time').mean()\n",
    "daily_average.head()"
   ]
  },
  {
   "cell_type": "code",
   "execution_count": null,
   "metadata": {},
   "outputs": [],
   "source": [
    "daily_average = daily_average.reset_index()"
   ]
  },
  {
   "cell_type": "code",
   "execution_count": null,
   "metadata": {},
   "outputs": [],
   "source": [
    "# trace_gases['Lon'] = trace_gases['Latitude'].round()\n",
    "# groups = trace_gases.groupby(trace_gases['Lon'])\n",
    "# daily_average = groups.mean()\n",
    "# daily_average.head()"
   ]
  },
  {
   "cell_type": "code",
   "execution_count": null,
   "metadata": {},
   "outputs": [],
   "source": [
    "fig = plt.figure()\n",
    "ax = plt.subplot(111)\n",
    "\n",
    "#[ax.scatter(x, trace_gases['H2O_MR_850mb'][i], c='lightgray') for i, x in enumerate(trace_gases['Time'])]\n",
    "ax.scatter(t, mr, c='lightgray')\n",
    "ax.plot(daily_average['Time'], daily_average['H2O_MR_850mb'], linewidth=4)\n",
    "\n",
    "ax.set_xlim(xlims[0], xlims[1])\n",
    "ax.set_ylim(ylims[0], ylims[1])\n",
    "\n",
    "ax.set_ylabel(ylabel)\n",
    "\n",
    "fig.autofmt_xdate()\n",
    "\n",
    "plt.show()"
   ]
  },
  {
   "cell_type": "markdown",
   "metadata": {},
   "source": [
    "### 6.3.5 Adding data to an existing plot"
   ]
  },
  {
   "cell_type": "code",
   "execution_count": null,
   "metadata": {},
   "outputs": [],
   "source": [
    "fig = plt.figure()\n",
    "ax = plt.subplot(111)\n",
    "\n",
    "ax.plot(daily_average['Time'], daily_average['H2O_MR_500mb'], label='500mb')\n",
    "ax.plot(daily_average['Time'], daily_average['H2O_MR_850mb'], label='850mb')\n",
    "\n",
    "ax.legend(loc='upper right')\n",
    "\n",
    "ax.set_xlim(xlims[0], xlims[1])\n",
    "ax.set_ylim(ylims[0], ylims[1])\n",
    "ax.set_ylabel(ylabel)\n",
    "\n",
    "fig.autofmt_xdate()\n",
    "\n",
    "plt.show()"
   ]
  },
  {
   "cell_type": "markdown",
   "metadata": {},
   "source": [
    "### 6.3.6 Plotting two side-by-side plots"
   ]
  },
  {
   "cell_type": "code",
   "execution_count": null,
   "metadata": {},
   "outputs": [],
   "source": [
    "fig, ax = plt.subplots(ncols=2)\n",
    "\n",
    "ax[0].set_title('Ozone')\n",
    "ax[0].plot(daily_average['Time'], daily_average['O3_MR_500mb'])\n",
    "ax[0].set_ylabel(\"Mixing Ratio (ppm)\")\n",
    "\n",
    "ax[1].set_title('Carbon Monoxide')\n",
    "ax[1].plot(daily_average['Time'], daily_average['CO_MR_500mb'])\n",
    "\n",
    "for ax0 in ax:\n",
    "    ax0.set_xlim(xlims[0], xlims[1])\n",
    "\n",
    "fig.autofmt_xdate()\n",
    "plt.show()"
   ]
  },
  {
   "cell_type": "markdown",
   "metadata": {},
   "source": [
    "### 6.3.7 Skew-T"
   ]
  },
  {
   "cell_type": "code",
   "execution_count": null,
   "metadata": {},
   "outputs": [],
   "source": [
    "import xarray as xr\n",
    "from metpy.units import units\n",
    "import metpy.calc as mpcalc\n",
    "from metpy.plots import SkewT"
   ]
  },
  {
   "cell_type": "code",
   "execution_count": null,
   "metadata": {},
   "outputs": [],
   "source": [
    "fname = 'data/NUCAPS-EDR_v2r0_npp_s201903031848390_e201903031849090_c201903031941100.nc'\n",
    "nucaps = xr.open_dataset(fname, decode_times=False)\n",
    "list(nucaps.H2O_MR.attrs)"
   ]
  },
  {
   "cell_type": "code",
   "execution_count": null,
   "metadata": {},
   "outputs": [],
   "source": [
    "nucaps.H2O_MR.units, nucaps.Temperature.units, nucaps.Pressure.units"
   ]
  },
  {
   "cell_type": "code",
   "execution_count": null,
   "metadata": {},
   "outputs": [],
   "source": [
    "nucaps.Number_of_P_Levels"
   ]
  },
  {
   "cell_type": "code",
   "execution_count": null,
   "metadata": {},
   "outputs": [],
   "source": [
    "profile = nucaps.sel(Number_of_CrIS_FORs=0)"
   ]
  },
  {
   "cell_type": "code",
   "execution_count": null,
   "metadata": {},
   "outputs": [],
   "source": [
    "profile.H2O_MR.dims"
   ]
  },
  {
   "cell_type": "code",
   "execution_count": null,
   "metadata": {},
   "outputs": [],
   "source": [
    "T = profile.Temperature.values.flatten()\n",
    "T = T*units('K')\n",
    "\n",
    "MR = profile.H2O_MR.values.flatten()\n",
    "MR = MR*units('kg/kg')\n",
    "\n",
    "P = profile.Effective_Pressure.values.flatten()\n",
    "P = P*units('millibar')"
   ]
  },
  {
   "cell_type": "code",
   "execution_count": null,
   "metadata": {},
   "outputs": [],
   "source": [
    "# NOTE: The code below differs from the book, per MetPy:\n",
    "# Changed in version 1.0: Changed signature from (mixing_ratio, temperature, pressure)\n",
    "\n",
    "RH = mpcalc.relative_humidity_from_mixing_ratio(P, T, MR)"
   ]
  },
  {
   "cell_type": "code",
   "execution_count": null,
   "metadata": {},
   "outputs": [],
   "source": [
    "# NOTE: The code below differs from the book, per MetPy:\n",
    "# Changed in version 1.0: Renamed rh parameter to relative_humidity\n",
    "\n",
    "RH[RH < 0] = 0\n",
    "Td = mpcalc.dewpoint_from_relative_humidity(T, RH)"
   ]
  },
  {
   "cell_type": "code",
   "execution_count": null,
   "metadata": {},
   "outputs": [],
   "source": [
    "fig = plt.figure(figsize=[8,8])\n",
    "skew = SkewT(fig, subplot=111)\n",
    "\n",
    "skew.plot(P, T, label='Temperature')\n",
    "skew.plot(P, Td, linestyle='--', label='Dewpoint')\n",
    "\n",
    "fig.legend()\n",
    "plt.show()"
   ]
  },
  {
   "cell_type": "markdown",
   "metadata": {},
   "source": [
    "## Three Variable Plots\n",
    "### 6.4.1 Filled contour"
   ]
  },
  {
   "cell_type": "code",
   "execution_count": null,
   "metadata": {},
   "outputs": [],
   "source": [
    "import h5py\n",
    "import numpy as np"
   ]
  },
  {
   "attachments": {},
   "cell_type": "markdown",
   "metadata": {},
   "source": [
    "The code below differs from the book. ```'data/MOP03JM-201811-L3V95.6.3_thinned.he5'``` should be changed to ```'data/MOP03JM-201811-L3V95.6.3_thinned.he5'```, this is a smaller version of the operational file."
   ]
  },
  {
   "cell_type": "code",
   "execution_count": null,
   "metadata": {},
   "outputs": [],
   "source": [
    "fname = 'data/MOP03JM-201811-L3V95.6.3_thinned.he5' \n",
    "file_id = h5py.File(fname, 'r')"
   ]
  },
  {
   "cell_type": "code",
   "execution_count": null,
   "metadata": {},
   "outputs": [],
   "source": [
    "#file_id.visit(print)\n",
    "plt.rcParams.update({'font.size': 16, 'figure.figsize':[8,6]})"
   ]
  },
  {
   "cell_type": "code",
   "execution_count": null,
   "metadata": {},
   "outputs": [],
   "source": [
    "file_id.visit(print)"
   ]
  },
  {
   "cell_type": "code",
   "execution_count": null,
   "metadata": {},
   "outputs": [],
   "source": [
    "#file_id.visit(print)\n",
    "grp_name=\"HDFEOS/GRIDS/MOP03/Data Fields/\"\n",
    "\n",
    "co = file_id[grp_name+\"RetrievedCOTotalColumnDay\"][:,:]\n",
    "lat = file_id[grp_name+\"Latitude\"][:]\n",
    "lon = file_id[grp_name+\"Longitude\"][:]"
   ]
  },
  {
   "cell_type": "code",
   "execution_count": null,
   "metadata": {},
   "outputs": [],
   "source": [
    "missing = file_id[grp_name+\"RetrievedCOTotalColumnDay\"].attrs['_FillValue']\n",
    "co[co== missing]=np.nan"
   ]
  },
  {
   "cell_type": "code",
   "execution_count": null,
   "metadata": {},
   "outputs": [],
   "source": [
    "missing"
   ]
  },
  {
   "cell_type": "code",
   "execution_count": null,
   "metadata": {},
   "outputs": [],
   "source": [
    "X_co, Y_co = np.meshgrid(lon, lat)"
   ]
  },
  {
   "cell_type": "code",
   "execution_count": null,
   "metadata": {},
   "outputs": [],
   "source": [
    "co.shape, X_co.shape"
   ]
  },
  {
   "cell_type": "code",
   "execution_count": null,
   "metadata": {},
   "outputs": [],
   "source": [
    "fig, ax = plt.subplots()\n",
    "\n",
    "co_plot = ax.contourf(X_co, Y_co, co.transpose())\n",
    "\n",
    "fig.colorbar(co_plot, orientation='horizontal', ax=ax)\n",
    "\n",
    "ax.grid(True)\n",
    "\n",
    "plt.show()"
   ]
  },
  {
   "cell_type": "code",
   "execution_count": null,
   "metadata": {},
   "outputs": [],
   "source": [
    "fires[\"lon_bin\"] = fires[\"Lon\"].round(-1)\n",
    "fires[\"lat_bin\"] = fires[\"Lat\"].round(-1)\n",
    "fire_count = fires.groupby([\"lon_bin\", \"lat_bin\"]).size()"
   ]
  },
  {
   "cell_type": "code",
   "execution_count": null,
   "metadata": {},
   "outputs": [],
   "source": [
    "fire_count = fire_count.reset_index(name=\"Count\")\n",
    "fire_count.head()"
   ]
  },
  {
   "cell_type": "code",
   "execution_count": null,
   "metadata": {},
   "outputs": [],
   "source": [
    "fire_count_3D = fire_count.pivot(index='lat_bin', columns='lon_bin', values='Count')\n",
    "fire_count_3D.head()"
   ]
  },
  {
   "cell_type": "code",
   "execution_count": null,
   "metadata": {},
   "outputs": [],
   "source": [
    "X_fires, Y_fires = np.meshgrid(fire_count_3D.columns, fire_count_3D.index)"
   ]
  },
  {
   "cell_type": "code",
   "execution_count": null,
   "metadata": {},
   "outputs": [],
   "source": [
    "from matplotlib import ticker, colors"
   ]
  },
  {
   "cell_type": "code",
   "execution_count": null,
   "metadata": {},
   "outputs": [],
   "source": [
    "fig, ax = plt.subplots()\n",
    "\n",
    "fire_plot = ax.contourf(X_fires, Y_fires, fire_count_3D, locator=ticker.LogLocator(), extend='both')\n",
    "fig.colorbar(fire_plot, orientation='horizontal', shrink=0.5)\n",
    "\n",
    "ax.scatter(fires['Lon'], fires['Lat'], s=0.5, c='black', alpha=0.1)\n",
    "\n",
    "ax.set_xlabel('Longitude')\n",
    "ax.set_ylabel('Latitude')\n",
    "\n",
    "ax.grid(True)\n",
    "\n",
    "plt.show()\n"
   ]
  },
  {
   "cell_type": "markdown",
   "metadata": {},
   "source": [
    "### 6.4.2 Mesh plots"
   ]
  },
  {
   "cell_type": "code",
   "execution_count": null,
   "metadata": {},
   "outputs": [],
   "source": [
    "fig, ax = plt.subplots()\n",
    "\n",
    "co_plot = ax.pcolormesh(X_co, Y_co, co.transpose())\n",
    "fig.colorbar(co_plot, orientation='horizontal')\n",
    "\n",
    "ax.grid(True)\n",
    "\n",
    "plt.show()"
   ]
  },
  {
   "attachments": {},
   "cell_type": "markdown",
   "metadata": {},
   "source": [
    "Note: previous versions of Matplotlib allowed the following arguements in pcolormesh:\n",
    "\n",
    "```\n",
    "norm=colors.LogNorm(), vmin=1, vmax=1000)\n",
    "```\n",
    "\n",
    "Newer versions of Matplotlib require the following syntax:\n",
    "\n",
    "```\n",
    "norm=colors.LogNorm(vmin=1, vmax=1000, clip=True)\n",
    "```"
   ]
  },
  {
   "cell_type": "code",
   "execution_count": null,
   "metadata": {},
   "outputs": [],
   "source": [
    "fig, ax = plt.subplots()\n",
    "\n",
    "im = ax.pcolormesh(X_fires, Y_fires, fire_count_3D, norm=colors.LogNorm(vmin=1, vmax=1000, clip=True))\n",
    "fig.colorbar(im, orientation='horizontal', shrink=0.5, pad=0.25)\n",
    "\n",
    "ax.grid(True)\n",
    "\n",
    "plt.show()"
   ]
  }
 ],
 "metadata": {
  "kernelspec": {
   "display_name": "earthsciviz",
   "language": "python",
   "name": "python3"
  },
  "language_info": {
   "codemirror_mode": {
    "name": "ipython",
    "version": 3
   },
   "file_extension": ".py",
   "mimetype": "text/x-python",
   "name": "python",
   "nbconvert_exporter": "python",
   "pygments_lexer": "ipython3",
   "version": "3.9.15"
  },
  "vscode": {
   "interpreter": {
    "hash": "48fc10cb14791ea88ba2696b1818b1bf7d4d99ed63d4104785d39779bf72a716"
   }
  }
 },
 "nbformat": 4,
 "nbformat_minor": 2
}
