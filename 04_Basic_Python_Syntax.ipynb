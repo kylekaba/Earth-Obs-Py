{
 "cells": [
  {
   "cell_type": "markdown",
   "metadata": {},
   "source": [
    "## 4.1 \"Hello Earth\" in Python"
   ]
  },
  {
   "cell_type": "code",
   "execution_count": null,
   "metadata": {},
   "outputs": [],
   "source": [
    "print(\"Hello Earth\")"
   ]
  },
  {
   "cell_type": "markdown",
   "metadata": {},
   "source": [
    "## 4.2 Variable Assigningment and Arithmetic"
   ]
  },
  {
   "cell_type": "code",
   "execution_count": null,
   "metadata": {},
   "outputs": [],
   "source": [
    "var_int = 8\n",
    "var_float = 15.0\n",
    "var_scifloat = 4e8\n",
    "var_complex = complex(4, 2)\n",
    "var_greetings = 'Hello Earth'"
   ]
  },
  {
   "cell_type": "code",
   "execution_count": null,
   "metadata": {},
   "outputs": [],
   "source": [
    " type(var_int),  type(var_float), type(var_scifloat), type(var_complex), type(var_greetings)"
   ]
  },
  {
   "cell_type": "code",
   "execution_count": null,
   "metadata": {},
   "outputs": [],
   "source": [
    "var_float/var_int"
   ]
  },
  {
   "cell_type": "code",
   "execution_count": null,
   "metadata": {},
   "outputs": [],
   "source": [
    "int(var_float/var_int)"
   ]
  },
  {
   "cell_type": "code",
   "execution_count": null,
   "metadata": {},
   "outputs": [],
   "source": [
    "var_string = '815'\n",
    "int(var_string)"
   ]
  },
  {
   "cell_type": "code",
   "execution_count": null,
   "metadata": {},
   "outputs": [],
   "source": [
    "add_sub = 8+15-42\n",
    "mult_div_exp = (8*15/42)**4\n",
    "print(add_sub, mult_div_exp)"
   ]
  },
  {
   "cell_type": "code",
   "execution_count": null,
   "metadata": {},
   "outputs": [],
   "source": [
    "div_quo = 15 // 8\n",
    "div_mod = 15 % 8\n",
    "print(div_quo, div_mod)"
   ]
  },
  {
   "cell_type": "code",
   "execution_count": null,
   "metadata": {},
   "outputs": [],
   "source": [
    "abs(add_sub), round(mult_div_exp)"
   ]
  },
  {
   "cell_type": "markdown",
   "metadata": {},
   "source": [
    "## 4.3 Lists"
   ]
  },
  {
   "cell_type": "code",
   "execution_count": null,
   "metadata": {},
   "outputs": [],
   "source": [
    "mixed_list = [8, 15, \"Oceanic\"]\n",
    "mixed_list"
   ]
  },
  {
   "cell_type": "code",
   "execution_count": null,
   "metadata": {},
   "outputs": [],
   "source": [
    "mixed_list[0], mixed_list[2]"
   ]
  },
  {
   "cell_type": "code",
   "execution_count": null,
   "metadata": {},
   "outputs": [],
   "source": [
    "mixed_list.append(\"Flight\")\n",
    "mixed_list"
   ]
  },
  {
   "cell_type": "code",
   "execution_count": null,
   "metadata": {},
   "outputs": [],
   "source": [
    "numbers_list = [4, 8, 15, 16, 23, 42]\n",
    "print(numbers_list*2)"
   ]
  },
  {
   "cell_type": "code",
   "execution_count": null,
   "metadata": {},
   "outputs": [],
   "source": [
    "numbers_list + mixed_list"
   ]
  },
  {
   "cell_type": "markdown",
   "metadata": {},
   "source": [
    "## 4.4 Importing Packages"
   ]
  },
  {
   "cell_type": "code",
   "execution_count": null,
   "metadata": {},
   "outputs": [],
   "source": [
    "import numpy as np"
   ]
  },
  {
   "cell_type": "markdown",
   "metadata": {},
   "source": [
    "## 4.5 Array and Matrix Operations"
   ]
  },
  {
   "cell_type": "code",
   "execution_count": null,
   "metadata": {},
   "outputs": [],
   "source": [
    "numbers_array = np.array(numbers_list)\n",
    "numbers_array*2"
   ]
  },
  {
   "cell_type": "code",
   "execution_count": null,
   "metadata": {},
   "outputs": [],
   "source": [
    "numbers_array[0]"
   ]
  },
  {
   "cell_type": "code",
   "execution_count": null,
   "metadata": {},
   "outputs": [],
   "source": [
    "np.sort(numbers_array)"
   ]
  },
  {
   "cell_type": "code",
   "execution_count": null,
   "metadata": {},
   "outputs": [],
   "source": [
    "numbers_array_2d = numbers_array.reshape(2,3)\n",
    "numbers_array_2d"
   ]
  },
  {
   "cell_type": "code",
   "execution_count": null,
   "metadata": {},
   "outputs": [],
   "source": [
    "numbers_array_2d[1,1]"
   ]
  },
  {
   "cell_type": "code",
   "execution_count": null,
   "metadata": {},
   "outputs": [],
   "source": [
    "np.zeros(10), np.full(10, np.nan), np.arange(0, 5, 0.5)"
   ]
  },
  {
   "cell_type": "code",
   "execution_count": null,
   "metadata": {},
   "outputs": [],
   "source": [
    "masked_nums = (numbers_array > 8)\n",
    "masked_nums"
   ]
  },
  {
   "cell_type": "code",
   "execution_count": null,
   "metadata": {},
   "outputs": [],
   "source": [
    "masked_nums_and = (numbers_array > 8) & (numbers_array < 30)\n",
    "masked_nums_and"
   ]
  },
  {
   "cell_type": "code",
   "execution_count": null,
   "metadata": {},
   "outputs": [],
   "source": [
    "masked_nums_or = (numbers_array < 8) | (numbers_array > 30)\n",
    "masked_nums_or"
   ]
  },
  {
   "cell_type": "code",
   "execution_count": null,
   "metadata": {},
   "outputs": [],
   "source": [
    "numbers_array[masked_nums]"
   ]
  },
  {
   "cell_type": "code",
   "execution_count": null,
   "metadata": {},
   "outputs": [],
   "source": [
    "numbers_mask_array = np.ma.array(numbers_array, mask=~masked_nums)\n",
    "numbers_mask_array, numbers_array.size"
   ]
  },
  {
   "cell_type": "code",
   "execution_count": null,
   "metadata": {},
   "outputs": [],
   "source": [
    "numbers_array.min(), numbers_array.max()"
   ]
  },
  {
   "cell_type": "markdown",
   "metadata": {},
   "source": [
    "## 4.6 Time Series Data"
   ]
  },
  {
   "cell_type": "code",
   "execution_count": null,
   "metadata": {},
   "outputs": [],
   "source": [
    "from datetime import datetime, timedelta"
   ]
  },
  {
   "cell_type": "code",
   "execution_count": null,
   "metadata": {},
   "outputs": [],
   "source": [
    " #September 22, 2004 at 4:16 P.M\n",
    "flight_time = datetime(2004, 9, 22, 4, 16)\n",
    "flight_time.isoformat()"
   ]
  },
  {
   "cell_type": "code",
   "execution_count": null,
   "metadata": {},
   "outputs": [],
   "source": [
    "flight_time.isoformat(), flight_time.strftime('%Y/%m/%d %H:%m')"
   ]
  },
  {
   "cell_type": "code",
   "execution_count": null,
   "metadata": {},
   "outputs": [],
   "source": [
    "flight_time_shift = flight_time+timedelta(days=101)\n",
    "flight_time_shift.strftime('%h %d %Y')"
   ]
  },
  {
   "cell_type": "markdown",
   "metadata": {},
   "source": [
    "## 4.7 Loops"
   ]
  },
  {
   "cell_type": "code",
   "execution_count": null,
   "metadata": {},
   "outputs": [],
   "source": [
    "team_members = ['Sayid', 'Claire', 'Jack', 'Hurley', 'Sawyer',\n",
    "    'Sun-Hwa', 'Kate', 'Charlie', 'Locke', 'Desmond', 'Juliet'\n",
    "    ]\n",
    "\n",
    "for member in team_members:\n",
    "    print(member)"
   ]
  },
  {
   "cell_type": "code",
   "execution_count": null,
   "metadata": {},
   "outputs": [],
   "source": [
    "for member in team_members:\n",
    "    if member[0] == 'J':\n",
    "        print(member)"
   ]
  },
  {
   "cell_type": "code",
   "execution_count": null,
   "metadata": {},
   "outputs": [],
   "source": [
    "exp_numbers=[]\n",
    "for i in np.arange(0, 11):\n",
    "    exp_numbers.append(i**2)\n",
    "print(exp_numbers)"
   ]
  },
  {
   "cell_type": "code",
   "execution_count": null,
   "metadata": {},
   "outputs": [],
   "source": [
    "for i, exp_number in enumerate(exp_numbers):\n",
    "    print(i, exp_number)"
   ]
  },
  {
   "cell_type": "code",
   "execution_count": null,
   "metadata": {},
   "outputs": [],
   "source": [
    "div_by_5 = False\n",
    "i = 0\n",
    "\n",
    "while not div_by_5:\n",
    "    num = exp_numbers[i]\n",
    "    \n",
    "    if num == 0:\n",
    "        i=i+1\n",
    "        continue\n",
    "    \n",
    "    if (num%5 == 0):\n",
    "        print(num)\n",
    "        div_by_5 = True\n",
    "    else:\n",
    "        i=i+1\n",
    "        if i >= len(exp_numbers):\n",
    "            div_by_5 = True\n",
    "            break"
   ]
  },
  {
   "cell_type": "markdown",
   "metadata": {},
   "source": [
    "## 4.8 List Comprehensions"
   ]
  },
  {
   "cell_type": "code",
   "execution_count": null,
   "metadata": {},
   "outputs": [],
   "source": [
    "[member for member in team_members if member[0] == 'J']"
   ]
  },
  {
   "cell_type": "code",
   "execution_count": null,
   "metadata": {},
   "outputs": [],
   "source": [
    "exp_numbers_list = [value**2 for value in np.arange(0,11)]\n",
    "print(exp_numbers_list)"
   ]
  },
  {
   "cell_type": "code",
   "execution_count": null,
   "metadata": {},
   "outputs": [],
   "source": [
    " list(np.arange(0,11)**2)"
   ]
  },
  {
   "cell_type": "code",
   "execution_count": null,
   "metadata": {},
   "outputs": [],
   "source": [
    "filtered_values = [value for value in exp_numbers_list if (value%5 == 0) \n",
    "   & (value > 0)]\n",
    "print(filtered_values[0])"
   ]
  },
  {
   "cell_type": "markdown",
   "metadata": {},
   "source": [
    "## 4.9 Functions"
   ]
  },
  {
   "cell_type": "code",
   "execution_count": null,
   "metadata": {},
   "outputs": [],
   "source": [
    "def hello_earth():\n",
    "    print(\"Hello Earth\")"
   ]
  },
  {
   "cell_type": "code",
   "execution_count": null,
   "metadata": {},
   "outputs": [],
   "source": [
    "hello_earth()"
   ]
  },
  {
   "cell_type": "code",
   "execution_count": null,
   "metadata": {},
   "outputs": [],
   "source": [
    "def celsius_to_fahrenheit(Tc):\n",
    "    \"\"\"This function will take a temperature in Celsius and convert to Fahrenheit.\n",
    "\n",
    "    Arguments:\n",
    "        Tc: Temperature in Celsius\n",
    "\n",
    "    Returns:\n",
    "        Tf: Temperature in Fahrenheit\n",
    "    \"\"\"\n",
    "    Tf = Tc*(9/5)+32\n",
    "    return Tf"
   ]
  },
  {
   "cell_type": "code",
   "execution_count": null,
   "metadata": {},
   "outputs": [],
   "source": [
    "temp_f = celsius_to_fahrenheit(40)\n",
    "print(temp_f)"
   ]
  },
  {
   "cell_type": "code",
   "execution_count": null,
   "metadata": {},
   "outputs": [],
   "source": [
    "def convert_temp(T=-999, convert_to='C'):\n",
    "    '''This function will take a temperature in Celsius and convert to Fahrenheit.\n",
    "\n",
    "    Arguments:\n",
    "        T : Temperature in Celsius or Farenheit\n",
    "        convert_to: conversion to \n",
    "\n",
    "    Returns:\n",
    "        Tout: Temperature in Fahrenheit, Celsius, or -999 if nothing is calculated\n",
    "    '''\n",
    "    \n",
    "    if convert_to == 'F':\n",
    "        Tout = T*(9/5)+32\n",
    "    elif convert_to == 'C':\n",
    "        Tout = (T-32)*(5/9)\n",
    "    else:\n",
    "        print(\"Unrecognized conversion\")\n",
    "        Tout = -999\n",
    "    return Tout"
   ]
  },
  {
   "cell_type": "code",
   "execution_count": null,
   "metadata": {},
   "outputs": [],
   "source": [
    "def daily_precip(*args):\n",
    "    '''This function calculates total rainfall of any number of arguments\n",
    "    \n",
    "    Arguments:\n",
    "        hourly rain totals\n",
    "    Returns:\n",
    "        Total precipitation\n",
    "    '''\n",
    "    result = 0\n",
    "    for arg in args:\n",
    "        result = result + arg\n",
    "    return result"
   ]
  },
  {
   "cell_type": "code",
   "execution_count": null,
   "metadata": {},
   "outputs": [],
   "source": [
    "daily_precip(12, 20, 33)"
   ]
  },
  {
   "cell_type": "code",
   "execution_count": null,
   "metadata": {},
   "outputs": [],
   "source": [
    "def daily_precip_list(args):\n",
    "    result = 0\n",
    "    for arg in args:\n",
    "        result = result + arg\n",
    "    return result"
   ]
  },
  {
   "cell_type": "code",
   "execution_count": null,
   "metadata": {},
   "outputs": [],
   "source": [
    "hourly_precip = [0, 12, 20, 33]\n",
    "daily_precip_list(hourly_precip)"
   ]
  },
  {
   "cell_type": "markdown",
   "metadata": {},
   "source": [
    "## 4.10 Dictionaries"
   ]
  },
  {
   "cell_type": "code",
   "execution_count": null,
   "metadata": {},
   "outputs": [],
   "source": [
    "ocean_units = {\n",
    "  \"temperature\": \"C\",\n",
    "  \"velocity\": \"cm/s^2\",\n",
    "  \"density\": \"kg/m^3\",\n",
    "  \"pressure\" : \"dbar\",\n",
    "  \"salinity\" : \"ppt\"\n",
    "}\n",
    "ocean_units['pressure']"
   ]
  },
  {
   "cell_type": "code",
   "execution_count": null,
   "metadata": {},
   "outputs": [],
   "source": [
    "ocean_units.update({\"salinity\" : \"ppt\"})"
   ]
  },
  {
   "cell_type": "code",
   "execution_count": null,
   "metadata": {},
   "outputs": [],
   "source": [
    "ocean_units.items()"
   ]
  },
  {
   "cell_type": "code",
   "execution_count": null,
   "metadata": {},
   "outputs": [],
   "source": [
    "def print_units(**kwargs):\n",
    "    # Prints the variable and its units in a complete sentence\n",
    "    for key, value in kwargs.items():\n",
    "        print(\"The units for \" + key + \" are \" + value)\n",
    "\n",
    "print_units(**ocean_units)"
   ]
  },
  {
   "cell_type": "code",
   "execution_count": null,
   "metadata": {},
   "outputs": [],
   "source": []
  }
 ],
 "metadata": {
  "kernelspec": {
   "display_name": "earthsciviz",
   "language": "python",
   "name": "python3"
  },
  "language_info": {
   "codemirror_mode": {
    "name": "ipython",
    "version": 3
   },
   "file_extension": ".py",
   "mimetype": "text/x-python",
   "name": "python",
   "nbconvert_exporter": "python",
   "pygments_lexer": "ipython3",
   "version": "3.9.15"
  },
  "vscode": {
   "interpreter": {
    "hash": "48fc10cb14791ea88ba2696b1818b1bf7d4d99ed63d4104785d39779bf72a716"
   }
  }
 },
 "nbformat": 4,
 "nbformat_minor": 2
}
